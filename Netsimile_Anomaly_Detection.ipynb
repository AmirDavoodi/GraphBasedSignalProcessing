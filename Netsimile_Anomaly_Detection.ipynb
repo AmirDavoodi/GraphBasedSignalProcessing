{
 "cells": [
  {
   "cell_type": "code",
   "execution_count": 29,
   "metadata": {},
   "outputs": [],
   "source": [
    "import networkx as nx\n",
    "import statistics\n",
    "import scipy.stats\n",
    "import scipy.spatial.distance\n",
    "import matplotlib.pyplot as plt\n",
    "import os\n",
    "import sys"
   ]
  },
  {
   "cell_type": "code",
   "execution_count": 30,
   "metadata": {},
   "outputs": [],
   "source": [
    "\n",
    "\n",
    "\n",
    "# Given a NeworkX graph, determines the degree of each node \n",
    "# graph: NetworkX graph\n",
    "# returns a dictionary of node:degree pairs\n",
    "def get_degree(graph):\n",
    "   deg_dict = {node: graph.degree(node) for node in graph.nodes()} \n",
    "   return deg_dict\n",
    "\n",
    "\n",
    "# Given a NeworkX graph, determines the clustering coefficientof each node \n",
    "# graph: NetworkX graph\n",
    "# Returns a dictionary of node:clustering coefficient pairs\n",
    "def get_cc(graph):\n",
    "    cc_dict  ={node: nx.clustering(graph,node) for node in graph.nodes()}\n",
    "    return cc_dict\n",
    "\n",
    "# Given a NeworkX graph, determines the average number of two hop neighbors (thn)\n",
    "# of each node \n",
    "# graph: NetworkX graph\n",
    "# Returns a dictionary of node:thn pairs\n",
    "def get_thn(graph):\n",
    "    thn_dict = {}\n",
    "    for node in graph.nodes():\n",
    "        neighbors = nx.all_neighbors(graph, node)\n",
    "        mean_neighbor_degree = statistics.mean([nx.degree(graph, neighbor) for neighbor in neighbors])\n",
    "        thn_dict[node] = mean_neighbor_degree\n",
    "    return thn_dict\n",
    "\n",
    "# Given a NeworkX graph, determines the average clustering coefficient of each \n",
    "# node's neighbors (ncc)\n",
    "# graph: NetworkX graph\n",
    "# Returns a dictionary of node:ncc pairs\n",
    "def get_ncc(graph):\n",
    "    ncc_dict = {}\n",
    "    for node in graph.nodes():\n",
    "        neighbors = nx.all_neighbors(graph, node)\n",
    "        ncc = statistics.mean([nx.clustering(graph, neighbor) for neighbor in neighbors])\n",
    "        ncc_dict[node] = ncc\n",
    "    return ncc_dict\n",
    "\n",
    "# Given a NeworkX graph, determines the number of edges in each node's egonet\n",
    "# of each node (ee)\n",
    "# graph: NetworkX graph\n",
    "# Returns a dictionary of node:ncc pairs\n",
    "def get_ee(graph):\n",
    "    ee_dict = {node: len(nx.ego_graph(graph, node).edges()) for node in graph.nodes()}\n",
    "    return ee_dict\n",
    "\n",
    "# Given a NeworkX graph, determines the number of outgoing edges extending from the \n",
    "# egonet of each node (eeo)\n",
    "# graph: NetworkX graph\n",
    "# Returns a dictionary of node:eeo pairs\n",
    "def get_eeo(graph):\n",
    "    eeo_dict = {}\n",
    "    for node in graph.nodes():\n",
    "        src_nodes = set(nx.all_neighbors(graph, node))\n",
    "        src_nodes.add(node)\n",
    "        num_out_edges = 0\n",
    "        for src_node in src_nodes:\n",
    "            dst_nodes = set(nx.all_neighbors(graph,src_node))\n",
    "            new_out_edges = dst_nodes.difference(src_nodes)\n",
    "            num_out_edges += len(new_out_edges)\n",
    "        eeo_dict[node] = num_out_edges\n",
    "    return eeo_dict\n",
    "\n",
    "# Given a NeworkX graph, determines the number of neighbors of each node's egonet (egn)\n",
    "# graph: NetworkX graph\n",
    "# Returns a dictionary of node:egn pairs\n",
    "def get_egn(graph):\n",
    "    egn_dict = {}\n",
    "    for node in graph.nodes():\n",
    "        egonet = set(nx.all_neighbors(graph, node))\n",
    "        egonet.add(node)\n",
    "        egonet_neighbors = set()\n",
    "        for ego_node in egonet:\n",
    "            neighbors = set(nx.all_neighbors(graph,ego_node))\n",
    "            egonet_neighbors = egonet_neighbors.union(neighbors)\n",
    "        filtered_neighbors = egonet_neighbors.difference(egonet)\n",
    "        egn_dict[node] = len(filtered_neighbors)\n",
    "\n",
    "    return egn_dict\n",
    "\n",
    "# Given a NeworkX graph, performs the feature aggregation described in the NetSimile \n",
    "# algorithm\n",
    "# graph: NetworkX graph\n",
    "# Returns a feature signature vector for the graph\n",
    "def aggregate_features(graph):\n",
    "    f1 = get_degree(graph)\n",
    "    f2 = get_cc(graph)\n",
    "    f3 = get_thn(graph)   \n",
    "    f4 = get_ncc(graph)   \n",
    "    f5 = get_ee(graph)   \n",
    "    f6 = get_eeo(graph)   \n",
    "    f7 = get_egn(graph)   \n",
    "    feature_matrix = [[f1[u], f2[u], f3[u], f4[u], f5[u], f6[u], f7[u]] for u in graph.nodes()]\n",
    "    signature = []\n",
    "    for feature in range(0, len(feature_matrix[0])):\n",
    "        mean = statistics.mean([feature_matrix[row][feature] for row in range(0,len(feature_matrix))])\n",
    "        median = statistics.median([feature_matrix[row][feature] for row in range(0,len(feature_matrix))])\n",
    "        stdev = statistics.stdev([feature_matrix[row][feature] for row in range(0,len(feature_matrix))])\n",
    "        skewness = scipy.stats.skew([feature_matrix[row][feature] for row in range(0,len(feature_matrix))])\n",
    "        kurtosis = scipy.stats.kurtosis([feature_matrix[row][feature] for row in range(0,len(feature_matrix))])\n",
    "        feature_set = [mean,median,stdev,skewness,kurtosis]\n",
    "        signature += feature_set\n",
    "    return signature\n",
    "\n",
    "# Given a time series of distances between adjacent veectors, returns the calculated\n",
    "# threshold for identifying out of family measurements,\n",
    "# distances: a list of distances between adjacent vectors\n",
    "# Returns a tuple of lower and upper thresholds\n",
    "def get_thresholds(distances):\n",
    "    moving_range = 0\n",
    "    for i in range(0, len(distances) - 1):\n",
    "        moving_range += abs(distances[i] - distances[i+1])\n",
    "    moving_range_avg = moving_range / (len(distances) - 1)\n",
    "    median = statistics.median(distances)\n",
    "    return (median - (3 * moving_range_avg), median + (3 * moving_range_avg))\n",
    "\n",
    "# Given the relative path to a directory of edgelists, reads each edgelist one-\n",
    "# by-one, and builds a NetworkX graph.  \n",
    "# input_directory: relative path to directory of graph files\n",
    "# Returns a list of graphs sorted by name index\n",
    "def read_files(input_directory):\n",
    "    graphs = {}\n",
    "    sorted_graphs = []\n",
    "    listing = os.listdir(input_directory)\n",
    "    file_count = len(listing)\n",
    "    file_index = 1\n",
    "    for file in listing:\n",
    "        path = input_directory + file\n",
    "        id = int(file.split('_')[0])\n",
    "        graphs[id] = read_graph(path)\n",
    "        show_progress('Reading graphs: ',file_index, file_count)\n",
    "        file_index += 1\n",
    "    print('')\n",
    "    sorted_keys = sorted(graphs)\n",
    "    for key in sorted_keys:\n",
    "        sorted_graphs.append(graphs[key])\n",
    "    return sorted_graphs\n",
    "\n",
    "# Given a file path, reads the file and returns a NetworkX graph \n",
    "# infile: full path to an edgelist\n",
    "# Note: This method ignores the first line as the node/edge count\n",
    "# is not used for NetworkX\n",
    "# Returns a NetworkX graph\n",
    "def read_graph(infile):\n",
    "    file = open(infile, 'r')\n",
    "    \n",
    "    # throw away first line\n",
    "    file.readline()\n",
    "\n",
    "    graph=nx.parse_edgelist(file, nodetype=int)\n",
    "    return graph\n",
    "\n",
    "# Given a time series of distances between adjacent signature vectors,\n",
    "# a threshold, writes a graph image to the specified imagefile.\n",
    "# distances: a list of distances between adjacent vectors\n",
    "# UCL: upper threshold for determining out of family values\n",
    "# imagefile: output file\n",
    "def draw_plot(distances, UCL, imagefile):\n",
    "    fig = plt.figure()\n",
    "    plt.plot(distances, '-+')\n",
    "    plt.axhline(y=UCL,c='g')\n",
    "    plt.title('Similarity (Canberra Distance) vs Time for P2P-Gnutella Data')\n",
    "    plt.xlabel('Time')\n",
    "    plt.ylabel(\"Similarity\")\n",
    "    #plt.show()\n",
    "    plt.savefig(imagefile)\n",
    "\n",
    "# Given a time series of distances between adjacent signature vectors,\n",
    "# and an output data file, writes a summary to the datafile.\n",
    "# distances: a list of distances between adjacent vectors\n",
    "# datafile: output data file\n",
    "def write_data(distances, datafile):\n",
    "    file = open(datafile,'w')\n",
    "    for index, distance in enumerate(distances):\n",
    "        file.write('%s %s\\n' % (index, distance))\n",
    "    file.close\n",
    "\n",
    "# Given the current progress of an incrementer, prints a percentage\n",
    "# progress to stdout.\n",
    "# state: string representing current operation\n",
    "# index: current index of incrementer\n",
    "# count: end index of incrementer\n",
    "def show_progress(state,index, count):\n",
    "    percentage = float(index) / float(count) * 100\n",
    "    sys.stdout.write('\\r%s %d%% Complete' % (state, percentage))\n",
    "    sys.stdout.flush()"
   ]
  },
  {
   "cell_type": "code",
   "execution_count": 4,
   "metadata": {},
   "outputs": [
    {
     "data": {
      "text/plain": [
       "2081"
      ]
     },
     "execution_count": 4,
     "metadata": {},
     "output_type": "execute_result"
    }
   ],
   "source": [
    "%reload_ext autoreload\n",
    "%autoreload\n",
    "%matplotlib inline\n",
    "from myHelper import timing\n",
    "from myHelper import GraphSignalHelper\n",
    "import numpy as np\n",
    "from myHelper import db_helper\n",
    "\n",
    "DB_dir ='./mitbih-database/'\n",
    "p_id = '106'\n",
    "r_detect = 'two_aver'\n",
    "    \n",
    "data_df = db_helper.read_heartbeat_database(DB_dir, p_id, nRowsRead=None)\n",
    "annotations_df = db_helper.read_annotation_database(DB_dir, p_id)\n",
    "\n",
    "# downsampling the signal\n",
    "downstep = 8\n",
    "(downsp_data_df, downsp_annotations_df) = GraphSignalHelper.downsample(data_df,\n",
    "                                                               annotations_df,\n",
    "                                                               downstep)\n",
    "# split the the signal into heartbeat using the R-peak detection\n",
    "heart_beats, hbs_annotations = GraphSignalHelper.heartbeat_spliting(downsp_data_df, \n",
    "                                                    downsp_annotations_df,\n",
    "                                                    R_detector=r_detect,\n",
    "                                                    fs = (360 / downstep))\n",
    "# labeling heartbeats by looking at their annotations into \n",
    "# (-1) or (1) for Anomalous or Normal\n",
    "hb_labels = GraphSignalHelper.anomaly_labels(hbs_annotations)\n",
    "\n",
    "\n",
    "graph_stream, graph_stream_labels = GraphSignalHelper.generate_graph_stream(heart_beats, \n",
    "                                                                            hb_labels)\n",
    "len(graph_stream)\n",
    "# 2081"
   ]
  },
  {
   "cell_type": "code",
   "execution_count": 5,
   "metadata": {},
   "outputs": [
    {
     "data": {
      "text/plain": [
       "<networkx.classes.graph.Graph at 0x120cdeb20>"
      ]
     },
     "execution_count": 5,
     "metadata": {},
     "output_type": "execute_result"
    }
   ],
   "source": [
    "# sorted_graphs = []\n",
    "graph_stream[0]"
   ]
  },
  {
   "cell_type": "code",
   "execution_count": 10,
   "metadata": {},
   "outputs": [
    {
     "name": "stdout",
     "output_type": "stream",
     "text": [
      "Aggregating features:  100% Complete"
     ]
    }
   ],
   "source": [
    "graphs = []\n",
    "signatures = []\n",
    "distances = []\n",
    "anomalies = []\n",
    "\n",
    "sorted_graphs = []\n",
    "sorted_keys = sorted(graph_stream)\n",
    "for key in sorted_keys:\n",
    "    sorted_graphs.append(graph_stream[key])\n",
    "    \n",
    "graphs = sorted_graphs\n",
    "\n",
    "for index, graph in enumerate(graphs):\n",
    "    signature = aggregate_features(graph)\n",
    "    signatures.append(signature)\n",
    "    show_progress('Aggregating features: ',index + 1, len(graphs))"
   ]
  },
  {
   "cell_type": "code",
   "execution_count": 11,
   "metadata": {},
   "outputs": [
    {
     "data": {
      "text/plain": [
       "2081"
      ]
     },
     "execution_count": 11,
     "metadata": {},
     "output_type": "execute_result"
    }
   ],
   "source": [
    "len(signatures)"
   ]
  },
  {
   "cell_type": "code",
   "execution_count": 12,
   "metadata": {},
   "outputs": [],
   "source": [
    "for i in range(0, len(signatures) - 1):\n",
    "    distance = abs(scipy.spatial.distance.canberra(signatures[i], signatures[i+1]))\n",
    "    distances.append(distance)"
   ]
  },
  {
   "cell_type": "code",
   "execution_count": 13,
   "metadata": {},
   "outputs": [
    {
     "data": {
      "text/plain": [
       "2080"
      ]
     },
     "execution_count": 13,
     "metadata": {},
     "output_type": "execute_result"
    }
   ],
   "source": [
    "len(distances)"
   ]
  },
  {
   "cell_type": "code",
   "execution_count": 20,
   "metadata": {},
   "outputs": [
    {
     "name": "stderr",
     "output_type": "stream",
     "text": [
      "<ipython-input-20-9bedc2228427>:1: VisibleDeprecationWarning: Passing `normed=True` on non-uniform bins has always been broken, and computes neither the probability density function nor the probability mass function. The result is only correct if the bins are uniform, when density=True will produce the same result anyway. The argument will be removed in a future version of numpy.\n",
      "  hist, bins = np.histogram(distances, bins=200, normed=True)\n"
     ]
    },
    {
     "data": {
      "text/plain": [
       "[<matplotlib.lines.Line2D at 0x12a50a070>]"
      ]
     },
     "execution_count": 20,
     "metadata": {},
     "output_type": "execute_result"
    },
    {
     "data": {
      "image/png": "[encoded data removed]",
      "text/plain": [
       "<Figure size 432x288 with 1 Axes>"
      ]
     },
     "metadata": {
      "needs_background": "light"
     },
     "output_type": "display_data"
    }
   ],
   "source": [
    "hist, bins = np.histogram(distances, bins=200, normed=True)\n",
    "bin_centers = (bins[1:]+bins[:-1])*0.5\n",
    "plt.plot(bin_centers, hist)"
   ]
  },
  {
   "cell_type": "code",
   "execution_count": 21,
   "metadata": {},
   "outputs": [],
   "source": [
    "LCL, UCL = get_thresholds(distances)"
   ]
  },
  {
   "cell_type": "markdown",
   "metadata": {},
   "source": [
    "# Threshold maybe have to be modified\n",
    "I am not sure"
   ]
  },
  {
   "cell_type": "code",
   "execution_count": 22,
   "metadata": {},
   "outputs": [],
   "source": [
    "for i in range(0, len(distances) - 1):\n",
    "    if distances[i] >= UCL and distances[i+1] >= UCL:\n",
    "        anomalies.append(i+1)\n"
   ]
  },
  {
   "cell_type": "code",
   "execution_count": 28,
   "metadata": {},
   "outputs": [
    {
     "data": {
      "text/plain": [
       "array([ 1,  1,  1, -1])"
      ]
     },
     "execution_count": 28,
     "metadata": {},
     "output_type": "execute_result"
    }
   ],
   "source": [
    "graph_stream_labels[98:102]"
   ]
  },
  {
   "cell_type": "code",
   "execution_count": 25,
   "metadata": {},
   "outputs": [
    {
     "data": {
      "text/plain": [
       "[110,\n",
       " 148,\n",
       " 151,\n",
       " 203,\n",
       " 889,\n",
       " 945,\n",
       " 1041,\n",
       " 1120,\n",
       " 1135,\n",
       " 1214,\n",
       " 1273,\n",
       " 1300,\n",
       " 1301,\n",
       " 1416,\n",
       " 1460,\n",
       " 1467,\n",
       " 1774,\n",
       " 1810,\n",
       " 1871,\n",
       " 1914,\n",
       " 1928,\n",
       " 1971,\n",
       " 2006,\n",
       " 2021]"
      ]
     },
     "execution_count": 25,
     "metadata": {},
     "output_type": "execute_result"
    }
   ],
   "source": [
    "[i for i in anomalies ]"
   ]
  },
  {
   "cell_type": "code",
   "execution_count": 45,
   "metadata": {},
   "outputs": [
    {
     "name": "stdout",
     "output_type": "stream",
     "text": [
      "\n",
      "Anomalies based on threshold of 15.066965175807786:\n"
     ]
    }
   ],
   "source": [
    "sys.stdout.write('\\nAnomalies based on threshold of %s:\\n' % UCL)"
   ]
  },
  {
   "cell_type": "code",
   "execution_count": 46,
   "metadata": {},
   "outputs": [
    {
     "name": "stdout",
     "output_type": "stream",
     "text": [
      "\n",
      "Anomalies based on threshold of 15.066965175807786:\n",
      "110\n",
      "148\n",
      "151\n",
      "203\n",
      "889\n",
      "945\n",
      "1041\n",
      "1120\n",
      "1135\n",
      "1214\n",
      "1273\n",
      "1300\n",
      "1301\n",
      "1416\n",
      "1460\n",
      "1467\n",
      "1774\n",
      "1810\n",
      "1871\n",
      "1914\n",
      "1928\n",
      "1971\n",
      "2006\n",
      "2021\n"
     ]
    }
   ],
   "source": [
    "sys.stdout.write('\\nAnomalies based on threshold of %s:\\n' % UCL)\n",
    "for anomaly in anomalies:\n",
    "    print(anomaly)\n",
    "if len(anomalies) == 0:\n",
    "    print('No anomalies detected.')"
   ]
  },
  {
   "cell_type": "code",
   "execution_count": null,
   "metadata": {},
   "outputs": [],
   "source": [
    "graphs = []\n",
    "signatures = []\n",
    "distances = []\n",
    "anomalies = []\n",
    "\n",
    "graphs = read_files(input_directory)\n",
    "\n",
    "for index, graph in enumerate(graphs):\n",
    "    signature = aggregate_features(graph)\n",
    "    signatures.append(signature)\n",
    "    show_progress('Aggregating features: ',index + 1, len(graphs))\n",
    "\n",
    "for i in range(0, len(signatures) - 1):\n",
    "    distance = abs(scipy.spatial.distance.canberra(signatures[i], signatures[i+1]))\n",
    "    distances.append(distance)\n",
    "LCL, UCL = get_thresholds(distances)\n",
    "\n",
    "for i in range(0, len(distances) - 1):\n",
    "    if distances[i] >= UCL and distances[i+1] >= UCL:\n",
    "        anomalies.append(i+1)\n",
    "\n",
    "sys.stdout.write('\\nAnomalies based on threshold of %s:\\n' % UCL)\n",
    "for anomaly in anomalies:\n",
    "    print anomaly\n",
    "if len(anomalies) == 0:\n",
    "    print 'No anomalies detected.'\n",
    "\n",
    "write_data(distances, data_outfile)\n",
    "\n",
    "draw_plot(distances, UCL, image_outfile)"
   ]
  },
  {
   "cell_type": "code",
   "execution_count": null,
   "metadata": {},
   "outputs": [],
   "source": []
  }
 ],
 "metadata": {
  "kernelspec": {
   "display_name": "Python 3",
   "language": "python",
   "name": "python3"
  },
  "language_info": {
   "codemirror_mode": {
    "name": "ipython",
    "version": 3
   },
   "file_extension": ".py",
   "mimetype": "text/x-python",
   "name": "python",
   "nbconvert_exporter": "python",
   "pygments_lexer": "ipython3",
   "version": "3.8.5"
  }
 },
 "nbformat": 4,
 "nbformat_minor": 4
}
