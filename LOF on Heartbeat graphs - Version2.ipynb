{
 "cells": [
  {
   "cell_type": "markdown",
   "metadata": {},
   "source": [
    "# Unsupervised Outlier Detection on Heartbeat graphs\n",
    "\n",
    "I am using Local Outlier Factor (LOF) method and k-nearest neighbors to do anomaly detection on the graph representation of the heart beat signal.\n",
    "\n",
    "This notebook, is completing the final step of our pipeline and combining the steps and results of <code>MIT-BIH-Kaggle</code> notebook with <code>KNN_AnomalyDetection_OnGraphs</code> to have a complete process from a raw signal to detect anomalies for each heartbeat of the signal using its coresponding graph.\n",
    "\n",
    "The outlies are the followings:\n",
    "1. Create graph stream from the original signal.\n",
    "2. Compute the pairwise distance between each two graphs and produce the distance matrix using Graph edit distance.\n",
    "3. Feed the distance matrix for our graph stream into a Local Outlier Factor (LOF) model and detect the abnormal graphs (Each graph corespond to a heartbeat).\n",
    "4. Compare the detected graph with the ground truth, The actual label of the heartbeat is labeled by expert Cardialogists, and compute the accuracy of our model."
   ]
  },
  {
   "cell_type": "markdown",
   "metadata": {},
   "source": [
    "## 1. Graph stream from the original signal.\n",
    "Lets generate our graph stream from the **MIT-BIH** dataset using the helper functions which implemented  in <code>MIT-BIH-Kaggle</code>."
   ]
  },
  {
   "cell_type": "code",
   "execution_count": 36,
   "metadata": {},
   "outputs": [
    {
     "data": {
      "text/plain": [
       "221"
      ]
     },
     "execution_count": 36,
     "metadata": {},
     "output_type": "execute_result"
    }
   ],
   "source": [
    "%reload_ext autoreload\n",
    "%autoreload\n",
    "%matplotlib inline\n",
    "from myHelper import timing\n",
    "from myHelper import GraphSignalHelper\n",
    "\n",
    "data_df = GraphSignalHelper.read_heartbeat_database(name='100', nRowsRead=65000)\n",
    "annotations_df = GraphSignalHelper.read_annotation_database(name='100')\n",
    "\n",
    "# downsampling the signal\n",
    "downstep = 8\n",
    "(downsp_data_df, downsp_annotations_df) = GraphSignalHelper.downsample(data_df,\n",
    "                                                                       annotations_df,\n",
    "                                                                       downstep)\n",
    "\n",
    "\n",
    "graph_stream, graph_stream_labels = GraphSignalHelper.generate_graph_stream(downsp_data_df, \n",
    "                                                                            downsp_annotations_df, \n",
    "                                                                            fs = (360 / downstep))\n",
    "len(graph_stream)\n",
    "# 2272\n",
    "\n",
    "# graph_stream_labels[1]['Type']\n",
    "# 2    N\n",
    "# 3    N"
   ]
  },
  {
   "cell_type": "code",
   "execution_count": 37,
   "metadata": {},
   "outputs": [
    {
     "name": "stdout",
     "output_type": "stream",
     "text": [
      "Name: \n",
      "Type: Graph\n",
      "Number of nodes: 36\n",
      "Number of edges: 145\n",
      "Average degree:   8.0556\n"
     ]
    }
   ],
   "source": [
    "import networkx as nx\n",
    "print(nx.info(graph_stream[0]))"
   ]
  },
  {
   "cell_type": "markdown",
   "metadata": {},
   "source": [
    "## 2. Calculate gragh edit distance matrix\n",
    "Compute the pairwise distance between each two graphs and produce the distance matrix using Graph edit distance."
   ]
  },
  {
   "cell_type": "code",
   "execution_count": 27,
   "metadata": {},
   "outputs": [
    {
     "name": "stdout",
     "output_type": "stream",
     "text": [
      "GED_distance_matrix took 99258.50796699524   mil sec\n",
      "precomputed distance matrix =\n",
      " [[ 0.  63.  51.5 ... 55.5 51.  63.5]\n",
      " [63.   0.  60.  ... 64.  54.  56.5]\n",
      " [51.5 60.   0.  ... 47.  35.  65.5]\n",
      " ...\n",
      " [55.5 64.  47.  ...  0.  50.5 61.5]\n",
      " [51.  54.  35.  ... 50.5  0.  66. ]\n",
      " [63.5 56.5 65.5 ... 61.5 66.   0. ]]\n"
     ]
    }
   ],
   "source": [
    "from myHelper import timing\n",
    "\n",
    "# Gmatch4py use networkx graph \n",
    "import networkx as nx \n",
    "# import the GED using the munkres algorithm\n",
    "import gmatch4py as gm\n",
    "\n",
    "\n",
    "@timing.time_it\n",
    "def GED_distance_matrix(graph_series):\n",
    "    # convert from dictionary of graphs to list of graphs\n",
    "    graph_stream_list = [v for k, v in graph_stream.items()] \n",
    "    ged=gm.GraphEditDistance(1,1,1,1) # all edit costs are equal to 1\n",
    "    non_symetric_GED_matrix=ged.compare(graph_stream_list,None)\n",
    "    symetric_ged_matrix = (non_symetric_GED_matrix.transpose()+non_symetric_GED_matrix)/2\n",
    "    return symetric_ged_matrix\n",
    "\n",
    "distance_matrix = GED_distance_matrix(graph_stream)\n",
    "print(\"precomputed distance matrix =\\n\",distance_matrix)\n"
   ]
  },
  {
   "cell_type": "code",
   "execution_count": 28,
   "metadata": {},
   "outputs": [],
   "source": [
    "# np.save('Distance_matrix_223_graph', distance_matrix) # save the file as \"Distance_matrix_223_graph.npy\" "
   ]
  },
  {
   "cell_type": "markdown",
   "metadata": {},
   "source": [
    "## 3. Anomaly detection on graphs using distance matrix\n",
    "Feed the distance matrix for our graph stream into a Local Outlier Factor (LOF) model and detect the abnormal graphs (Each graph corespond to a heartbeat)."
   ]
  },
  {
   "cell_type": "code",
   "execution_count": 29,
   "metadata": {},
   "outputs": [
    {
     "name": "stdout",
     "output_type": "stream",
     "text": [
      "outlier prediction (-1 = abnormal, 1 = normal) \n",
      "\n",
      " [ 1  1  1  1  1  1  1 -1  1  1  1  1  1  1  1  1  1  1  1  1  1  1  1  1\n",
      "  1  1  1  1  1  1  1  1  1  1  1  1  1  1  1  1  1  1  1  1  1  1  1  1\n",
      "  1  1  1  1  1  1  1  1  1  1  1  1  1  1  1  1  1  1  1  1  1  1  1  1\n",
      "  1  1  1  1  1  1  1  1  1  1  1  1  1  1  1  1  1  1  1  1  1  1  1  1\n",
      "  1  1  1  1  1  1  1  1  1  1  1  1  1  1  1  1  1  1  1  1  1  1  1  1\n",
      "  1  1  1  1  1  1  1  1  1  1  1  1  1  1  1  1  1  1  1  1  1  1  1  1\n",
      "  1  1  1  1  1  1  1  1  1  1  1  1  1  1  1  1  1  1  1  1  1  1  1  1\n",
      "  1  1  1  1  1  1  1  1  1  1  1  1  1  1  1  1  1  1  1  1  1  1  1  1\n",
      "  1  1  1  1  1  1  1  1  1  1  1  1  1  1  1  1  1  1  1  1  1  1  1  1\n",
      "  1  1  1  1  1]\n",
      "\n",
      " Outlier threshold =  1.5\n",
      "\n",
      " Outlier scores (1 = normal, 1 >> abnormal)= \n",
      " \n",
      " [1.09060403 1.07462225 0.99333333 1.06606304 1.01620284 1.28313492\n",
      " 1.45380633 1.81024984 0.98878272 1.05794486 1.06       1.07971586\n",
      " 1.10791045 1.00662119 1.0365228  1.0612918  1.08525055 1.07792208\n",
      " 1.0518804  1.03719512 1.11273803 1.12210033 1.00787766 1.00346939\n",
      " 1.01898734 1.00760563 1.0980695  1.00944098 1.04518072 1.17141226\n",
      " 0.99206349 0.96598639 1.01626842 1.01608768 1.02484472 1.08644794\n",
      " 1.00916667 1.00625    1.075      1.17591287 1.00408805 1.02644344\n",
      " 1.02793296 1.02828141 1.05172414 0.99716083 1.00993377 1.10154905\n",
      " 0.97078843 1.04492285 1.07407407 1.05748312 0.99421965 1.29047819\n",
      " 0.99       1.01760563 1.13204791 1.00877193 0.97368421 1.00877193\n",
      " 0.97935559 1.07024609 1.01828859 1.02922078 1.04545455 1.01612903\n",
      " 1.15088976 1.00003303 1.13910862 1.00850851 1.06432749 1.0398773\n",
      " 1.00578035 1.02601156 1.01694942 1.031815   1.08007092 1.05679074\n",
      " 0.99904354 1.01955307 0.984375   0.99852384 0.96914822 1.02877698\n",
      " 1.02791746 0.93848321 0.99147768 1.35508736 1.10215054 1.06935434\n",
      " 0.97468354 1.00993377 1.08550354 1.02029843 1.06790123 1.00805014\n",
      " 1.04029216 1.01183432 1.06802721 0.99382716 1.04972994 1.06122974\n",
      " 1.02746378 1.02453988 1.02531646 1.00675676 1.12405081 1.0671334\n",
      " 0.97392123 1.03775144 1.02906977 1.04125616 1.00865391 1.02708333\n",
      " 1.1120777  1.03317659 0.97768199 1.00318819 1.03977273 1.01624373\n",
      " 1.00675676 1.15410396 1.00673308 0.97178243 1.03655788 1.01612903\n",
      " 1.05540256 1.13596212 0.96208368 1.089707   1.10204971 1.03489846\n",
      " 0.96166342 1.06025623 1.06315076 0.96929457 0.99399351 1.04283802\n",
      " 1.00645285 1.00628931 1.01200739 1.01726776 1.03919365 1.09416446\n",
      " 1.05555556 1.02484472 0.99470899 1.01591919 1.00613497 1.1702431\n",
      " 1.10625    1.00935559 1.1019721  1.0304878  1.06918239 1.43098592\n",
      " 1.43098592 1.05298013 1.06051165 1.04777577 1.10369318 0.99747545\n",
      " 1.01912228 0.98055028 0.97895408 1.05782313 1.07045455 1.06462585\n",
      " 1.02870579 1.11997886 1.08365449 1.18707836 1.07599247 0.96914822\n",
      " 1.01582278 1.02828687 0.93496985 1.00028736 0.99359307 1.01428571\n",
      " 1.07034632 1.03581871 1.00617284 1.04985145 0.99126207 1.03710575\n",
      " 1.07534247 0.96647887 1.02390271 1.15417336 1.12426036 0.97981466\n",
      " 1.05016772 1.00043422 0.97483974 1.09146341 1.08809993 1.10330375\n",
      " 1.04091926 0.97355941 0.99490382 1.10071429 1.06626016 1.02233636\n",
      " 1.06215278 0.98121929 1.13022006 0.98517188 0.94557823 1.05629139\n",
      " 0.98387097 1.1539961  1.06158088 1.0000286  1.25755641 1.0349187\n",
      " 1.00207039 0.97259063 1.03333333 1.02857143 1.00880305]\n"
     ]
    }
   ],
   "source": [
    "import numpy as np\n",
    "from sklearn.neighbors import LocalOutlierFactor\n",
    "\n",
    "clf = LocalOutlierFactor(n_neighbors=2,\n",
    "                         algorithm=\"brute\",\n",
    "                         metric=\"precomputed\",\n",
    "#                          contamination=0.01, # the proportion of outliers in the data set float \n",
    "                         contamination='auto', # the proportion of outliers in the data set float \n",
    "                         novelty=False, # novelty=True if you want to use LOF for novelty \n",
    "                                        # detection and predict on new unseen data\n",
    "                         n_jobs=None)\n",
    "\n",
    "clf.fit(X=distance_matrix)\n",
    "\n",
    "\n",
    "# predict on training data\n",
    "# Fits the model to the training set X and returns the labels.\n",
    "outlier_prediction = clf.fit_predict(X=distance_matrix)\n",
    "print(\"outlier prediction (-1 = abnormal, 1 = normal) \\n\\n\",\n",
    "      outlier_prediction)\n",
    "\n",
    "# Fit the model using X as training data.\n",
    "clf.fit(X=distance_matrix)\n",
    "\n",
    "# Observations having a negative_outlier_factor smaller than offset_ are detected as abnormal.\n",
    "# The offset is set to -1.5 (inliers score around -1), except when\n",
    "# a contamination parameter different than “auto” is provided.\n",
    "print(\"\\n Outlier threshold = \", -(clf.offset_))\n",
    "\n",
    "\n",
    "# Only available for novelty detection (when novelty is set to True).\n",
    "# The shift offset allows a zero threshold for being an outlier.\n",
    "# print(\"decision_function = \", clf.decision_function(X=symetric_result))\n",
    "\n",
    "\n",
    "#  negative_outlier_factor_ndarray shape (n_samples,)\n",
    "#  negative_outlier_factor_ = -1 normal\n",
    "#  negative_outlier_factor_ << -1 abnormal \n",
    "print(\"\\n Outlier scores (1 = normal, 1 >> abnormal)= \\n \\n\", -(clf.negative_outlier_factor_))"
   ]
  },
  {
   "cell_type": "markdown",
   "metadata": {},
   "source": [
    "## 4. Evaluation to the ground truth (labels by Cardiologists)\n",
    "Compare the detected anomaly graphs with the ground truth, The actual label of the heartbeat is labeled by expert Cardialogists, and compute the accuracy of our model."
   ]
  },
  {
   "cell_type": "code",
   "execution_count": 30,
   "metadata": {},
   "outputs": [
    {
     "name": "stdout",
     "output_type": "stream",
     "text": [
      "[1, 1, 1, 1, 1, 1, -1, 1, 1, 1, 1, 1, 1, 1, 1, 1, 1, 1, 1, 1, 1, 1, 1, 1, 1, 1, 1, 1, 1, 1, 1, 1, 1, 1, 1, 1, 1, 1, 1, 1, 1, 1, 1, 1, 1, 1, 1, 1, 1, 1, 1, 1, 1, 1, 1, 1, 1, 1, 1, 1, 1, 1, 1, 1, 1, 1, 1, 1, 1, 1, 1, 1, 1, 1, 1, 1, 1, 1, 1, 1, 1, 1, 1, 1, 1, 1, 1, 1, 1, 1, 1, 1, 1, 1, 1, 1, 1, 1, 1, 1, 1, 1, 1, 1, 1, 1, 1, 1, 1, 1, 1, 1, 1, 1, 1, 1, 1, 1, 1, 1, 1, 1, 1, 1, 1, 1, 1, 1, 1, 1, 1, 1, 1, 1, 1, 1, 1, 1, 1, 1, 1, 1, 1, 1, 1, 1, 1, 1, 1, 1, 1, 1, 1, 1, 1, 1, 1, 1, 1, 1, 1, 1, 1, 1, 1, 1, 1, 1, 1, 1, 1, 1, 1, 1, 1, 1, 1, 1, 1, 1, 1, 1, 1, 1, 1, 1, 1, 1, 1, 1, 1, 1, 1, 1, 1, 1, 1, 1, 1, 1, 1, 1, 1, 1, 1, 1, 1, 1, 1, 1, 1, 1, 1, 1, 1, 1, 1, 1, 1, 1, 1]\n"
     ]
    }
   ],
   "source": [
    "def ground_truth_labels(graph_stream_labels):\n",
    "    '''\n",
    "    Assign the true labels based on the annotations in our database\n",
    "    1 = Normal heartbeat\n",
    "    -1 = Anomalous heartbeat\n",
    "    \n",
    "    --------------------------------------------------------------------------\n",
    "\n",
    "    :param graph_stream_labels: a list of dataframes which can contain zero to \n",
    "    two rows for each heartbeat annotation.\n",
    "    \n",
    "    :return true_labels: list containing the true labels of (1) or (-1)\n",
    "    '''\n",
    "    true_labels = []\n",
    "    for graph_index, graph_annotation in enumerate(graph_stream_labels):\n",
    "        graph_label = 99999\n",
    "        if(len(graph_annotation.index) == 1):\n",
    "            if(graph_annotation.iloc[0]['Type'] == \"N\"):\n",
    "                true_labels.append(1)\n",
    "            else:\n",
    "                true_labels.append(-1)\n",
    "        elif (len(graph_annotation.index) == 2):\n",
    "            if((graph_annotation.iloc[0]['Type'] == \"N\") and (graph_annotation.iloc[1]['Type'] == \"N\")):\n",
    "                true_labels.append(1)\n",
    "            else:\n",
    "                true_labels.append(-1)\n",
    "        elif (len(graph_annotation.index) == 0):\n",
    "            true_labels.append(-1)\n",
    "    return true_labels\n",
    "\n",
    "true_labels = ground_truth_labels(graph_stream_labels)\n",
    "print(true_labels)\n"
   ]
  },
  {
   "cell_type": "code",
   "execution_count": 31,
   "metadata": {},
   "outputs": [
    {
     "name": "stdout",
     "output_type": "stream",
     "text": [
      "Confusion matrix = \n",
      " [[  0   1]\n",
      " [  1 219]]\n",
      "\n",
      "Number of errors =  2\n",
      "\n",
      "accuracy = 0.991\n",
      "precision  0.9955\n",
      "recall  0.9955\n",
      "F1 score on Test 0.9955\n"
     ]
    }
   ],
   "source": [
    "from sklearn.metrics import confusion_matrix\n",
    "import pandas as pd\n",
    "from sklearn.metrics import precision_recall_fscore_support\n",
    "\n",
    "\n",
    "y_true = ground_truth_labels(graph_stream_labels)\n",
    "y_pred = clf.fit_predict(X=distance_matrix)\n",
    "print(\"Confusion matrix = \\n\", confusion_matrix(y_true, y_pred))\n",
    "n_errors = (y_pred != y_true).sum()\n",
    "print('\\nNumber of errors = ', n_errors)\n",
    "print('\\naccuracy =' , round(1 - (n_errors / len(y_true)),4))\n",
    "\n",
    "# #  Note that the ground truth and the y_pred for LOF is different than the original ... inliers = normal = 1 and outliers = fraud = -1\n",
    "# # We have to modify the y_pred for the F1 score calculation\n",
    "\n",
    "# y_predLOF = y_pred.copy()\n",
    "# y_predDF = pd.DataFrame(y_predLOF)\n",
    "# # print(y_predDF[y_predDF[0] == -1].count())\n",
    "\n",
    "# y_predDF[y_predDF[0] == 1] = 0\n",
    "# y_predDF[y_predDF[0] == -1] = 1\n",
    "# # print(y_predDF[y_predDF[0] == 1].count())\n",
    "\n",
    "# y_predLOF = y_predDF.values\n",
    "# y_predLOF = np.ravel(y_predLOF)\n",
    "\n",
    "# F1 Score\n",
    "#print(\"F1 score\", round(f1_score(y_valid,pred, average='binary'), 4))\n",
    "precision,recall,fbeta_score, support  = precision_recall_fscore_support(y_true, y_pred, average='binary')\n",
    "print(\"precision \", round((precision), 4))\n",
    "print(\"recall \", round((recall), 4))\n",
    "print(\"F1 score on Test\", round((fbeta_score), 4))"
   ]
  },
  {
   "cell_type": "code",
   "execution_count": 32,
   "metadata": {},
   "outputs": [
    {
     "data": {
      "image/png": "[encoded data removed]",
      "text/plain": [
       "<matplotlib.figure.Figure at 0x1216dd7b8>"
      ]
     },
     "metadata": {
      "needs_background": "light"
     },
     "output_type": "display_data"
    }
   ],
   "source": [
    "from myHelper import My_confusion_matrix_plotter\n",
    "My_confusion_matrix_plotter.confusion_matrix_plotter(cm           = confusion_matrix(y_true, y_pred), \n",
    "                                                     normalize    = False,\n",
    "                                                     target_names = ['Anonymous Heartbeat', 'Normal Heartbeat'],\n",
    "                                                     title        = \"Confusion Matrix\")"
   ]
  },
  {
   "cell_type": "code",
   "execution_count": 33,
   "metadata": {},
   "outputs": [
    {
     "name": "stdout",
     "output_type": "stream",
     "text": [
      "True Negative (Anomalous) =  0\n",
      "False Negative (Anomalous) = 1\n",
      "False Positive (Normal)= 1\n",
      "True Positive (Normal)= 219\n"
     ]
    }
   ],
   "source": [
    "tn, fp, fn, tp = confusion_matrix(y_true, y_pred).ravel()\n",
    "print('True Negative (Anomalous) = ', tn)\n",
    "print('False Negative (Anomalous) =', fn)\n",
    "print('False Positive (Normal)=', fp)\n",
    "print('True Positive (Normal)=', tp)"
   ]
  },
  {
   "cell_type": "markdown",
   "metadata": {},
   "source": [
    "## Optimize num of neighbors hyper paramter for best F1 score"
   ]
  },
  {
   "cell_type": "code",
   "execution_count": 34,
   "metadata": {},
   "outputs": [
    {
     "data": {
      "text/html": [
       "<div>\n",
       "<style scoped>\n",
       "    .dataframe tbody tr th:only-of-type {\n",
       "        vertical-align: middle;\n",
       "    }\n",
       "\n",
       "    .dataframe tbody tr th {\n",
       "        vertical-align: top;\n",
       "    }\n",
       "\n",
       "    .dataframe thead th {\n",
       "        text-align: right;\n",
       "    }\n",
       "</style>\n",
       "<table border=\"1\" class=\"dataframe\">\n",
       "  <thead>\n",
       "    <tr style=\"text-align: right;\">\n",
       "      <th></th>\n",
       "      <th>NumNeighb</th>\n",
       "      <th>F1</th>\n",
       "    </tr>\n",
       "  </thead>\n",
       "  <tbody>\n",
       "    <tr>\n",
       "      <th>0</th>\n",
       "      <td>2</td>\n",
       "      <td>0.9955</td>\n",
       "    </tr>\n",
       "    <tr>\n",
       "      <th>1</th>\n",
       "      <td>3</td>\n",
       "      <td>0.9909</td>\n",
       "    </tr>\n",
       "    <tr>\n",
       "      <th>2</th>\n",
       "      <td>4</td>\n",
       "      <td>0.9909</td>\n",
       "    </tr>\n",
       "    <tr>\n",
       "      <th>3</th>\n",
       "      <td>5</td>\n",
       "      <td>0.9909</td>\n",
       "    </tr>\n",
       "    <tr>\n",
       "      <th>4</th>\n",
       "      <td>6</td>\n",
       "      <td>0.9909</td>\n",
       "    </tr>\n",
       "  </tbody>\n",
       "</table>\n",
       "</div>"
      ],
      "text/plain": [
       "   NumNeighb      F1\n",
       "0          2  0.9955\n",
       "1          3  0.9909\n",
       "2          4  0.9909\n",
       "3          5  0.9909\n",
       "4          6  0.9909"
      ]
     },
     "execution_count": 34,
     "metadata": {},
     "output_type": "execute_result"
    }
   ],
   "source": [
    "minRE = 2\n",
    "maxRE = 40\n",
    "    \n",
    "EpsF1 = []\n",
    "y_true = ground_truth_labels(graph_stream_labels)\n",
    "\n",
    "for TryRE in range(minRE,maxRE,1):\n",
    "    clf = LocalOutlierFactor(n_neighbors=TryRE,\n",
    "                             algorithm=\"brute\",\n",
    "                             metric=\"precomputed\",\n",
    "                             contamination='auto', # the proportion of outliers in the data set float \n",
    "                             novelty=False, # novelty=True if you want to use LOF for novelty \n",
    "                                            # detection and predict on new unseen data\n",
    "                             n_jobs=None)\n",
    "    \n",
    "    y_pred = clf.fit_predict(X=distance_matrix)\n",
    "    n_errors = (y_pred != y_true).sum()\n",
    "#     print('\\naccuracy =' , round(1 - (n_errors / len(y_true)),4))\n",
    "    \n",
    "#     X_scores = clf.negative_outlier_factor_\n",
    "    \n",
    "    precision,recall,fbeta_score, support  = precision_recall_fscore_support(y_true, y_pred, average='binary')\n",
    "    \n",
    "#     print(\"F1 score on test\", round(fbeta_score,4), \" with num neighbors \", TryRE)\n",
    "    EpsF1.append([TryRE, round(fbeta_score,4)])\n",
    "    \n",
    "EpsF1df = pd.DataFrame(EpsF1, columns = ['NumNeighb', 'F1'])\n",
    "EpsF1df.head()"
   ]
  },
  {
   "cell_type": "code",
   "execution_count": 35,
   "metadata": {},
   "outputs": [
    {
     "data": {
      "image/png": "[encoded data removed]",
      "text/plain": [
       "<matplotlib.figure.Figure at 0x1216ddac8>"
      ]
     },
     "metadata": {
      "needs_background": "light"
     },
     "output_type": "display_data"
    }
   ],
   "source": [
    "from matplotlib import pyplot as plt\n",
    "EpsF1df.plot.line(\"NumNeighb\",\"F1\")\n",
    "plt.xlim(2, 39)\n",
    "plt.title(\"F1 vs NumNeighb\")\n",
    "plt.show()"
   ]
  },
  {
   "cell_type": "markdown",
   "metadata": {},
   "source": [
    "Now I know that the optimal number of neighbors for our case is 2."
   ]
  },
  {
   "cell_type": "markdown",
   "metadata": {},
   "source": [
    "## Compute the ROC and AUC\n",
    "\n",
    "To do:\n",
    "\n",
    "https://scikit-learn.org/stable/modules/generated/sklearn.metrics.roc_auc_score.html\n",
    "\n",
    "https://developers.google.com/machine-learning/crash-course/classification/roc-and-auc"
   ]
  },
  {
   "cell_type": "code",
   "execution_count": null,
   "metadata": {},
   "outputs": [],
   "source": []
  }
 ],
 "metadata": {
  "kernelspec": {
   "display_name": "Python 3",
   "language": "python",
   "name": "python3"
  },
  "language_info": {
   "codemirror_mode": {
    "name": "ipython",
    "version": 3
   },
   "file_extension": ".py",
   "mimetype": "text/x-python",
   "name": "python",
   "nbconvert_exporter": "python",
   "pygments_lexer": "ipython3",
   "version": "3.6.5"
  }
 },
 "nbformat": 4,
 "nbformat_minor": 4
}
