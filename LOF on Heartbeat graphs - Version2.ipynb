{
 "cells": [
  {
   "cell_type": "markdown",
   "metadata": {},
   "source": [
    "# Unsupervised Outlier Detection on Heartbeat graphs\n",
    "\n",
    "I am using Local Outlier Factor (LOF) method and k-nearest neighbors to do anomaly detection on the graph representation of the heart beat signal.\n",
    "\n",
    "This notebook, is completing the final step of our pipeline and combining the steps and results of <code>MIT-BIH-Kaggle</code> notebook with <code>KNN_AnomalyDetection_OnGraphs</code> to have a complete process from a raw signal to detect anomalies for each heartbeat of the signal using its coresponding graph.\n",
    "\n",
    "The outlies are the followings:\n",
    "1. Create graph stream from the original signal.\n",
    "2. Compute the pairwise distance between each two graphs and produce the distance matrix using Graph edit distance.\n",
    "3. Feed the distance matrix for our graph stream into a Local Outlier Factor (LOF) model and detect the abnormal graphs (Each graph corespond to a heartbeat).\n",
    "4. Compare the detected graph with the ground truth, The actual label of the heartbeat is labeled by expert Cardialogists, and compute the accuracy of our model."
   ]
  },
  {
   "cell_type": "markdown",
   "metadata": {},
   "source": [
    "## 1. Graph stream from the original signal.\n",
    "Lets generate our graph stream from the **MIT-BIH** dataset using the helper functions which implemented  in <code>MIT-BIH-Kaggle</code>."
   ]
  },
  {
   "cell_type": "code",
   "execution_count": 13,
   "metadata": {},
   "outputs": [
    {
     "data": {
      "text/plain": [
       "2268"
      ]
     },
     "execution_count": 13,
     "metadata": {},
     "output_type": "execute_result"
    }
   ],
   "source": [
    "%reload_ext autoreload\n",
    "%autoreload\n",
    "%matplotlib inline\n",
    "from myHelper import timing\n",
    "from myHelper import GraphSignalHelper\n",
    "\n",
    "data_df = GraphSignalHelper.read_heartbeat_database(name='100', nRowsRead=None)\n",
    "annotations_df = GraphSignalHelper.read_annotation_database(name='100')\n",
    "\n",
    "# downsampling the signal\n",
    "downstep = 8\n",
    "(downsp_data_df, downsp_annotations_df) = GraphSignalHelper.downsample(data_df,\n",
    "                                                                       annotations_df,\n",
    "                                                                       downstep)\n",
    "\n",
    "\n",
    "graph_stream, graph_stream_labels = GraphSignalHelper.generate_graph_stream(downsp_data_df, \n",
    "                                                                            downsp_annotations_df, \n",
    "                                                                            fs = (360 / downstep))\n",
    "len(graph_stream)\n",
    "# 2272\n",
    "\n",
    "# graph_stream_labels[1]['Type']\n",
    "# 2    N\n",
    "# 3    N"
   ]
  },
  {
   "cell_type": "code",
   "execution_count": 14,
   "metadata": {},
   "outputs": [
    {
     "name": "stdout",
     "output_type": "stream",
     "text": [
      "Name: \n",
      "Type: Graph\n",
      "Number of nodes: 36\n",
      "Number of edges: 145\n",
      "Average degree:   8.0556\n"
     ]
    }
   ],
   "source": [
    "import networkx as nx\n",
    "print(nx.info(graph_stream[0]))"
   ]
  },
  {
   "cell_type": "markdown",
   "metadata": {},
   "source": [
    "## 2. Calculate gragh edit distance matrix\n",
    "Compute the pairwise distance between each two graphs and produce the distance matrix using Graph edit distance."
   ]
  },
  {
   "cell_type": "code",
   "execution_count": 15,
   "metadata": {},
   "outputs": [
    {
     "name": "stdout",
     "output_type": "stream",
     "text": [
      "GED_distance_matrix took 9530211.16399765   mil sec\n",
      "precomputed distance matrix =\n",
      " [[ 0.  63.  51.5 ... 85.  89.5 89. ]\n",
      " [63.   0.  60.  ... 82.5 78.5 84.5]\n",
      " [51.5 60.   0.  ... 76.5 80.5 81.5]\n",
      " ...\n",
      " [85.  82.5 76.5 ...  0.  52.5 40. ]\n",
      " [89.5 78.5 80.5 ... 52.5  0.  47. ]\n",
      " [89.  84.5 81.5 ... 40.  47.   0. ]]\n"
     ]
    }
   ],
   "source": [
    "from myHelper import timing\n",
    "\n",
    "# Gmatch4py use networkx graph \n",
    "import networkx as nx \n",
    "# import the GED using the munkres algorithm\n",
    "import gmatch4py as gm\n",
    "\n",
    "\n",
    "@timing.time_it\n",
    "def GED_distance_matrix(graph_series):\n",
    "    # convert from dictionary of graphs to list of graphs\n",
    "    graph_stream_list = [v for k, v in graph_stream.items()] \n",
    "    ged=gm.GraphEditDistance(1,1,1,1) # all edit costs are equal to 1\n",
    "    non_symetric_GED_matrix=ged.compare(graph_stream_list,None)\n",
    "    symetric_ged_matrix = (non_symetric_GED_matrix.transpose()+non_symetric_GED_matrix)/2\n",
    "    return symetric_ged_matrix\n",
    "\n",
    "distance_matrix = GED_distance_matrix(graph_stream)\n",
    "print(\"precomputed distance matrix =\\n\",distance_matrix)\n"
   ]
  },
  {
   "cell_type": "code",
   "execution_count": 16,
   "metadata": {},
   "outputs": [],
   "source": [
    "# np.save('Distance_matrix_2268_graph_DS8', distance_matrix) # save the file as \"Distance_matrix_223_graph.npy\" "
   ]
  },
  {
   "cell_type": "markdown",
   "metadata": {},
   "source": [
    "## 3. Anomaly detection on graphs using distance matrix\n",
    "Feed the distance matrix for our graph stream into a Local Outlier Factor (LOF) model and detect the abnormal graphs (Each graph corespond to a heartbeat)."
   ]
  },
  {
   "cell_type": "code",
   "execution_count": 27,
   "metadata": {},
   "outputs": [
    {
     "name": "stdout",
     "output_type": "stream",
     "text": [
      "outlier prediction (-1 = abnormal, 1 = normal) \n",
      "\n",
      " [1 1 1 ... 1 1 1]\n",
      "\n",
      " Outlier threshold =  1.5\n",
      "\n",
      " Outlier scores (1 = normal, 1 >> abnormal)= \n",
      " \n",
      " [1.13665027 1.082506   0.9926433  ... 1.03879024 0.99113592 1.00134321]\n"
     ]
    }
   ],
   "source": [
    "import numpy as np\n",
    "from sklearn.neighbors import LocalOutlierFactor\n",
    "\n",
    "clf = LocalOutlierFactor(n_neighbors=10,\n",
    "                         algorithm=\"brute\",\n",
    "                         metric=\"precomputed\",\n",
    "#                          contamination=0.01, # the proportion of outliers in the data set float \n",
    "                         contamination='auto', # the proportion of outliers in the data set float \n",
    "                         novelty=False, # novelty=True if you want to use LOF for novelty \n",
    "                                        # detection and predict on new unseen data\n",
    "                         n_jobs=None)\n",
    "\n",
    "clf.fit(X=distance_matrix)\n",
    "\n",
    "\n",
    "# predict on training data\n",
    "# Fits the model to the training set X and returns the labels.\n",
    "outlier_prediction = clf.fit_predict(X=distance_matrix)\n",
    "print(\"outlier prediction (-1 = abnormal, 1 = normal) \\n\\n\",\n",
    "      outlier_prediction)\n",
    "\n",
    "# Fit the model using X as training data.\n",
    "clf.fit(X=distance_matrix)\n",
    "\n",
    "# Observations having a negative_outlier_factor smaller than offset_ are detected as abnormal.\n",
    "# The offset is set to -1.5 (inliers score around -1), except when\n",
    "# a contamination parameter different than “auto” is provided.\n",
    "print(\"\\n Outlier threshold = \", -(clf.offset_))\n",
    "\n",
    "\n",
    "# Only available for novelty detection (when novelty is set to True).\n",
    "# The shift offset allows a zero threshold for being an outlier.\n",
    "# print(\"decision_function = \", clf.decision_function(X=symetric_result))\n",
    "\n",
    "\n",
    "#  negative_outlier_factor_ndarray shape (n_samples,)\n",
    "#  negative_outlier_factor_ = -1 normal\n",
    "#  negative_outlier_factor_ << -1 abnormal \n",
    "print(\"\\n Outlier scores (1 = normal, 1 >> abnormal)= \\n \\n\", -(clf.negative_outlier_factor_))"
   ]
  },
  {
   "cell_type": "markdown",
   "metadata": {},
   "source": [
    "## 4. Evaluation to the ground truth (labels by Cardiologists)\n",
    "Compare the detected anomaly graphs with the ground truth, The actual label of the heartbeat is labeled by expert Cardialogists, and compute the accuracy of our model."
   ]
  },
  {
   "cell_type": "code",
   "execution_count": 28,
   "metadata": {},
   "outputs": [
    {
     "name": "stdout",
     "output_type": "stream",
     "text": [
      "[1, 1, 1, 1, 1, 1, -1, 1, 1, 1, 1, 1, 1, 1, 1, 1, 1, 1, 1, 1, 1, 1, 1, 1, 1, 1, 1, 1, 1, 1, 1, 1, 1, 1, 1, 1, 1, 1, 1, 1, 1, 1, 1, 1, 1, 1, 1, 1, 1, 1, 1, 1, 1, 1, 1, 1, 1, 1, 1, 1, 1, 1, 1, 1, 1, 1, 1, 1, 1, 1, 1, 1, 1, 1, 1, 1, 1, 1, 1, 1, 1, 1, 1, 1, 1, 1, 1, 1, 1, 1, 1, 1, 1, 1, 1, 1, 1, 1, 1, 1, 1, 1, 1, 1, 1, 1, 1, 1, 1, 1, 1, 1, 1, 1, 1, 1, 1, 1, 1, 1, 1, 1, 1, 1, 1, 1, 1, 1, 1, 1, 1, 1, 1, 1, 1, 1, 1, 1, 1, 1, 1, 1, 1, 1, 1, 1, 1, 1, 1, 1, 1, 1, 1, 1, 1, 1, 1, 1, 1, 1, 1, 1, 1, 1, 1, 1, 1, 1, 1, 1, 1, 1, 1, 1, 1, 1, 1, 1, 1, 1, 1, 1, 1, 1, 1, 1, 1, 1, 1, 1, 1, 1, 1, 1, 1, 1, 1, 1, 1, 1, 1, 1, 1, 1, 1, 1, 1, 1, 1, 1, 1, 1, 1, 1, 1, 1, 1, 1, 1, 1, 1, 1, 1, 1, 1, 1, 1, 1, -1, 1, 1, 1, 1, 1, 1, 1, 1, 1, 1, 1, 1, 1, 1, 1, 1, 1, 1, 1, 1, 1, 1, 1, 1, 1, 1, 1, -1, 1, 1, 1, 1, 1, 1, 1, 1, 1, 1, 1, 1, 1, 1, 1, 1, 1, 1, 1, 1, 1, 1, 1, 1, 1, 1, 1, 1, 1, 1, 1, 1, 1, 1, 1, 1, 1, 1, 1, 1, 1, 1, 1, 1, 1, 1, 1, 1, 1, 1, 1, 1, 1, 1, 1, 1, 1, 1, 1, 1, 1, 1, 1, 1, 1, 1, 1, 1, 1, 1, 1, 1, 1, 1, 1, 1, 1, 1, 1, 1, 1, 1, -1, 1, 1, 1, 1, 1, 1, 1, 1, 1, 1, 1, 1, 1, 1, 1, 1, 1, 1, 1, 1, 1, 1, 1, 1, 1, 1, 1, 1, 1, 1, 1, 1, 1, 1, 1, 1, 1, 1, 1, 1, 1, 1, 1, 1, 1, 1, 1, 1, 1, 1, 1, 1, 1, 1, 1, 1, 1, 1, 1, 1, 1, 1, 1, 1, 1, 1, 1, 1, 1, 1, 1, 1, 1, 1, 1, 1, 1, 1, 1, 1, 1, 1, 1, 1, 1, 1, 1, 1, 1, 1, 1, 1, 1, 1, 1, 1, 1, 1, -1, 1, 1, 1, 1, 1, 1, 1, 1, 1, 1, 1, 1, 1, 1, 1, 1, 1, 1, 1, 1, 1, 1, 1, 1, 1, 1, 1, 1, 1, 1, 1, 1, 1, 1, 1, 1, 1, 1, 1, 1, 1, 1, 1, 1, 1, 1, 1, 1, 1, 1, 1, -1, 1, 1, 1, 1, 1, 1, 1, 1, 1, 1, 1, 1, 1, 1, 1, 1, 1, 1, 1, 1, 1, 1, 1, 1, 1, 1, 1, 1, 1, 1, 1, 1, 1, 1, 1, 1, 1, 1, 1, 1, 1, 1, 1, 1, 1, 1, 1, 1, 1, 1, 1, 1, 1, 1, 1, 1, 1, 1, 1, 1, 1, 1, 1, 1, 1, 1, 1, 1, 1, 1, 1, 1, 1, 1, 1, 1, 1, 1, 1, 1, 1, 1, 1, 1, 1, 1, 1, 1, 1, 1, 1, 1, 1, 1, 1, 1, 1, 1, 1, 1, 1, 1, 1, 1, 1, 1, -1, 1, 1, 1, 1, 1, 1, 1, 1, 1, 1, 1, 1, 1, 1, 1, 1, 1, 1, 1, 1, 1, 1, 1, 1, 1, 1, 1, 1, 1, 1, 1, 1, 1, 1, 1, 1, 1, 1, 1, 1, 1, 1, 1, 1, 1, 1, 1, 1, 1, 1, 1, 1, 1, 1, 1, 1, 1, 1, 1, 1, 1, 1, 1, 1, 1, 1, 1, 1, 1, 1, 1, 1, 1, 1, 1, 1, 1, 1, 1, 1, 1, 1, 1, 1, 1, 1, 1, 1, 1, 1, 1, 1, 1, 1, 1, 1, 1, 1, 1, 1, 1, 1, 1, 1, 1, 1, 1, 1, 1, 1, 1, 1, 1, 1, 1, 1, 1, 1, 1, 1, 1, 1, 1, 1, 1, 1, 1, 1, 1, 1, 1, 1, 1, 1, 1, 1, 1, 1, 1, 1, 1, 1, 1, 1, 1, 1, 1, 1, 1, 1, 1, 1, 1, 1, 1, 1, 1, 1, 1, 1, 1, 1, 1, 1, 1, 1, 1, 1, 1, 1, 1, 1, 1, 1, 1, 1, 1, 1, 1, 1, 1, 1, 1, 1, 1, 1, 1, 1, 1, 1, 1, 1, 1, 1, 1, 1, 1, 1, 1, 1, 1, 1, 1, 1, 1, 1, 1, 1, 1, 1, 1, 1, 1, 1, 1, 1, 1, 1, 1, 1, 1, 1, 1, 1, 1, 1, 1, 1, 1, 1, 1, 1, 1, 1, 1, 1, 1, 1, 1, 1, 1, 1, 1, 1, 1, 1, 1, 1, 1, 1, 1, 1, 1, 1, 1, 1, 1, 1, 1, 1, 1, 1, 1, 1, 1, 1, 1, 1, 1, 1, 1, 1, 1, 1, 1, 1, 1, 1, 1, 1, 1, 1, 1, 1, 1, 1, 1, 1, 1, 1, 1, 1, 1, 1, 1, 1, 1, 1, 1, 1, 1, 1, 1, 1, 1, 1, 1, 1, 1, 1, 1, 1, 1, 1, 1, 1, 1, 1, 1, 1, 1, 1, 1, 1, 1, 1, 1, 1, 1, 1, 1, 1, 1, 1, 1, 1, 1, 1, 1, 1, 1, 1, 1, 1, 1, 1, 1, 1, 1, 1, 1, 1, 1, 1, 1, 1, 1, 1, 1, 1, 1, 1, 1, 1, 1, 1, 1, 1, 1, 1, 1, 1, 1, 1, 1, 1, 1, 1, 1, 1, 1, 1, 1, 1, 1, -1, 1, 1, 1, 1, 1, 1, 1, 1, 1, 1, 1, 1, 1, 1, 1, 1, 1, 1, 1, 1, 1, 1, 1, 1, 1, 1, 1, 1, 1, 1, 1, 1, 1, 1, 1, 1, 1, 1, 1, 1, 1, 1, 1, 1, 1, 1, 1, 1, 1, 1, 1, 1, 1, 1, 1, 1, 1, 1, 1, 1, 1, 1, 1, 1, 1, 1, 1, 1, 1, 1, 1, 1, 1, 1, 1, 1, 1, 1, 1, 1, 1, 1, 1, 1, 1, 1, 1, 1, 1, 1, -1, 1, 1, 1, 1, 1, 1, -1, 1, 1, 1, 1, 1, 1, 1, 1, 1, 1, 1, 1, 1, 1, 1, 1, 1, -1, 1, 1, 1, 1, 1, 1, 1, 1, 1, 1, 1, 1, 1, 1, 1, 1, -1, 1, 1, 1, 1, -1, 1, 1, 1, 1, 1, 1, 1, 1, 1, 1, 1, 1, 1, 1, 1, 1, 1, 1, 1, 1, 1, 1, 1, 1, 1, 1, 1, 1, 1, 1, 1, 1, 1, 1, 1, 1, 1, 1, 1, 1, 1, 1, 1, 1, 1, 1, 1, 1, 1, 1, 1, 1, 1, 1, 1, 1, 1, 1, 1, 1, 1, 1, 1, 1, 1, 1, 1, 1, 1, 1, 1, 1, 1, 1, 1, 1, 1, 1, 1, 1, 1, 1, 1, 1, 1, 1, 1, 1, 1, 1, 1, 1, 1, -1, 1, 1, 1, 1, 1, 1, 1, 1, 1, 1, 1, 1, 1, 1, 1, -1, 1, 1, 1, 1, 1, 1, 1, 1, 1, 1, 1, 1, 1, 1, 1, 1, 1, 1, 1, 1, 1, 1, 1, 1, 1, 1, 1, 1, 1, 1, 1, 1, 1, 1, 1, 1, 1, 1, 1, 1, 1, 1, 1, 1, 1, 1, 1, 1, 1, 1, 1, 1, 1, 1, 1, 1, 1, 1, 1, 1, 1, 1, 1, 1, 1, 1, 1, 1, 1, 1, 1, 1, 1, 1, 1, 1, 1, 1, 1, 1, 1, 1, 1, 1, 1, 1, 1, 1, -1, 1, 1, 1, 1, 1, 1, 1, 1, 1, 1, 1, 1, 1, 1, 1, 1, 1, 1, 1, 1, 1, 1, 1, 1, 1, 1, 1, 1, 1, 1, 1, 1, 1, 1, 1, 1, 1, 1, 1, 1, 1, 1, 1, 1, 1, 1, 1, 1, 1, 1, 1, 1, 1, 1, 1, 1, 1, 1, 1, 1, 1, 1, 1, 1, 1, 1, 1, 1, 1, -1, 1, 1, 1, 1, 1, 1, 1, 1, 1, 1, 1, 1, 1, 1, 1, 1, 1, 1, 1, 1, 1, 1, 1, 1, 1, 1, 1, 1, 1, 1, 1, 1, 1, 1, 1, 1, 1, 1, 1, 1, 1, 1, 1, 1, 1, 1, 1, 1, 1, 1, 1, 1, 1, 1, 1, 1, 1, 1, 1, 1, 1, 1, 1, 1, 1, 1, 1, 1, 1, 1, 1, 1, 1, 1, 1, 1, 1, 1, 1, 1, 1, 1, 1, 1, -1, 1, 1, -1, 1, 1, 1, 1, 1, 1, 1, 1, 1, 1, 1, 1, 1, 1, 1, 1, 1, 1, 1, 1, 1, 1, 1, 1, 1, 1, 1, 1, 1, 1, 1, 1, 1, 1, 1, 1, 1, -1, 1, 1, 1, 1, 1, 1, 1, -1, 1, 1, 1, 1, 1, 1, 1, 1, 1, 1, 1, 1, 1, 1, 1, 1, 1, 1, 1, 1, 1, -1, 1, 1, 1, 1, 1, 1, -1, 1, 1, 1, 1, 1, 1, 1, 1, 1, 1, 1, 1, 1, 1, 1, 1, 1, 1, 1, 1, 1, 1, 1, 1, 1, 1, 1, 1, 1, 1, 1, 1, 1, -1, 1, 1, 1, 1, 1, 1, 1, 1, 1, 1, 1, -1, 1, 1, 1, 1, 1, 1, 1, 1, 1, 1, 1, 1, 1, 1, 1, 1, 1, 1, 1, 1, 1, 1, 1, 1, 1, 1, 1, 1, 1, 1, 1, 1, 1, 1, 1, 1, 1, 1, 1, 1, 1, 1, 1, 1, 1, 1, 1, 1, 1, 1, 1, 1, 1, 1, 1, 1, 1, 1, 1, 1, 1, 1, 1, 1, 1, 1, 1, 1, 1, 1, 1, 1, 1, 1, 1, 1, 1, 1, 1, 1, 1, 1, 1, 1, 1, 1, 1, 1, 1, 1, 1, 1, 1, 1, 1, 1, 1, 1, 1, 1, 1, 1, 1, 1, 1, 1, 1, 1, 1, 1, 1, 1, 1, 1, 1, 1, 1, 1, 1, 1, 1, 1, 1, 1, 1, 1, 1, 1, 1, 1, 1, -1, 1, 1, 1, 1, 1, 1, 1, 1, 1, 1, 1, 1, 1, 1, 1, 1, 1, 1, 1, 1, 1, 1, 1, 1, 1, 1, 1, 1, 1, 1, 1, 1, 1, 1, 1, 1, 1, 1, 1, 1, 1, 1, 1, 1, 1, 1, 1, 1, 1, 1, 1, 1, 1, 1, 1, 1, 1, 1, 1, 1, 1, 1, 1, 1, 1, 1, 1, 1, 1, 1, 1, 1, 1, 1, 1, 1, 1, 1, 1, 1, 1, 1, -1, 1, 1, 1, 1, 1, 1, 1, 1, 1, 1, 1, 1, 1, 1, 1, 1, 1, 1, 1, 1, 1, 1, 1, 1, 1, 1, 1, 1, 1, 1, 1, 1, 1, 1, 1, 1, 1, 1, 1, 1, 1, 1, 1, 1, 1, 1, 1, 1, 1, 1, 1, 1, 1, 1, 1, 1, 1, 1, 1, 1, 1, 1, 1, 1, 1, 1, 1, 1, 1, 1, 1, 1, 1, 1, 1, 1, 1, 1, 1, 1, 1, 1, 1, 1, 1, 1, 1, -1, 1, 1, 1, 1, 1, 1, 1, 1, 1, 1, 1, 1, 1, 1, 1, 1, 1, 1, 1, 1, 1, 1, 1, 1, 1, 1, 1, 1, 1, 1, 1, 1, 1, 1, 1, 1, 1, 1, 1, 1, 1, 1, 1, 1, 1, 1, 1, 1, 1, 1, 1, 1, 1, 1, -1, 1, 1, 1, 1, 1, 1, 1, 1, 1, 1, 1, -1, 1, 1, 1, -1, 1, 1, 1, 1, 1, 1, 1, 1, 1, 1, 1, 1, 1, 1, 1, 1, 1, 1, 1, 1, 1, 1, 1, -1, 1, 1, 1, 1, 1, 1, 1, 1, 1, 1, 1, 1, 1, 1, 1, 1, -1, 1, 1, 1, 1, 1, 1, 1, 1, 1, 1, 1, 1, -1, 1, 1, 1, 1, 1, 1, 1, 1, 1, 1, 1, 1, 1, 1, 1, 1, 1, 1, 1, 1, 1, 1, 1, 1, 1, 1, 1, 1, 1, 1, 1, 1, 1, 1, 1, 1, -1, 1, 1, 1, 1, 1, 1, 1, 1, 1, 1, 1, 1, 1, 1, 1, 1, 1, 1, 1, 1, 1, 1, 1, 1, 1, 1, 1, 1, 1, 1, 1, 1, 1, 1, 1, 1, 1, 1, 1, 1, 1, 1, 1, 1, 1, 1, 1, 1, 1, 1, 1, 1, 1, 1, 1, 1, 1, 1, 1, 1, 1, 1, 1, 1, 1, 1, 1, 1, 1, 1, 1, 1, 1, 1, 1, 1, 1, 1, 1, 1, 1, 1, 1, 1, 1, 1, 1, 1, 1, 1, 1, 1, 1, 1, 1, 1, 1, 1, 1, 1, 1, 1, 1, 1, 1, 1, 1, 1, 1, 1, 1, 1, 1, 1, 1, 1, 1, 1, 1, 1, 1, 1, 1, 1, 1, 1, 1, 1, -1, 1, 1, 1, 1, 1, 1, 1, 1, 1, 1, 1, 1, 1, 1, 1, 1, 1, 1, 1, 1, 1, 1, 1, 1, 1, 1, 1, 1, 1, 1, 1, 1, 1, 1, 1, 1, 1, 1, 1, 1, 1, 1, 1, 1, 1, 1, 1, 1, 1, 1, 1, 1, 1, 1, 1, 1, 1, 1, 1, 1, 1, 1, 1, 1, 1, 1, 1, 1, 1, 1, 1, 1, 1, 1]\n"
     ]
    }
   ],
   "source": [
    "def ground_truth_labels(graph_stream_labels):\n",
    "    '''\n",
    "    Assign the true labels based on the annotations in our database\n",
    "    1 = Normal heartbeat\n",
    "    -1 = Anomalous heartbeat\n",
    "    \n",
    "    --------------------------------------------------------------------------\n",
    "\n",
    "    :param graph_stream_labels: a list of dataframes which can contain zero to \n",
    "    two rows for each heartbeat annotation.\n",
    "    \n",
    "    :return true_labels: list containing the true labels of (1) or (-1)\n",
    "    '''\n",
    "    true_labels = []\n",
    "    for graph_index, graph_annotation in enumerate(graph_stream_labels):\n",
    "        graph_label = 99999\n",
    "        if(len(graph_annotation.index) == 1):\n",
    "            if(graph_annotation.iloc[0]['Type'] == \"N\"):\n",
    "                true_labels.append(1)\n",
    "            else:\n",
    "                true_labels.append(-1)\n",
    "        elif (len(graph_annotation.index) == 2):\n",
    "            if((graph_annotation.iloc[0]['Type'] == \"N\") and (graph_annotation.iloc[1]['Type'] == \"N\")):\n",
    "                true_labels.append(1)\n",
    "            else:\n",
    "                true_labels.append(-1)\n",
    "        elif (len(graph_annotation.index) == 0):\n",
    "            true_labels.append(-1)\n",
    "    return true_labels\n",
    "\n",
    "true_labels = ground_truth_labels(graph_stream_labels)\n",
    "print(true_labels)\n"
   ]
  },
  {
   "cell_type": "code",
   "execution_count": 29,
   "metadata": {},
   "outputs": [
    {
     "name": "stdout",
     "output_type": "stream",
     "text": [
      "Confusion matrix = \n",
      " [[   2   34]\n",
      " [   1 2231]]\n",
      "\n",
      "Number of errors =  35\n",
      "\n",
      "accuracy = 0.9846\n",
      "precision  0.985\n",
      "recall  0.9996\n",
      "F1 score on Test 0.9922\n"
     ]
    }
   ],
   "source": [
    "from sklearn.metrics import confusion_matrix\n",
    "import pandas as pd\n",
    "from sklearn.metrics import precision_recall_fscore_support\n",
    "\n",
    "\n",
    "y_true = ground_truth_labels(graph_stream_labels)\n",
    "y_pred = clf.fit_predict(X=distance_matrix)\n",
    "print(\"Confusion matrix = \\n\", confusion_matrix(y_true, y_pred))\n",
    "n_errors = (y_pred != y_true).sum()\n",
    "print('\\nNumber of errors = ', n_errors)\n",
    "print('\\naccuracy =' , round(1 - (n_errors / len(y_true)),4))\n",
    "\n",
    "# #  Note that the ground truth and the y_pred for LOF is different than the original ... inliers = normal = 1 and outliers = fraud = -1\n",
    "# # We have to modify the y_pred for the F1 score calculation\n",
    "\n",
    "# y_predLOF = y_pred.copy()\n",
    "# y_predDF = pd.DataFrame(y_predLOF)\n",
    "# # print(y_predDF[y_predDF[0] == -1].count())\n",
    "\n",
    "# y_predDF[y_predDF[0] == 1] = 0\n",
    "# y_predDF[y_predDF[0] == -1] = 1\n",
    "# # print(y_predDF[y_predDF[0] == 1].count())\n",
    "\n",
    "# y_predLOF = y_predDF.values\n",
    "# y_predLOF = np.ravel(y_predLOF)\n",
    "\n",
    "# F1 Score\n",
    "#print(\"F1 score\", round(f1_score(y_valid,pred, average='binary'), 4))\n",
    "precision,recall,fbeta_score, support  = precision_recall_fscore_support(y_true, y_pred, average='binary')\n",
    "print(\"precision \", round((precision), 4))\n",
    "print(\"recall \", round((recall), 4))\n",
    "print(\"F1 score on Test\", round((fbeta_score), 4))"
   ]
  },
  {
   "cell_type": "code",
   "execution_count": 30,
   "metadata": {},
   "outputs": [
    {
     "data": {
      "image/png": "[encoded data removed]",
      "text/plain": [
       "<Figure size 576x432 with 2 Axes>"
      ]
     },
     "metadata": {
      "needs_background": "light"
     },
     "output_type": "display_data"
    }
   ],
   "source": [
    "from myHelper import My_confusion_matrix_plotter\n",
    "My_confusion_matrix_plotter.confusion_matrix_plotter(cm           = confusion_matrix(y_true, y_pred), \n",
    "                                                     normalize    = False,\n",
    "                                                     target_names = ['Anonymous Heartbeat', 'Normal Heartbeat'],\n",
    "                                                     title        = \"Confusion Matrix\")"
   ]
  },
  {
   "cell_type": "code",
   "execution_count": 24,
   "metadata": {},
   "outputs": [
    {
     "name": "stdout",
     "output_type": "stream",
     "text": [
      "True Negative (Anomalous) =  0\n",
      "False Negative (Anomalous) = 1\n",
      "False Positive (Normal)= 36\n",
      "True Positive (Normal)= 2231\n"
     ]
    }
   ],
   "source": [
    "tn, fp, fn, tp = confusion_matrix(y_true, y_pred).ravel()\n",
    "print('True Negative (Anomalous) = ', tn)\n",
    "print('False Negative (Anomalous) =', fn)\n",
    "print('False Positive (Normal)=', fp)\n",
    "print('True Positive (Normal)=', tp)"
   ]
  },
  {
   "cell_type": "markdown",
   "metadata": {},
   "source": [
    "## Optimize num of neighbors hyper paramter for best F1 score"
   ]
  },
  {
   "cell_type": "code",
   "execution_count": 31,
   "metadata": {},
   "outputs": [
    {
     "data": {
      "text/html": [
       "<div>\n",
       "<style scoped>\n",
       "    .dataframe tbody tr th:only-of-type {\n",
       "        vertical-align: middle;\n",
       "    }\n",
       "\n",
       "    .dataframe tbody tr th {\n",
       "        vertical-align: top;\n",
       "    }\n",
       "\n",
       "    .dataframe thead th {\n",
       "        text-align: right;\n",
       "    }\n",
       "</style>\n",
       "<table border=\"1\" class=\"dataframe\">\n",
       "  <thead>\n",
       "    <tr style=\"text-align: right;\">\n",
       "      <th></th>\n",
       "      <th>NumNeighb</th>\n",
       "      <th>F1</th>\n",
       "    </tr>\n",
       "  </thead>\n",
       "  <tbody>\n",
       "    <tr>\n",
       "      <th>0</th>\n",
       "      <td>2</td>\n",
       "      <td>0.9918</td>\n",
       "    </tr>\n",
       "    <tr>\n",
       "      <th>1</th>\n",
       "      <td>3</td>\n",
       "      <td>0.9920</td>\n",
       "    </tr>\n",
       "    <tr>\n",
       "      <th>2</th>\n",
       "      <td>4</td>\n",
       "      <td>0.9920</td>\n",
       "    </tr>\n",
       "    <tr>\n",
       "      <th>3</th>\n",
       "      <td>5</td>\n",
       "      <td>0.9920</td>\n",
       "    </tr>\n",
       "    <tr>\n",
       "      <th>4</th>\n",
       "      <td>6</td>\n",
       "      <td>0.9922</td>\n",
       "    </tr>\n",
       "  </tbody>\n",
       "</table>\n",
       "</div>"
      ],
      "text/plain": [
       "   NumNeighb      F1\n",
       "0          2  0.9918\n",
       "1          3  0.9920\n",
       "2          4  0.9920\n",
       "3          5  0.9920\n",
       "4          6  0.9922"
      ]
     },
     "execution_count": 31,
     "metadata": {},
     "output_type": "execute_result"
    }
   ],
   "source": [
    "minRE = 2\n",
    "maxRE = 100\n",
    "    \n",
    "EpsF1 = []\n",
    "y_true = ground_truth_labels(graph_stream_labels)\n",
    "\n",
    "for TryRE in range(minRE,maxRE,1):\n",
    "    clf = LocalOutlierFactor(n_neighbors=TryRE,\n",
    "                             algorithm=\"brute\",\n",
    "                             metric=\"precomputed\",\n",
    "                             contamination='auto', # the proportion of outliers in the data set float \n",
    "                             novelty=False, # novelty=True if you want to use LOF for novelty \n",
    "                                            # detection and predict on new unseen data\n",
    "                             n_jobs=None)\n",
    "    \n",
    "    y_pred = clf.fit_predict(X=distance_matrix)\n",
    "    n_errors = (y_pred != y_true).sum()\n",
    "#     print('\\naccuracy =' , round(1 - (n_errors / len(y_true)),4))\n",
    "    \n",
    "#     X_scores = clf.negative_outlier_factor_\n",
    "    \n",
    "    precision,recall,fbeta_score, support  = precision_recall_fscore_support(y_true, y_pred, average='binary')\n",
    "    \n",
    "#     print(\"F1 score on test\", round(fbeta_score,4), \" with num neighbors \", TryRE)\n",
    "    EpsF1.append([TryRE, round(fbeta_score,4)])\n",
    "    \n",
    "EpsF1df = pd.DataFrame(EpsF1, columns = ['NumNeighb', 'F1'])\n",
    "EpsF1df.head()"
   ]
  },
  {
   "cell_type": "code",
   "execution_count": 33,
   "metadata": {},
   "outputs": [
    {
     "data": {
      "image/png": "[encoded data removed]",
      "text/plain": [
       "<Figure size 432x288 with 1 Axes>"
      ]
     },
     "metadata": {
      "needs_background": "light"
     },
     "output_type": "display_data"
    }
   ],
   "source": [
    "from matplotlib import pyplot as plt\n",
    "EpsF1df.plot.line(\"NumNeighb\",\"F1\")\n",
    "plt.xlim(2, 99)\n",
    "plt.title(\"F1 vs NumNeighb\")\n",
    "plt.show()"
   ]
  },
  {
   "cell_type": "markdown",
   "metadata": {},
   "source": [
    "Now I know that the optimal number of neighbors for our case is 2."
   ]
  },
  {
   "cell_type": "markdown",
   "metadata": {},
   "source": [
    "## Compute the ROC and AUC\n",
    "\n",
    "To do:\n",
    "\n",
    "https://scikit-learn.org/stable/modules/generated/sklearn.metrics.roc_auc_score.html\n",
    "\n",
    "https://developers.google.com/machine-learning/crash-course/classification/roc-and-auc"
   ]
  },
  {
   "cell_type": "code",
   "execution_count": null,
   "metadata": {},
   "outputs": [],
   "source": []
  }
 ],
 "metadata": {
  "kernelspec": {
   "display_name": "Python 3",
   "language": "python",
   "name": "python3"
  },
  "language_info": {
   "codemirror_mode": {
    "name": "ipython",
    "version": 3
   },
   "file_extension": ".py",
   "mimetype": "text/x-python",
   "name": "python",
   "nbconvert_exporter": "python",
   "pygments_lexer": "ipython3",
   "version": "3.7.5rc1"
  }
 },
 "nbformat": 4,
 "nbformat_minor": 4
}
