{
 "cells": [
  {
   "cell_type": "markdown",
   "metadata": {},
   "source": [
    "# Unsupervised Outlier Detection on Heartbeat graphs\n",
    "\n",
    "I am using Local Outlier Factor (LOF) method and k-nearest neighbors to do anomaly detection on the graph representation of the heart beat signal.\n",
    "\n",
    "This notebook, is completing the final step of our pipeline and combining the steps and results of <code>MIT-BIH-Kaggle</code> notebook with <code>KNN_AnomalyDetection_OnGraphs</code> to have a complete process from a raw signal to detect anomalies for each heartbeat of the signal using its coresponding graph.\n",
    "\n",
    "The outlies are the followings:\n",
    "1. Create graph stream from the original signal.\n",
    "2. Compute the pairwise distance between each two graphs and produce the distance matrix using Graph edit distance.\n",
    "3. Feed the distance matrix for our graph stream into a Local Outlier Factor (LOF) model and detect the abnormal graphs (Each graph corespond to a heartbeat).\n",
    "4. Compare the detected graph with the ground truth, The actual label of the heartbeat is labeled by expert Cardialogists, and compute the accuracy of our model."
   ]
  },
  {
   "cell_type": "markdown",
   "metadata": {},
   "source": [
    "## 1. Graph stream from the original signal.\n",
    "Lets generate our graph stream from the **MIT-BIH** dataset using the helper functions which implemented  in <code>MIT-BIH-Kaggle</code>."
   ]
  },
  {
   "cell_type": "code",
   "execution_count": 10,
   "metadata": {},
   "outputs": [
    {
     "data": {
      "text/plain": [
       "223"
      ]
     },
     "execution_count": 10,
     "metadata": {},
     "output_type": "execute_result"
    }
   ],
   "source": [
    "%matplotlib inline\n",
    "from myHelper import timing\n",
    "from myHelper import GraphSignalHelper\n",
    "\n",
    "data_df = GraphSignalHelper.read_heartbeat_database(name='100', nRowsRead=65000)\n",
    "annotations_df = GraphSignalHelper.read_annotation_database(name='100')\n",
    "\n",
    "graph_stream, graph_stream_labels = GraphSignalHelper.generate_graph_stream(data_df, annotations_df, fs = 360)\n",
    "\n",
    "len(graph_stream)\n",
    "# 2272\n",
    "\n",
    "# graph_stream_labels[1]['Type']\n",
    "# 2    N\n",
    "# 3    N"
   ]
  },
  {
   "cell_type": "markdown",
   "metadata": {},
   "source": [
    "## 2. Calculate gragh edit distance matrix\n",
    "Compute the pairwise distance between each two graphs and produce the distance matrix using Graph edit distance."
   ]
  },
  {
   "cell_type": "code",
   "execution_count": 11,
   "metadata": {},
   "outputs": [
    {
     "name": "stdout",
     "output_type": "stream",
     "text": [
      "GED_distance_matrix took 16547383.872032166   mil sec\n",
      "precomputed distance matrix =\n",
      " [[   0.   552.  1036.  ...  927.5  658.5  672. ]\n",
      " [ 552.     0.  1011.  ...  920.   657.5  648. ]\n",
      " [1036.  1011.     0.  ...  882.  1072.   998. ]\n",
      " ...\n",
      " [ 927.5  920.   882.  ...    0.   986.   916. ]\n",
      " [ 658.5  657.5 1072.  ...  986.     0.   521. ]\n",
      " [ 672.   648.   998.  ...  916.   521.     0. ]]\n"
     ]
    }
   ],
   "source": [
    "from myHelper import timing\n",
    "\n",
    "# Gmatch4py use networkx graph \n",
    "import networkx as nx \n",
    "# import the GED using the munkres algorithm\n",
    "import gmatch4py as gm\n",
    "\n",
    "\n",
    "@timing.time_it\n",
    "def GED_distance_matrix(graph_series):\n",
    "    # convert from dictionary of graphs to list of graphs\n",
    "    graph_stream_list = [v for k, v in graph_stream.items()] \n",
    "    ged=gm.GraphEditDistance(1,1,1,1) # all edit costs are equal to 1\n",
    "    non_symetric_GED_matrix=ged.compare(graph_stream_list,None)\n",
    "    symetric_ged_matrix = (non_symetric_GED_matrix.transpose()+non_symetric_GED_matrix)/2\n",
    "    return symetric_ged_matrix\n",
    "\n",
    "distance_matrix = GED_distance_matrix(graph_stream)\n",
    "print(\"precomputed distance matrix =\\n\",distance_matrix)\n"
   ]
  },
  {
   "cell_type": "code",
   "execution_count": 105,
   "metadata": {},
   "outputs": [],
   "source": [
    "np.save('Distance_matrix_223_graph', distance_matrix) # save the file as \"Distance_matrix_223_graph.npy\" "
   ]
  },
  {
   "cell_type": "markdown",
   "metadata": {},
   "source": [
    "## 3. Anomaly detection on graphs using distance matrix\n",
    "Feed the distance matrix for our graph stream into a Local Outlier Factor (LOF) model and detect the abnormal graphs (Each graph corespond to a heartbeat)."
   ]
  },
  {
   "cell_type": "code",
   "execution_count": 54,
   "metadata": {},
   "outputs": [
    {
     "name": "stdout",
     "output_type": "stream",
     "text": [
      "outlier prediction (-1 = abnormal, 1 = normal) \n",
      "\n",
      " [ 1  1  1  1  1  1 -1 -1  1  1  1  1  1  1  1  1  1  1  1  1  1  1  1  1\n",
      "  1  1  1  1  1  1  1  1  1  1  1  1  1  1  1  1  1  1  1  1  1  1  1  1\n",
      "  1  1  1  1  1  1  1  1  1  1  1  1  1  1  1  1  1  1  1  1  1  1  1  1\n",
      "  1  1  1  1  1  1  1  1  1  1  1  1  1  1  1  1  1  1  1  1  1  1  1  1\n",
      "  1  1  1  1  1  1  1  1  1  1  1  1  1  1  1  1  1  1  1  1  1  1  1  1\n",
      "  1  1  1  1  1  1  1  1  1  1  1  1  1  1  1  1  1  1  1  1  1  1  1  1\n",
      "  1  1  1  1  1  1  1  1  1  1  1  1  1  1  1  1  1  1  1  1  1  1  1  1\n",
      "  1  1  1  1  1  1  1  1  1  1  1  1  1  1  1  1  1  1  1  1  1  1  1  1\n",
      "  1  1  1  1  1  1  1  1  1  1  1  1  1  1  1  1  1  1  1  1  1  1  1  1\n",
      "  1  1  1  1  1  1  1]\n",
      "\n",
      " Outlier threshold =  1.5\n",
      "\n",
      " Outlier scores (1 = normal, 1 >> abnormal)= \n",
      " \n",
      " [1.00465031 0.99954651 1.00434943 1.00739219 0.99377791 0.99484053\n",
      " 1.70791551 1.91440616 0.99737303 1.00003192 1.00096805 0.99902819\n",
      " 0.99737303 1.0094583  0.99809524 1.00981267 0.99268739 1.00232775\n",
      " 0.99906368 1.02339279 1.00504884 1.04781192 0.99955099 1.00384986\n",
      " 1.01829507 0.99659627 0.9995069  1.00047459 1.00324418 1.01209302\n",
      " 1.01497278 0.99816682 0.98482185 0.99573951 1.01972967 0.99531516\n",
      " 1.1640129  1.00226244 1.         0.98804955 1.00681675 1.00289296\n",
      " 0.99484053 0.99284436 1.38643339 1.00382409 0.99903853 1.\n",
      " 0.9920205  1.00189934 0.99069149 1.00090909 1.00183824 1.003708\n",
      " 1.0299081  1.03214593 1.00045955 1.00528169 0.99069149 1.00090909\n",
      " 1.00183234 1.00490196 1.01333118 0.99761223 0.99951644 0.99531516\n",
      " 1.01536806 0.99809524 1.00148605 1.00384986 1.00097794 1.00324848\n",
      " 0.9986124  0.99284436 1.01756054 1.00187617 1.00289107 1.00466017\n",
      " 0.9995069  1.00000336 1.0096831  0.99268739 0.9953695  0.98837581\n",
      " 1.00238411 0.9908689  1.01723629 0.99277978 0.99825177 1.00460726\n",
      " 1.00477647 0.99857955 0.99768304 1.00092165 0.99909521 1.09665763\n",
      " 1.00320975 1.0148423  0.99716539 1.         1.00329434 1.00520833\n",
      " 1.07489107 1.0176951  1.00235405 1.00232775 1.01167433 0.99511455\n",
      " 1.0414645  0.99724265 1.18843781 1.01451906 1.01454034 1.00291924\n",
      " 1.02602957 1.         0.99630399 1.01897019 1.00137363 0.99402574\n",
      " 0.99907598 0.99857955 1.00978103 1.01992331 1.02198853 1.03597299\n",
      " 0.99514134 0.99712368 1.00050324 0.9962157  0.99951644 1.0148423\n",
      " 1.00420525 1.01855124 1.00502742 1.02354145 1.01969542 0.99768304\n",
      " 0.99774775 1.00329346 0.99823944 1.02142857 1.0182238  1.13034626\n",
      " 1.00490633 0.99761223 1.         0.96843837 1.00092918 0.99907322\n",
      " 1.         1.00151912 0.98726056 0.99389601 0.9995426  1.0176951\n",
      " 1.00183824 1.         1.04177006 1.002849   1.00341988 1.01194097\n",
      " 1.01621794 0.99671538 0.99617956 1.00715746 1.00097276 0.98698885\n",
      " 1.00098717 1.00732601 1.01497278 0.99906367 1.00293255 1.00486004\n",
      " 1.00193611 1.00236832 1.03232701 1.01042654 1.00732601 0.99954716\n",
      " 0.97095145 1.         1.02354145 1.01357678 0.99906367 1.00506404\n",
      " 1.00523267 1.17951669 0.99419729 0.99805825 1.01247894 0.99856046\n",
      " 1.09665763 1.04170616 1.03904953 0.99089653 1.01538889 1.00492515\n",
      " 1.01255155 1.00991618 0.9990876  0.99402574 1.01029963 1.00293255\n",
      " 1.03833056 1.01953334 1.01181411 0.99823944 1.00353357 1.00428664\n",
      " 1.00289296 1.00421348 1.00616971 1.01397396 0.99514134 1.01470491\n",
      " 1.0096831  1.01462036 1.00351913 0.99716539 1.         1.00375235\n",
      " 1.00046598]\n"
     ]
    }
   ],
   "source": [
    "import numpy as np\n",
    "from sklearn.neighbors import LocalOutlierFactor\n",
    "\n",
    "clf = LocalOutlierFactor(n_neighbors=2,\n",
    "                         algorithm=\"brute\",\n",
    "                         metric=\"precomputed\",\n",
    "#                          contamination=0.01, # the proportion of outliers in the data set float \n",
    "                         contamination='auto', # the proportion of outliers in the data set float \n",
    "                         novelty=False, # novelty=True if you want to use LOF for novelty \n",
    "                                        # detection and predict on new unseen data\n",
    "                         n_jobs=None)\n",
    "\n",
    "clf.fit(X=distance_matrix)\n",
    "\n",
    "\n",
    "# predict on training data\n",
    "# Fits the model to the training set X and returns the labels.\n",
    "outlier_prediction = clf.fit_predict(X=distance_matrix)\n",
    "print(\"outlier prediction (-1 = abnormal, 1 = normal) \\n\\n\",\n",
    "      outlier_prediction)\n",
    "\n",
    "# Fit the model using X as training data.\n",
    "clf.fit(X=distance_matrix)\n",
    "\n",
    "# Observations having a negative_outlier_factor smaller than offset_ are detected as abnormal.\n",
    "# The offset is set to -1.5 (inliers score around -1), except when\n",
    "# a contamination parameter different than “auto” is provided.\n",
    "print(\"\\n Outlier threshold = \", -(clf.offset_))\n",
    "\n",
    "\n",
    "# Only available for novelty detection (when novelty is set to True).\n",
    "# The shift offset allows a zero threshold for being an outlier.\n",
    "# print(\"decision_function = \", clf.decision_function(X=symetric_result))\n",
    "\n",
    "\n",
    "#  negative_outlier_factor_ndarray shape (n_samples,)\n",
    "#  negative_outlier_factor_ = -1 normal\n",
    "#  negative_outlier_factor_ << -1 abnormal \n",
    "print(\"\\n Outlier scores (1 = normal, 1 >> abnormal)= \\n \\n\", -(clf.negative_outlier_factor_))"
   ]
  },
  {
   "cell_type": "markdown",
   "metadata": {},
   "source": [
    "## 4. Evaluation to the ground truth (labels by Cardiologists)\n",
    "Compare the detected anomaly graphs with the ground truth, The actual label of the heartbeat is labeled by expert Cardialogists, and compute the accuracy of our model."
   ]
  },
  {
   "cell_type": "code",
   "execution_count": 55,
   "metadata": {},
   "outputs": [
    {
     "name": "stdout",
     "output_type": "stream",
     "text": [
      "[1, 1, 1, 1, 1, 1, -1, 1, 1, 1, 1, 1, 1, 1, 1, 1, 1, 1, 1, 1, 1, 1, 1, 1, 1, 1, 1, 1, 1, 1, 1, 1, 1, 1, 1, 1, 1, 1, 1, 1, 1, 1, 1, 1, 1, 1, 1, 1, 1, 1, 1, 1, 1, 1, 1, 1, 1, 1, 1, 1, 1, 1, 1, 1, 1, 1, 1, 1, 1, 1, 1, 1, 1, 1, 1, 1, 1, 1, 1, 1, 1, 1, 1, 1, 1, 1, 1, 1, 1, 1, 1, 1, 1, 1, 1, 1, 1, 1, 1, 1, 1, 1, 1, 1, 1, 1, 1, 1, 1, 1, 1, 1, 1, 1, 1, 1, 1, 1, 1, 1, 1, 1, 1, 1, 1, 1, 1, 1, 1, 1, 1, 1, 1, 1, 1, 1, 1, 1, 1, 1, 1, 1, 1, 1, 1, 1, 1, 1, 1, 1, 1, 1, 1, 1, 1, 1, 1, 1, 1, 1, 1, 1, 1, 1, 1, 1, 1, 1, 1, 1, 1, 1, 1, 1, 1, 1, 1, 1, 1, 1, 1, 1, 1, 1, 1, 1, 1, 1, 1, 1, 1, 1, 1, 1, 1, 1, 1, 1, 1, 1, 1, 1, 1, 1, 1, 1, 1, 1, 1, 1, 1, 1, 1, 1, 1, 1, 1, 1, 1, 1, 1, 1, 1]\n"
     ]
    }
   ],
   "source": [
    "def ground_truth_labels(graph_stream_labels):\n",
    "    '''\n",
    "    Assign the true labels based on the annotations in our database\n",
    "    1 = Normal heartbeat\n",
    "    -1 = Anomalous heartbeat\n",
    "    \n",
    "    --------------------------------------------------------------------------\n",
    "\n",
    "    :param graph_stream_labels: a list of dataframes which can contain zero to \n",
    "    two rows for each heartbeat annotation.\n",
    "    \n",
    "    :return true_labels: list containing the true labels of (1) or (-1)\n",
    "    '''\n",
    "    true_labels = []\n",
    "    for graph_index, graph_annotation in enumerate(graph_stream_labels):\n",
    "        graph_label = 99999\n",
    "        if(len(graph_annotation.index) == 1):\n",
    "            if(graph_annotation.iloc[0]['Type'] == \"N\"):\n",
    "                true_labels.append(1)\n",
    "            else:\n",
    "                true_labels.append(-1)\n",
    "        elif (len(graph_annotation.index) == 2):\n",
    "            if((graph_annotation.iloc[0]['Type'] == \"N\") and (graph_annotation.iloc[1]['Type'] == \"N\")):\n",
    "                true_labels.append(1)\n",
    "            else:\n",
    "                true_labels.append(-1)\n",
    "        elif (len(graph_annotation.index) == 0):\n",
    "            true_labels.append(1)\n",
    "    return true_labels\n",
    "\n",
    "true_labels = ground_truth_labels(graph_stream_labels)\n",
    "print(true_labels)\n"
   ]
  },
  {
   "cell_type": "code",
   "execution_count": 87,
   "metadata": {},
   "outputs": [
    {
     "name": "stdout",
     "output_type": "stream",
     "text": [
      "Confusion matrix = \n",
      " [[  1   0]\n",
      " [  1 221]]\n",
      "\n",
      "Number of errors =  1\n",
      "\n",
      "accuracy = 0.9955\n",
      "precision  1.0\n",
      "recall  0.9955\n",
      "F1 score on Test 0.9977\n"
     ]
    }
   ],
   "source": [
    "from sklearn.metrics import confusion_matrix\n",
    "import pandas as pd\n",
    "from sklearn.metrics import precision_recall_fscore_support\n",
    "\n",
    "\n",
    "y_true = ground_truth_labels(graph_stream_labels)\n",
    "y_pred = clf.fit_predict(X=distance_matrix)\n",
    "print(\"Confusion matrix = \\n\", confusion_matrix(y_true, y_pred))\n",
    "n_errors = (y_pred != y_true).sum()\n",
    "print('\\nNumber of errors = ', n_errors)\n",
    "print('\\naccuracy =' , round(1 - (n_errors / len(y_true)),4))\n",
    "\n",
    "# #  Note that the ground truth and the y_pred for LOF is different than the original ... inliers = normal = 1 and outliers = fraud = -1\n",
    "# # We have to modify the y_pred for the F1 score calculation\n",
    "\n",
    "# y_predLOF = y_pred.copy()\n",
    "# y_predDF = pd.DataFrame(y_predLOF)\n",
    "# # print(y_predDF[y_predDF[0] == -1].count())\n",
    "\n",
    "# y_predDF[y_predDF[0] == 1] = 0\n",
    "# y_predDF[y_predDF[0] == -1] = 1\n",
    "# # print(y_predDF[y_predDF[0] == 1].count())\n",
    "\n",
    "# y_predLOF = y_predDF.values\n",
    "# y_predLOF = np.ravel(y_predLOF)\n",
    "\n",
    "# F1 Score\n",
    "#print(\"F1 score\", round(f1_score(y_valid,pred, average='binary'), 4))\n",
    "precision,recall,fbeta_score, support  = precision_recall_fscore_support(y_true, y_pred, average='binary')\n",
    "print(\"precision \", round((precision), 4))\n",
    "print(\"recall \", round((recall), 4))\n",
    "print(\"F1 score on Test\", round((fbeta_score), 4))"
   ]
  },
  {
   "cell_type": "code",
   "execution_count": 96,
   "metadata": {},
   "outputs": [
    {
     "data": {
      "image/png": "[encoded data removed]",
      "text/plain": [
       "<Figure size 576x432 with 2 Axes>"
      ]
     },
     "metadata": {
      "needs_background": "light"
     },
     "output_type": "display_data"
    }
   ],
   "source": [
    "from myHelper import My_confusion_matrix_plotter\n",
    "My_confusion_matrix_plotter.confusion_matrix_plotter(cm           = confusion_matrix(y_true, y_pred), \n",
    "                                                     normalize    = False,\n",
    "                                                     target_names = ['Anonymous Heartbeat', 'Normal Heartbeat'],\n",
    "                                                     title        = \"Confusion Matrix\")"
   ]
  },
  {
   "cell_type": "code",
   "execution_count": 99,
   "metadata": {},
   "outputs": [
    {
     "name": "stdout",
     "output_type": "stream",
     "text": [
      "True Negative (Anomalous) =  1\n",
      "False Negative (Anomalous) = 1\n",
      "False Positive (Normal)= 0\n",
      "True Positive (Normal)= 221\n"
     ]
    }
   ],
   "source": [
    "tn, fp, fn, tp = confusion_matrix(y_true, y_pred).ravel()\n",
    "print('True Negative (Anomalous) = ', tn)\n",
    "print('False Negative (Anomalous) =', fn)\n",
    "print('False Positive (Normal)=', fp)\n",
    "print('True Positive (Normal)=', tp)"
   ]
  },
  {
   "cell_type": "markdown",
   "metadata": {},
   "source": [
    "## Optimize num of neighbors hyper paramter for best F1 score"
   ]
  },
  {
   "cell_type": "code",
   "execution_count": 101,
   "metadata": {},
   "outputs": [
    {
     "data": {
      "text/html": [
       "<div>\n",
       "<style scoped>\n",
       "    .dataframe tbody tr th:only-of-type {\n",
       "        vertical-align: middle;\n",
       "    }\n",
       "\n",
       "    .dataframe tbody tr th {\n",
       "        vertical-align: top;\n",
       "    }\n",
       "\n",
       "    .dataframe thead th {\n",
       "        text-align: right;\n",
       "    }\n",
       "</style>\n",
       "<table border=\"1\" class=\"dataframe\">\n",
       "  <thead>\n",
       "    <tr style=\"text-align: right;\">\n",
       "      <th></th>\n",
       "      <th>NumNeighb</th>\n",
       "      <th>F1</th>\n",
       "    </tr>\n",
       "  </thead>\n",
       "  <tbody>\n",
       "    <tr>\n",
       "      <th>0</th>\n",
       "      <td>2</td>\n",
       "      <td>0.9977</td>\n",
       "    </tr>\n",
       "    <tr>\n",
       "      <th>1</th>\n",
       "      <td>3</td>\n",
       "      <td>0.9977</td>\n",
       "    </tr>\n",
       "    <tr>\n",
       "      <th>2</th>\n",
       "      <td>4</td>\n",
       "      <td>0.9955</td>\n",
       "    </tr>\n",
       "    <tr>\n",
       "      <th>3</th>\n",
       "      <td>5</td>\n",
       "      <td>0.9955</td>\n",
       "    </tr>\n",
       "    <tr>\n",
       "      <th>4</th>\n",
       "      <td>6</td>\n",
       "      <td>0.9977</td>\n",
       "    </tr>\n",
       "  </tbody>\n",
       "</table>\n",
       "</div>"
      ],
      "text/plain": [
       "   NumNeighb      F1\n",
       "0          2  0.9977\n",
       "1          3  0.9977\n",
       "2          4  0.9955\n",
       "3          5  0.9955\n",
       "4          6  0.9977"
      ]
     },
     "execution_count": 101,
     "metadata": {},
     "output_type": "execute_result"
    }
   ],
   "source": [
    "minRE = 2\n",
    "maxRE = 40\n",
    "    \n",
    "EpsF1 = []\n",
    "y_true = ground_truth_labels(graph_stream_labels)\n",
    "\n",
    "for TryRE in range(minRE,maxRE,1):\n",
    "    clf = LocalOutlierFactor(n_neighbors=TryRE,\n",
    "                             algorithm=\"brute\",\n",
    "                             metric=\"precomputed\",\n",
    "                             contamination='auto', # the proportion of outliers in the data set float \n",
    "                             novelty=False, # novelty=True if you want to use LOF for novelty \n",
    "                                            # detection and predict on new unseen data\n",
    "                             n_jobs=None)\n",
    "    \n",
    "    y_pred = clf.fit_predict(X=distance_matrix)\n",
    "    n_errors = (y_pred != y_true).sum()\n",
    "#     print('\\naccuracy =' , round(1 - (n_errors / len(y_true)),4))\n",
    "    \n",
    "#     X_scores = clf.negative_outlier_factor_\n",
    "    \n",
    "    precision,recall,fbeta_score, support  = precision_recall_fscore_support(y_true, y_pred, average='binary')\n",
    "    \n",
    "#     print(\"F1 score on test\", round(fbeta_score,4), \" with num neighbors \", TryRE)\n",
    "    EpsF1.append([TryRE, round(fbeta_score,4)])\n",
    "    \n",
    "EpsF1df = pd.DataFrame(EpsF1, columns = ['NumNeighb', 'F1'])\n",
    "EpsF1df.head()"
   ]
  },
  {
   "cell_type": "code",
   "execution_count": 86,
   "metadata": {},
   "outputs": [
    {
     "data": {
      "image/png": "[encoded data removed]",
      "text/plain": [
       "<Figure size 432x288 with 1 Axes>"
      ]
     },
     "metadata": {
      "needs_background": "light"
     },
     "output_type": "display_data"
    }
   ],
   "source": [
    "EpsF1df.plot.line(\"NumNeighb\",\"F1\")\n",
    "plt.xlim(2, 39)\n",
    "plt.title(\"F1 vs NumNeighb\")\n",
    "plt.show()"
   ]
  },
  {
   "cell_type": "markdown",
   "metadata": {},
   "source": [
    "Now I know that the optimal number of neighbors for our case is 2."
   ]
  },
  {
   "cell_type": "code",
   "execution_count": null,
   "metadata": {},
   "outputs": [],
   "source": []
  }
 ],
 "metadata": {
  "kernelspec": {
   "display_name": "Python 3",
   "language": "python",
   "name": "python3"
  },
  "language_info": {
   "codemirror_mode": {
    "name": "ipython",
    "version": 3
   },
   "file_extension": ".py",
   "mimetype": "text/x-python",
   "name": "python",
   "nbconvert_exporter": "python",
   "pygments_lexer": "ipython3",
   "version": "3.7.5rc1"
  }
 },
 "nbformat": 4,
 "nbformat_minor": 4
}
