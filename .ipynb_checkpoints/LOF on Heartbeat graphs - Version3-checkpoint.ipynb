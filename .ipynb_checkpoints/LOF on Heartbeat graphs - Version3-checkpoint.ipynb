{
 "cells": [
  {
   "cell_type": "markdown",
   "metadata": {},
   "source": [
    "# Unsupervised Outlier Detection on Heartbeat graphs\n",
    "\n",
    "I am using Local Outlier Factor (LOF) method and k-nearest neighbors to do anomaly detection on the graph representation of the heart beat signal.\n",
    "\n",
    "This notebook, is completing the final step of our pipeline and combining the steps and results of <code>MIT-BIH-Kaggle</code> notebook with <code>KNN_AnomalyDetection_OnGraphs</code> to have a complete process from a raw signal to detect anomalies for each heartbeat of the signal using its coresponding graph.\n",
    "\n",
    "The outlies are the followings:\n",
    "1. Create graph stream from the original signal.\n",
    "2. Compute the pairwise distance between each two graphs and produce the distance matrix using Graph edit distance.\n",
    "3. Feed the distance matrix for our graph stream into a Local Outlier Factor (LOF) model and detect the abnormal graphs (Each graph corespond to a heartbeat).\n",
    "4. Compare the detected graph with the ground truth, The actual label of the heartbeat is labeled by expert Cardialogists, and compute the accuracy of our model."
   ]
  },
  {
   "cell_type": "markdown",
   "metadata": {},
   "source": [
    "## 1. Graph stream from the original signal.\n",
    "Lets generate our graph stream from the **MIT-BIH** dataset using the helper functions which implemented  in <code>MIT-BIH-Kaggle</code>."
   ]
  },
  {
   "cell_type": "code",
   "execution_count": 17,
   "metadata": {},
   "outputs": [
    {
     "data": {
      "text/plain": [
       "221"
      ]
     },
     "execution_count": 17,
     "metadata": {},
     "output_type": "execute_result"
    }
   ],
   "source": [
    "%reload_ext autoreload\n",
    "%autoreload\n",
    "%matplotlib inline\n",
    "from myHelper import timing\n",
    "from myHelper import GraphSignalHelper\n",
    "import numpy as np\n",
    "\n",
    "data_df = GraphSignalHelper.read_heartbeat_database(name='100', nRowsRead=65000)\n",
    "annotations_df = GraphSignalHelper.read_annotation_database(name='100')\n",
    "\n",
    "# downsampling the signal\n",
    "downstep = 8\n",
    "(downsp_data_df, downsp_annotations_df) = GraphSignalHelper.downsample(data_df,\n",
    "                                                                       annotations_df,\n",
    "                                                                       downstep)\n",
    "\n",
    "\n",
    "graph_stream, graph_stream_labels = GraphSignalHelper.generate_graph_stream(downsp_data_df, \n",
    "                                                                            downsp_annotations_df, \n",
    "                                                                            fs = (360 / downstep))\n",
    "len(graph_stream)\n",
    "# 2272"
   ]
  },
  {
   "cell_type": "code",
   "execution_count": 18,
   "metadata": {},
   "outputs": [
    {
     "name": "stdout",
     "output_type": "stream",
     "text": [
      "Name: \n",
      "Type: Graph\n",
      "Number of nodes: 36\n",
      "Number of edges: 145\n",
      "Average degree:   8.0556\n"
     ]
    }
   ],
   "source": [
    "import networkx as nx\n",
    "print(nx.info(graph_stream[0]))"
   ]
  },
  {
   "cell_type": "markdown",
   "metadata": {},
   "source": [
    "## 2. Calculate gragh edit distance matrix\n",
    "Compute the pairwise distance between each two graphs and produce the distance matrix using Graph edit distance."
   ]
  },
  {
   "cell_type": "code",
   "execution_count": 19,
   "metadata": {},
   "outputs": [
    {
     "name": "stdout",
     "output_type": "stream",
     "text": [
      "GED_distance_matrix took 99921.80681228638   mil sec\n",
      "precomputed distance matrix =\n",
      " [[ 0.  63.  51.5 ... 55.5 51.  63.5]\n",
      " [63.   0.  60.  ... 64.  54.  56.5]\n",
      " [51.5 60.   0.  ... 47.  35.  65.5]\n",
      " ...\n",
      " [55.5 64.  47.  ...  0.  50.5 61.5]\n",
      " [51.  54.  35.  ... 50.5  0.  66. ]\n",
      " [63.5 56.5 65.5 ... 61.5 66.   0. ]]\n"
     ]
    }
   ],
   "source": [
    "from myHelper import timing\n",
    "\n",
    "# Gmatch4py use networkx graph \n",
    "import networkx as nx \n",
    "# import the GED using the munkres algorithm\n",
    "import gmatch4py as gm\n",
    "\n",
    "\n",
    "@timing.time_it\n",
    "def GED_distance_matrix(graph_stream):\n",
    "    # convert from dictionary of graphs to list of graphs\n",
    "    graph_stream_list = [v for k, v in graph_stream.items()] \n",
    "    ged=gm.GraphEditDistance(1,1,1,1) # all edit costs are equal to 1\n",
    "    non_symetric_GED_matrix=ged.compare(graph_stream_list,None)\n",
    "    symetric_ged_matrix = (non_symetric_GED_matrix.transpose()+non_symetric_GED_matrix)/2\n",
    "    return symetric_ged_matrix\n",
    "\n",
    "distance_matrix = GED_distance_matrix(graph_stream)\n",
    "print(\"precomputed distance matrix =\\n\",distance_matrix)\n"
   ]
  },
  {
   "cell_type": "code",
   "execution_count": 20,
   "metadata": {},
   "outputs": [],
   "source": [
    "# np.save('Distance_matrix_223_graph', distance_matrix) # save the file as \"Distance_matrix_223_graph.npy\" "
   ]
  },
  {
   "cell_type": "markdown",
   "metadata": {},
   "source": [
    "## 3. Anomaly detection on graphs using distance matrix\n",
    "Feed the distance matrix for our graph stream into a Local Outlier Factor (LOF) model and detect the abnormal graphs (Each graph corespond to a heartbeat)."
   ]
  },
  {
   "cell_type": "markdown",
   "metadata": {},
   "source": [
    "## Novelty Detection\n",
    "I do the novelty detection on train and test dataX_test"
   ]
  },
  {
   "cell_type": "code",
   "execution_count": 21,
   "metadata": {},
   "outputs": [
    {
     "name": "stdout",
     "output_type": "stream",
     "text": [
      "X_train shape =  (148, 1)\n",
      "X_test shape =  (73, 1)\n",
      "ged_novelty_detection took 98675.01902580261   mil sec\n",
      "y_pred =  [ 1  1  1  1  1  1  1  1  1  1  1  1  1  1  1  1  1  1  1  1  1  1  1  1\n",
      "  1  1  1  1  1  1  1  1  1  1  1  1  1  1  1  1  1  1  1  1  1  1  1  1\n",
      "  1  1  1  1  1  1  1  1  1  1  1  1  1  1  1  1 -1  1  1  1  1  1 -1  1\n",
      "  1]\n",
      "y_test =  [1 1 1 1 1 1 1 1 1 1 1 1 1 1 1 1 1 1 1 1 1 1 1 1 1 1 1 1 1 1 1 1 1 1 1 1 1\n",
      " 1 1 1 1 1 1 1 1 1 1 1 1 1 1 1 1 1 1 1 1 1 1 1 1 1 1 1 1 1 1 1 1 1 1 1 1]\n"
     ]
    }
   ],
   "source": [
    "from myHelper import anomaly_detection\n",
    "\n",
    "(X_train, X_test, y_train, y_test) = anomaly_detection.my_train_test_split(graph_stream,\n",
    "                                                                           graph_stream_labels,\n",
    "                                                                           test_size=0.33,\n",
    "                                                                           random_state=42)\n",
    "y_pred = anomaly_detection.ged_novelty_detection(graph_stream,\n",
    "                                                 X_test=X_test,\n",
    "                                                 X_train=X_train,\n",
    "                                                 n_process= -1)\n",
    "print(\"y_pred = \", y_pred)\n",
    "print(\"y_test = \", y_test)"
   ]
  },
  {
   "cell_type": "markdown",
   "metadata": {},
   "source": [
    "### To DO\n",
    "I need to improve it with cross validation and get the accuracy for the whole dataset"
   ]
  },
  {
   "cell_type": "markdown",
   "metadata": {},
   "source": [
    "## Outlier Detection\n",
    "I do outlier detection on the whole data of a patient."
   ]
  },
  {
   "cell_type": "code",
   "execution_count": 22,
   "metadata": {},
   "outputs": [
    {
     "name": "stdout",
     "output_type": "stream",
     "text": [
      "X_train shape =  (221, 1)\n",
      "ged_outlier_detection took 147097.4419116974   mil sec\n",
      "y_pred =  [ 1  1  1  1  1  1  1 -1  1  1  1  1  1  1  1  1  1  1  1  1  1  1  1  1\n",
      "  1  1  1  1  1  1  1  1  1  1  1  1  1  1  1  1  1  1  1  1  1  1  1  1\n",
      "  1  1  1  1  1  1  1  1  1  1  1  1  1  1  1  1  1  1  1  1  1  1  1  1\n",
      "  1  1  1  1  1  1  1  1  1  1  1  1  1  1  1  1  1  1  1  1  1  1  1  1\n",
      "  1  1  1  1  1  1  1  1  1  1  1  1  1  1  1  1  1  1  1  1  1  1  1  1\n",
      "  1  1  1  1  1  1  1  1  1  1  1  1  1  1  1  1  1  1  1  1  1  1  1  1\n",
      "  1  1  1  1  1  1  1  1  1  1  1 -1 -1  1  1  1  1  1  1  1  1  1  1  1\n",
      "  1  1  1  1  1  1  1  1  1  1  1  1  1  1  1  1  1  1  1  1  1  1  1  1\n",
      "  1  1  1  1  1  1  1  1  1  1  1  1  1  1  1  1  1  1  1  1  1  1  1  1\n",
      "  1  1  1  1  1]\n",
      "y_train =  [ 1  1  1  1  1  1 -1  1  1  1  1  1  1  1  1  1  1  1  1  1  1  1  1  1\n",
      "  1  1  1  1  1  1  1  1  1  1  1  1  1  1  1  1  1  1  1  1  1  1  1  1\n",
      "  1  1  1  1  1  1  1  1  1  1  1  1  1  1  1  1  1  1  1  1  1  1  1  1\n",
      "  1  1  1  1  1  1  1  1  1  1  1  1  1  1  1  1  1  1  1  1  1  1  1  1\n",
      "  1  1  1  1  1  1  1  1  1  1  1  1  1  1  1  1  1  1  1  1  1  1  1  1\n",
      "  1  1  1  1  1  1  1  1  1  1  1  1  1  1  1  1  1  1  1  1  1  1  1  1\n",
      "  1  1  1  1  1  1  1  1  1  1  1  1  1  1  1  1  1  1  1  1  1  1  1  1\n",
      "  1  1  1  1  1  1  1  1  1  1  1  1  1  1  1  1  1  1  1  1  1  1  1  1\n",
      "  1  1  1  1  1  1  1  1  1  1  1  1  1  1  1  1  1  1  1  1  1  1  1  1\n",
      "  1  1  1  1  1]\n"
     ]
    }
   ],
   "source": [
    "from myHelper import anomaly_detection\n",
    "\n",
    "X_train, y_train = anomaly_detection.get_all_data(graph_stream, graph_stream_labels)\n",
    "\n",
    "y_pred = anomaly_detection.ged_outlier_detection(graph_stream,\n",
    "                                                 X_train=X_train,\n",
    "                                                 n_process= -1)\n",
    "\n",
    "print(\"y_pred = \", y_pred)\n",
    "print(\"y_train = \", y_train)"
   ]
  },
  {
   "cell_type": "markdown",
   "metadata": {},
   "source": [
    "## 4. Evaluation to the ground truth (labels by Cardiologists)\n",
    "Compare the detected anomaly graphs with the ground truth, The actual label of the heartbeat is labeled by expert Cardialogists, and compute the accuracy of our model."
   ]
  },
  {
   "cell_type": "code",
   "execution_count": 23,
   "metadata": {},
   "outputs": [
    {
     "name": "stdout",
     "output_type": "stream",
     "text": [
      "X_train shape =  (221, 1)\n",
      "ged_outlier_detection took 147053.98893356323   mil sec\n",
      "Confusion matrix = \n",
      " [[  0   1]\n",
      " [  3 217]]\n",
      "\n",
      "Number of errors =  4\n",
      "\n",
      "accuracy = 0.9819\n",
      "precision  0.9954\n",
      "recall  0.9864\n",
      "F1 score on Test 0.9909\n"
     ]
    }
   ],
   "source": [
    "from sklearn.metrics import confusion_matrix\n",
    "from sklearn.metrics import precision_recall_fscore_support\n",
    "\n",
    "X_train, y_train = anomaly_detection.get_all_data(graph_stream, graph_stream_labels)\n",
    "y_pred = anomaly_detection.ged_outlier_detection(graph_stream,\n",
    "                                                 X_train=X_train,\n",
    "                                                 n_process= -1)\n",
    "y_true = y_train\n",
    "\n",
    "print(\"Confusion matrix = \\n\", confusion_matrix(y_true, y_pred))\n",
    "n_errors = (y_pred != y_true).sum()\n",
    "print('\\nNumber of errors = ', n_errors)\n",
    "print('\\naccuracy =' , round(1 - (n_errors / len(y_true)),4))\n",
    "\n",
    "# F1 Score\n",
    "#print(\"F1 score\", round(f1_score(y_valid,pred, average='binary'), 4))\n",
    "precision,recall,fbeta_score, support  = precision_recall_fscore_support(y_true, \n",
    "                                                                         y_pred, \n",
    "                                                                         average='binary')\n",
    "print(\"precision \", round((precision), 4))\n",
    "print(\"recall \", round((recall), 4))\n",
    "print(\"F1 score on Test\", round((fbeta_score), 4))"
   ]
  },
  {
   "cell_type": "code",
   "execution_count": 24,
   "metadata": {},
   "outputs": [
    {
     "data": {
      "image/png": "[encoded data removed]",
      "text/plain": [
       "<matplotlib.figure.Figure at 0x11d23b860>"
      ]
     },
     "metadata": {
      "needs_background": "light"
     },
     "output_type": "display_data"
    }
   ],
   "source": [
    "from myHelper import My_confusion_matrix_plotter\n",
    "My_confusion_matrix_plotter.confusion_matrix_plotter(cm           = confusion_matrix(y_true, \n",
    "                                                                                     y_pred), \n",
    "                                                     normalize    = False,\n",
    "                                                     target_names = ['Anonymous Heartbeat', \n",
    "                                                                     'Normal Heartbeat'],\n",
    "                                                     title        = \"Confusion Matrix\")"
   ]
  },
  {
   "cell_type": "code",
   "execution_count": 25,
   "metadata": {},
   "outputs": [
    {
     "name": "stdout",
     "output_type": "stream",
     "text": [
      "True Negative (Anomalous) =  0\n",
      "False Negative (Anomalous) = 3\n",
      "False Positive (Normal)= 1\n",
      "True Positive (Normal)= 217\n"
     ]
    }
   ],
   "source": [
    "tn, fp, fn, tp = confusion_matrix(y_true, y_pred).ravel()\n",
    "print('True Negative (Anomalous) = ', tn)\n",
    "print('False Negative (Anomalous) =', fn)\n",
    "print('False Positive (Normal)=', fp)\n",
    "print('True Positive (Normal)=', tp)"
   ]
  },
  {
   "cell_type": "markdown",
   "metadata": {},
   "source": [
    "## Optimize num of neighbors hyper paramter for best F1 score"
   ]
  },
  {
   "cell_type": "code",
   "execution_count": 26,
   "metadata": {},
   "outputs": [
    {
     "name": "stdout",
     "output_type": "stream",
     "text": [
      "X_train shape =  (221, 1)\n",
      "ged_outlier_detection took 136668.72024536133   mil sec\n",
      "X_train shape =  (221, 1)\n",
      "ged_outlier_detection took 137506.8678855896   mil sec\n",
      "X_train shape =  (221, 1)\n",
      "ged_outlier_detection took 136833.98485183716   mil sec\n",
      "X_train shape =  (221, 1)\n",
      "ged_outlier_detection took 137063.0760192871   mil sec\n",
      "X_train shape =  (221, 1)\n",
      "ged_outlier_detection took 136049.35765266418   mil sec\n",
      "X_train shape =  (221, 1)\n",
      "ged_outlier_detection took 136427.03080177307   mil sec\n",
      "X_train shape =  (221, 1)\n",
      "ged_outlier_detection took 138121.80519104004   mil sec\n",
      "X_train shape =  (221, 1)\n",
      "ged_outlier_detection took 146146.5301513672   mil sec\n"
     ]
    },
    {
     "data": {
      "text/html": [
       "<div>\n",
       "<style scoped>\n",
       "    .dataframe tbody tr th:only-of-type {\n",
       "        vertical-align: middle;\n",
       "    }\n",
       "\n",
       "    .dataframe tbody tr th {\n",
       "        vertical-align: top;\n",
       "    }\n",
       "\n",
       "    .dataframe thead th {\n",
       "        text-align: right;\n",
       "    }\n",
       "</style>\n",
       "<table border=\"1\" class=\"dataframe\">\n",
       "  <thead>\n",
       "    <tr style=\"text-align: right;\">\n",
       "      <th></th>\n",
       "      <th>NumNeighb</th>\n",
       "      <th>F1</th>\n",
       "    </tr>\n",
       "  </thead>\n",
       "  <tbody>\n",
       "    <tr>\n",
       "      <th>0</th>\n",
       "      <td>2</td>\n",
       "      <td>0.9955</td>\n",
       "    </tr>\n",
       "    <tr>\n",
       "      <th>1</th>\n",
       "      <td>7</td>\n",
       "      <td>0.9909</td>\n",
       "    </tr>\n",
       "    <tr>\n",
       "      <th>2</th>\n",
       "      <td>12</td>\n",
       "      <td>0.9909</td>\n",
       "    </tr>\n",
       "    <tr>\n",
       "      <th>3</th>\n",
       "      <td>17</td>\n",
       "      <td>0.9909</td>\n",
       "    </tr>\n",
       "    <tr>\n",
       "      <th>4</th>\n",
       "      <td>22</td>\n",
       "      <td>0.9909</td>\n",
       "    </tr>\n",
       "  </tbody>\n",
       "</table>\n",
       "</div>"
      ],
      "text/plain": [
       "   NumNeighb      F1\n",
       "0          2  0.9955\n",
       "1          7  0.9909\n",
       "2         12  0.9909\n",
       "3         17  0.9909\n",
       "4         22  0.9909"
      ]
     },
     "execution_count": 26,
     "metadata": {},
     "output_type": "execute_result"
    }
   ],
   "source": [
    "import pandas as pd\n",
    "from myHelper import anomaly_detection\n",
    "min_NN = 2\n",
    "max_NN = 40\n",
    "    \n",
    "EpsF1 = []\n",
    "y_true = graph_stream_labels\n",
    "\n",
    "for try_NN in range(min_NN,max_NN,5):\n",
    "    X_train, y_train = anomaly_detection.get_all_data(graph_stream, graph_stream_labels)\n",
    "    y_pred = anomaly_detection.ged_outlier_detection(graph_stream,\n",
    "                                                     X_train=X_train,\n",
    "                                                     n_process= -1,\n",
    "                                                     n_neighbors = try_NN)\n",
    "    y_true = y_train\n",
    "    \n",
    "    n_errors = (y_pred != y_true).sum()\n",
    "    \n",
    "    precision,recall,fbeta_score, support  = precision_recall_fscore_support(y_true, \n",
    "                                                                             y_pred, \n",
    "                                                                             average='binary')\n",
    "    EpsF1.append([try_NN, round(fbeta_score,4)])\n",
    "    \n",
    "EpsF1df = pd.DataFrame(EpsF1, columns = ['NumNeighb', 'F1'])\n",
    "EpsF1df.head()"
   ]
  },
  {
   "cell_type": "code",
   "execution_count": 29,
   "metadata": {},
   "outputs": [
    {
     "data": {
      "image/png": "[encoded data removed]",
      "text/plain": [
       "<matplotlib.figure.Figure at 0x11c868240>"
      ]
     },
     "metadata": {
      "needs_background": "light"
     },
     "output_type": "display_data"
    }
   ],
   "source": [
    "from matplotlib import pyplot as plt\n",
    "EpsF1df.plot.line(\"NumNeighb\",\"F1\")\n",
    "plt.xlim(2, 40)\n",
    "plt.title(\"F1 vs NumNeighb\")\n",
    "plt.show()"
   ]
  },
  {
   "cell_type": "markdown",
   "metadata": {},
   "source": [
    "Now I know that the optimal number of neighbors for our case is 2."
   ]
  },
  {
   "cell_type": "markdown",
   "metadata": {},
   "source": [
    "## Compute the ROC and AUC\n",
    "\n",
    "To do:\n",
    "\n",
    "https://scikit-learn.org/stable/modules/generated/sklearn.metrics.roc_auc_score.html\n",
    "\n",
    "https://developers.google.com/machine-learning/crash-course/classification/roc-and-auc"
   ]
  },
  {
   "cell_type": "code",
   "execution_count": null,
   "metadata": {},
   "outputs": [],
   "source": []
  }
 ],
 "metadata": {
  "kernelspec": {
   "display_name": "Python 3",
   "language": "python",
   "name": "python3"
  },
  "language_info": {
   "codemirror_mode": {
    "name": "ipython",
    "version": 3
   },
   "file_extension": ".py",
   "mimetype": "text/x-python",
   "name": "python",
   "nbconvert_exporter": "python",
   "pygments_lexer": "ipython3",
   "version": "3.6.5"
  }
 },
 "nbformat": 4,
 "nbformat_minor": 4
}
