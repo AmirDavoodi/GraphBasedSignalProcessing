{
 "cells": [
  {
   "cell_type": "markdown",
   "metadata": {},
   "source": [
    "## Save (Graph Signature vectors, vec_dis_mat and hb_labels) of all patient"
   ]
  },
  {
   "cell_type": "code",
   "execution_count": 1,
   "metadata": {},
   "outputs": [
    {
     "name": "stdout",
     "output_type": "stream",
     "text": [
      "cal_vec_dist_mat took 238.38281631469727   mil sec\n",
      "Patient with # 100 processing ...\n",
      "Patient 100 = Aggregating features:  100.000000% Completecal_vec_dist_mat took 179.520845413208   mil sec\n",
      "Patient with # 101 processing ...\n",
      "Patient 101 = Aggregating features:  100.000000% Completecal_vec_dist_mat took 215.45124053955078   mil sec\n",
      "Patient with # 102 processing ...\n",
      "Patient 102 = Aggregating features:  100.000000% Completecal_vec_dist_mat took 203.42350006103516   mil sec\n",
      "Patient with # 103 processing ...\n",
      "Patient 103 = Aggregating features:  100.000000% Completecal_vec_dist_mat took 222.43952751159668   mil sec\n",
      "Patient with # 104 processing ...\n",
      "Patient 104 = Aggregating features:  100.000000% Completecal_vec_dist_mat took 266.28804206848145   mil sec\n",
      "Patient with # 105 processing ...\n",
      "Patient 105 = Aggregating features:  100.000000% Completecal_vec_dist_mat took 203.4897804260254   mil sec\n",
      "Patient with # 106 processing ...\n",
      "Patient 106 = Aggregating features:  100.000000% Completecal_vec_dist_mat took 209.40852165222168   mil sec\n",
      "Patient with # 107 processing ...\n",
      "Patient 107 = Aggregating features:  100.000000% Completecal_vec_dist_mat took 173.5360622406006   mil sec\n",
      "Patient with # 108 processing ...\n",
      "Patient 108 = Aggregating features:  100.000000% Completecal_vec_dist_mat took 257.3120594024658   mil sec\n",
      "Patient with # 109 processing ...\n",
      "Patient 109 = Aggregating features:  100.000000% Completecal_vec_dist_mat took 208.39715003967285   mil sec\n",
      "Patient with # 111 processing ...\n",
      "Patient 111 = Aggregating features:  100.000000% Completecal_vec_dist_mat took 260.3156566619873   mil sec\n",
      "Patient with # 112 processing ...\n",
      "Patient 112 = Aggregating features:  100.000000% Completecal_vec_dist_mat took 170.53699493408203   mil sec\n",
      "Patient with # 113 processing ...\n",
      "Patient 113 = Aggregating features:  100.000000% Completecal_vec_dist_mat took 185.5003833770752   mil sec\n",
      "Patient with # 114 processing ...\n",
      "Patient 114 = Aggregating features:  100.000000% Completecal_vec_dist_mat took 189.48888778686523   mil sec\n",
      "Patient with # 115 processing ...\n",
      "Patient 115 = Aggregating features:  100.000000% Completecal_vec_dist_mat took 259.30237770080566   mil sec\n",
      "Patient with # 116 processing ...\n",
      "Patient 116 = Aggregating features:  100.000000% Completecal_vec_dist_mat took 145.60890197753906   mil sec\n",
      "Patient with # 117 processing ...\n",
      "Patient 117 = Aggregating features:  100.000000% Completecal_vec_dist_mat took 226.3925075531006   mil sec\n",
      "Patient with # 118 processing ...\n",
      "Patient 118 = Aggregating features:  100.000000% Completecal_vec_dist_mat took 199.44190979003906   mil sec\n",
      "Patient with # 119 processing ...\n",
      "Patient 119 = Aggregating features:  100.000000% Completecal_vec_dist_mat took 178.52234840393066   mil sec\n",
      "Patient with # 121 processing ...\n",
      "Patient 121 = Aggregating features:  100.000000% Completecal_vec_dist_mat took 253.28969955444336   mil sec\n",
      "Patient with # 122 processing ...\n",
      "Patient 122 = Aggregating features:  100.000000% Completecal_vec_dist_mat took 143.6481475830078   mil sec\n",
      "Patient with # 123 processing ...\n",
      "Patient 123 = Aggregating features:  100.000000% Completecal_vec_dist_mat took 152.62675285339355   mil sec\n",
      "Patient with # 124 processing ...\n",
      "Patient 124 = Aggregating features:  100.000000% Completecal_vec_dist_mat took 268.24951171875   mil sec\n",
      "Patient with # 200 processing ...\n",
      "Patient 200 = Aggregating features:  100.000000% Completecal_vec_dist_mat took 201.4615535736084   mil sec\n",
      "Patient with # 201 processing ...\n",
      "Patient 201 = Aggregating features:  100.000000% Completecal_vec_dist_mat took 450.793981552124   mil sec\n",
      "Patient with # 202 processing ...\n",
      "Patient 202 = Aggregating features:  100.000000% Completecal_vec_dist_mat took 309.1728687286377   mil sec\n",
      "Patient with # 203 processing ...\n",
      "Patient 203 = Aggregating features:  100.000000% Completecal_vec_dist_mat took 284.21521186828613   mil sec\n",
      "Patient with # 205 processing ...\n",
      "Patient 205 = Aggregating features:  100.000000% Completecal_vec_dist_mat took 216.42065048217773   mil sec\n",
      "Patient with # 207 processing ...\n",
      "Patient 207 = Aggregating features:  100.000000% Completecal_vec_dist_mat took 550.5275726318359   mil sec\n",
      "Patient with # 208 processing ...\n",
      "Patient 208 = Aggregating features:  100.000000% Completecal_vec_dist_mat took 320.1441764831543   mil sec\n",
      "Patient with # 209 processing ...\n",
      "Patient 209 = Aggregating features:  100.000000% Completecal_vec_dist_mat took 481.71138763427734   mil sec\n",
      "Patient with # 210 processing ...\n",
      "Patient 210 = Aggregating features:  100.000000% Completecal_vec_dist_mat took 283.24341773986816   mil sec\n",
      "Patient with # 212 processing ...\n",
      "Patient 212 = Aggregating features:  100.000000% Completecal_vec_dist_mat took 350.04377365112305   mil sec\n",
      "Patient with # 213 processing ...\n",
      "Patient 213 = Aggregating features:  100.000000% Completecal_vec_dist_mat took 227.39219665527344   mil sec\n",
      "Patient with # 214 processing ...\n",
      "Patient 214 = Aggregating features:  100.000000% Completecal_vec_dist_mat took 367.0191764831543   mil sec\n",
      "Patient with # 215 processing ...\n",
      "Patient 215 = Aggregating features:  100.000000% Completecal_vec_dist_mat took 423.89535903930664   mil sec\n",
      "Patient with # 217 processing ...\n",
      "Patient 217 = Aggregating features:  100.000000% Completecal_vec_dist_mat took 220.40987014770508   mil sec\n",
      "Patient with # 219 processing ...\n",
      "Patient 219 = Aggregating features:  100.000000% Completecal_vec_dist_mat took 199.4340419769287   mil sec\n",
      "Patient with # 220 processing ...\n",
      "Patient 220 = Aggregating features:  100.000000% Completecal_vec_dist_mat took 477.6790142059326   mil sec\n",
      "Patient with # 221 processing ...\n",
      "Patient 221 = Aggregating features:  100.000000% Completecal_vec_dist_mat took 253.30018997192383   mil sec\n",
      "Patient with # 222 processing ...\n",
      "Patient 222 = Aggregating features:  100.000000% Completecal_vec_dist_mat took 479.6721935272217   mil sec\n",
      "Patient with # 223 processing ...\n",
      "Patient 223 = Aggregating features:  100.000000% Completecal_vec_dist_mat took 448.8215446472168   mil sec\n",
      "Patient with # 228 processing ...\n",
      "Patient 228 = Aggregating features:  100.000000% Completecal_vec_dist_mat took 226.3925075531006   mil sec\n",
      "Patient with # 230 processing ...\n",
      "Patient 230 = Aggregating features:  100.000000% Completecal_vec_dist_mat took 194.50759887695312   mil sec\n",
      "Patient with # 231 processing ...\n",
      "Patient 231 = Aggregating features:  100.000000% Completecal_vec_dist_mat took 233.37626457214355   mil sec\n",
      "Patient with # 232 processing ...\n",
      "Patient 232 = Aggregating features:  100.000000% Completecal_vec_dist_mat took 332.0901393890381   mil sec\n",
      "Patient with # 233 processing ...\n",
      "Patient 233 = Aggregating features:  100.000000% Completecal_vec_dist_mat took 286.20147705078125   mil sec\n",
      "Patient with # 234 processing ...\n",
      "Patient 234 = Aggregating features:  100.000000% Complete"
     ]
    }
   ],
   "source": [
    "from myHelper import timing\n",
    "from myHelper import GraphSignalHelper\n",
    "import numpy as np\n",
    "from myHelper import db_helper\n",
    "import networkx as nx\n",
    "from myHelper import dis_mat\n",
    "from myHelper import netSimile\n",
    "\n",
    "hyper_param = {\n",
    "    \"contamination\": 'auto',\n",
    "    \"n_neighbors\": 20\n",
    "}\n",
    "\n",
    "DB_dir ='./mitbih-database\\\\'\n",
    "patients_id = db_helper.get_patients_id(DB_dir)\n",
    "\n",
    "for p_id in patients_id:\n",
    "    DB_dir ='./mitbih-database/'\n",
    "    r_detect = 'two_aver'\n",
    "    data_df = db_helper.read_heartbeat_database(DB_dir, p_id, nRowsRead=None)\n",
    "    annotations_df = db_helper.read_annotation_database(DB_dir, p_id)\n",
    "\n",
    "    # downsampling the signal\n",
    "    downstep = 2\n",
    "    (downsp_data_df, downsp_annotations_df) = GraphSignalHelper.downsample(data_df,\n",
    "                                                                   annotations_df,\n",
    "                                                                   downstep)\n",
    "    # # split the the signal into heartbeat using the R-peak detection\n",
    "    # heart_beats, hbs_annotations = GraphSignalHelper.heartbeat_spliting(downsp_data_df, \n",
    "    #                                                     downsp_annotations_df,\n",
    "    #                                                     R_detector=r_detect,\n",
    "    #                                                     fs = (360 / downstep))\n",
    "    # split the the signal into (fixed) heartbeat using the R-peak detection\n",
    "    heart_beats, hbs_annotations = GraphSignalHelper.fixed_heartbeat_spliting(downsp_data_df, \n",
    "                                                                              downsp_annotations_df,\n",
    "                                                                              R_detector=r_detect,\n",
    "                                                                              fs = (360 / downstep))\n",
    "\n",
    "    vec_dis_mat = dis_mat.cal_vec_dist_mat(heart_beats)\n",
    "    np.save('temp/vec_dis_mat_'+str(p_id), vec_dis_mat)\n",
    "    # vec_dis_mat = np.load('temp/vec_dis_mat_'+str(p_id)+'.npy')\n",
    "    \n",
    "    # labeling heartbeats by looking at their annotations into \n",
    "    # (-1) or (1) for Anomalous or Normal\n",
    "    hb_labels = GraphSignalHelper.anomaly_labels(hbs_annotations)\n",
    "\n",
    "    print('Patient with # '+str(p_id)+' processing ...')\n",
    "    graph_stream, graph_stream_labels = GraphSignalHelper.generate_graph_stream(heart_beats, \n",
    "                                                                                hb_labels)\n",
    "    np.save('temp/hb_labels_'+str(p_id), hb_labels)\n",
    "    # hb_labels = np.load('temp/hb_labels_'+str(p_id)+'.npy')\n",
    "    # np.save('temp/graph_stream_'+str(p_id), graph_stream)\n",
    "    # graph_stream = np.load('temp/graph_stream_'+str(p_id)+'.npy')\n",
    "\n",
    "    # print(\"Number of graphs = \", len(graph_stream))\n",
    "    # print(nx.info(graph_stream[0]))\n",
    "    \n",
    "    \n",
    "    signatures = []\n",
    "\n",
    "    for index, graph in graph_stream.items():\n",
    "        signature = netSimile.aggregate_features(graph)\n",
    "        signatures.append(signature)\n",
    "        netSimile.show_progress('Patient '+str(p_id)+' = Aggregating features: ',index + 1, len(graph_stream))\n",
    "\n",
    "    np.save('temp/signatures_'+str(p_id), signatures)\n",
    "    signatures = np.load('temp/signatures_'+str(p_id)+'.npy')"
   ]
  },
  {
   "cell_type": "markdown",
   "metadata": {},
   "source": [
    "## Save ROC_curve and Precision_Recall_curve for all patients"
   ]
  },
  {
   "cell_type": "code",
   "execution_count": 1,
   "metadata": {},
   "outputs": [
    {
     "name": "stdout",
     "output_type": "stream",
     "text": [
      "Patient #  100\n",
      "100  read distance matrixes from files.\n",
      "vec_dis_mat.shape =  (2269, 2269)\n",
      "signatures.shape =  (2269, 35)\n",
      "sig_dis_mat.shape =  (2269, 2269)\n",
      "hb_labels.shape =  (2269,)\n",
      "y_zero_one.shape =  (2269,)\n",
      "Patient #  101\n",
      "101  read distance matrixes from files.\n",
      "vec_dis_mat.shape =  (1865, 1865)\n",
      "signatures.shape =  (1865, 35)\n",
      "sig_dis_mat.shape =  (1865, 1865)\n",
      "hb_labels.shape =  (1865,)\n",
      "y_zero_one.shape =  (1865,)\n",
      "Patient #  102\n",
      "102  read distance matrixes from files.\n",
      "vec_dis_mat.shape =  (2184, 2184)\n",
      "signatures.shape =  (2184, 35)\n",
      "sig_dis_mat.shape =  (2184, 2184)\n",
      "hb_labels.shape =  (2184,)\n",
      "y_zero_one.shape =  (2184,)\n",
      "Patient #  103\n",
      "103  read distance matrixes from files.\n",
      "vec_dis_mat.shape =  (2082, 2082)\n",
      "signatures.shape =  (2082, 35)\n",
      "sig_dis_mat.shape =  (2082, 2082)\n",
      "hb_labels.shape =  (2082,)\n",
      "y_zero_one.shape =  (2082,)\n",
      "Patient #  104\n",
      "104  read distance matrixes from files.\n",
      "vec_dis_mat.shape =  (2229, 2229)\n",
      "signatures.shape =  (2229, 35)\n",
      "sig_dis_mat.shape =  (2229, 2229)\n",
      "hb_labels.shape =  (2229,)\n",
      "y_zero_one.shape =  (2229,)\n",
      "Patient #  105\n",
      "105  read distance matrixes from files.\n",
      "vec_dis_mat.shape =  (2585, 2585)\n",
      "signatures.shape =  (2585, 35)\n",
      "sig_dis_mat.shape =  (2585, 2585)\n",
      "hb_labels.shape =  (2585,)\n",
      "y_zero_one.shape =  (2585,)\n",
      "Patient #  106\n",
      "106  read distance matrixes from files.\n",
      "vec_dis_mat.shape =  (2086, 2086)\n",
      "signatures.shape =  (2086, 35)\n",
      "sig_dis_mat.shape =  (2086, 2086)\n",
      "hb_labels.shape =  (2086,)\n",
      "y_zero_one.shape =  (2086,)\n",
      "Patient #  107\n",
      "107  read distance matrixes from files.\n",
      "vec_dis_mat.shape =  (2134, 2134)\n",
      "signatures.shape =  (2134, 35)\n",
      "sig_dis_mat.shape =  (2134, 2134)\n",
      "hb_labels.shape =  (2134,)\n",
      "y_zero_one.shape =  (2134,)\n"
     ]
    },
    {
     "name": "stderr",
     "output_type": "stream",
     "text": [
      "c:\\users\\user\\appdata\\local\\programs\\python\\python37\\lib\\site-packages\\sklearn\\metrics\\_ranking.py:681: RuntimeWarning:\n",
      "\n",
      "invalid value encountered in true_divide\n",
      "\n",
      "c:\\users\\user\\appdata\\local\\programs\\python\\python37\\lib\\site-packages\\sklearn\\metrics\\_ranking.py:681: RuntimeWarning:\n",
      "\n",
      "invalid value encountered in true_divide\n",
      "\n",
      "c:\\users\\user\\appdata\\local\\programs\\python\\python37\\lib\\site-packages\\sklearn\\metrics\\_ranking.py:805: UndefinedMetricWarning:\n",
      "\n",
      "No negative samples in y_true, false positive value should be meaningless\n",
      "\n",
      "c:\\users\\user\\appdata\\local\\programs\\python\\python37\\lib\\site-packages\\sklearn\\metrics\\_ranking.py:805: UndefinedMetricWarning:\n",
      "\n",
      "No negative samples in y_true, false positive value should be meaningless\n",
      "\n"
     ]
    },
    {
     "name": "stdout",
     "output_type": "stream",
     "text": [
      "Patient #  108\n",
      "108  read distance matrixes from files.\n",
      "vec_dis_mat.shape =  (1803, 1803)\n",
      "signatures.shape =  (1803, 35)\n",
      "sig_dis_mat.shape =  (1803, 1803)\n",
      "hb_labels.shape =  (1803,)\n",
      "y_zero_one.shape =  (1803,)\n",
      "Patient #  109\n",
      "109  read distance matrixes from files.\n",
      "vec_dis_mat.shape =  (2528, 2528)\n",
      "signatures.shape =  (2528, 35)\n",
      "sig_dis_mat.shape =  (2528, 2528)\n",
      "hb_labels.shape =  (2528,)\n",
      "y_zero_one.shape =  (2528,)\n"
     ]
    },
    {
     "name": "stderr",
     "output_type": "stream",
     "text": [
      "c:\\users\\user\\appdata\\local\\programs\\python\\python37\\lib\\site-packages\\sklearn\\metrics\\_ranking.py:681: RuntimeWarning:\n",
      "\n",
      "invalid value encountered in true_divide\n",
      "\n",
      "c:\\users\\user\\appdata\\local\\programs\\python\\python37\\lib\\site-packages\\sklearn\\metrics\\_ranking.py:681: RuntimeWarning:\n",
      "\n",
      "invalid value encountered in true_divide\n",
      "\n",
      "c:\\users\\user\\appdata\\local\\programs\\python\\python37\\lib\\site-packages\\sklearn\\metrics\\_ranking.py:805: UndefinedMetricWarning:\n",
      "\n",
      "No negative samples in y_true, false positive value should be meaningless\n",
      "\n",
      "c:\\users\\user\\appdata\\local\\programs\\python\\python37\\lib\\site-packages\\sklearn\\metrics\\_ranking.py:805: UndefinedMetricWarning:\n",
      "\n",
      "No negative samples in y_true, false positive value should be meaningless\n",
      "\n"
     ]
    },
    {
     "name": "stdout",
     "output_type": "stream",
     "text": [
      "Patient #  111\n",
      "111  read distance matrixes from files.\n",
      "vec_dis_mat.shape =  (2122, 2122)\n",
      "signatures.shape =  (2122, 35)\n",
      "sig_dis_mat.shape =  (2122, 2122)\n",
      "hb_labels.shape =  (2122,)\n",
      "y_zero_one.shape =  (2122,)\n"
     ]
    },
    {
     "name": "stderr",
     "output_type": "stream",
     "text": [
      "c:\\users\\user\\appdata\\local\\programs\\python\\python37\\lib\\site-packages\\sklearn\\metrics\\_ranking.py:681: RuntimeWarning:\n",
      "\n",
      "invalid value encountered in true_divide\n",
      "\n",
      "c:\\users\\user\\appdata\\local\\programs\\python\\python37\\lib\\site-packages\\sklearn\\metrics\\_ranking.py:681: RuntimeWarning:\n",
      "\n",
      "invalid value encountered in true_divide\n",
      "\n",
      "c:\\users\\user\\appdata\\local\\programs\\python\\python37\\lib\\site-packages\\sklearn\\metrics\\_ranking.py:805: UndefinedMetricWarning:\n",
      "\n",
      "No negative samples in y_true, false positive value should be meaningless\n",
      "\n",
      "c:\\users\\user\\appdata\\local\\programs\\python\\python37\\lib\\site-packages\\sklearn\\metrics\\_ranking.py:805: UndefinedMetricWarning:\n",
      "\n",
      "No negative samples in y_true, false positive value should be meaningless\n",
      "\n"
     ]
    },
    {
     "name": "stdout",
     "output_type": "stream",
     "text": [
      "Patient #  112\n",
      "112  read distance matrixes from files.\n",
      "vec_dis_mat.shape =  (2536, 2536)\n",
      "signatures.shape =  (2536, 35)\n",
      "sig_dis_mat.shape =  (2536, 2536)\n",
      "hb_labels.shape =  (2536,)\n",
      "y_zero_one.shape =  (2536,)\n",
      "Patient #  113\n",
      "113  read distance matrixes from files.\n",
      "vec_dis_mat.shape =  (1792, 1792)\n",
      "signatures.shape =  (1792, 35)\n",
      "sig_dis_mat.shape =  (1792, 1792)\n",
      "hb_labels.shape =  (1792,)\n",
      "y_zero_one.shape =  (1792,)\n",
      "Patient #  114\n",
      "114  read distance matrixes from files.\n",
      "vec_dis_mat.shape =  (1906, 1906)\n",
      "signatures.shape =  (1906, 35)\n",
      "sig_dis_mat.shape =  (1906, 1906)\n",
      "hb_labels.shape =  (1906,)\n",
      "y_zero_one.shape =  (1906,)\n",
      "Patient #  115\n",
      "115  read distance matrixes from files.\n",
      "vec_dis_mat.shape =  (1950, 1950)\n",
      "signatures.shape =  (1950, 35)\n",
      "sig_dis_mat.shape =  (1950, 1950)\n",
      "hb_labels.shape =  (1950,)\n",
      "y_zero_one.shape =  (1950,)\n"
     ]
    },
    {
     "name": "stderr",
     "output_type": "stream",
     "text": [
      "c:\\users\\user\\appdata\\local\\programs\\python\\python37\\lib\\site-packages\\sklearn\\metrics\\_ranking.py:681: RuntimeWarning:\n",
      "\n",
      "invalid value encountered in true_divide\n",
      "\n",
      "c:\\users\\user\\appdata\\local\\programs\\python\\python37\\lib\\site-packages\\sklearn\\metrics\\_ranking.py:681: RuntimeWarning:\n",
      "\n",
      "invalid value encountered in true_divide\n",
      "\n",
      "c:\\users\\user\\appdata\\local\\programs\\python\\python37\\lib\\site-packages\\sklearn\\metrics\\_ranking.py:813: UndefinedMetricWarning:\n",
      "\n",
      "No positive samples in y_true, true positive value should be meaningless\n",
      "\n",
      "c:\\users\\user\\appdata\\local\\programs\\python\\python37\\lib\\site-packages\\sklearn\\metrics\\_ranking.py:813: UndefinedMetricWarning:\n",
      "\n",
      "No positive samples in y_true, true positive value should be meaningless\n",
      "\n"
     ]
    },
    {
     "name": "stdout",
     "output_type": "stream",
     "text": [
      "Patient #  116\n",
      "116  read distance matrixes from files.\n",
      "vec_dis_mat.shape =  (2410, 2410)\n",
      "signatures.shape =  (2410, 35)\n",
      "sig_dis_mat.shape =  (2410, 2410)\n",
      "hb_labels.shape =  (2410,)\n",
      "y_zero_one.shape =  (2410,)\n",
      "Patient #  117\n",
      "117  read distance matrixes from files.\n",
      "vec_dis_mat.shape =  (1533, 1533)\n",
      "signatures.shape =  (1533, 35)\n",
      "sig_dis_mat.shape =  (1533, 1533)\n",
      "hb_labels.shape =  (1533,)\n",
      "y_zero_one.shape =  (1533,)\n",
      "Patient #  118\n",
      "118  read distance matrixes from files.\n",
      "vec_dis_mat.shape =  (2280, 2280)\n",
      "signatures.shape =  (2280, 35)\n",
      "sig_dis_mat.shape =  (2280, 2280)\n",
      "hb_labels.shape =  (2280,)\n",
      "y_zero_one.shape =  (2280,)\n"
     ]
    },
    {
     "name": "stderr",
     "output_type": "stream",
     "text": [
      "c:\\users\\user\\appdata\\local\\programs\\python\\python37\\lib\\site-packages\\sklearn\\metrics\\_ranking.py:681: RuntimeWarning:\n",
      "\n",
      "invalid value encountered in true_divide\n",
      "\n",
      "c:\\users\\user\\appdata\\local\\programs\\python\\python37\\lib\\site-packages\\sklearn\\metrics\\_ranking.py:681: RuntimeWarning:\n",
      "\n",
      "invalid value encountered in true_divide\n",
      "\n",
      "c:\\users\\user\\appdata\\local\\programs\\python\\python37\\lib\\site-packages\\sklearn\\metrics\\_ranking.py:805: UndefinedMetricWarning:\n",
      "\n",
      "No negative samples in y_true, false positive value should be meaningless\n",
      "\n",
      "c:\\users\\user\\appdata\\local\\programs\\python\\python37\\lib\\site-packages\\sklearn\\metrics\\_ranking.py:805: UndefinedMetricWarning:\n",
      "\n",
      "No negative samples in y_true, false positive value should be meaningless\n",
      "\n"
     ]
    },
    {
     "name": "stdout",
     "output_type": "stream",
     "text": [
      "Patient #  119\n",
      "119  read distance matrixes from files.\n",
      "vec_dis_mat.shape =  (1994, 1994)\n",
      "signatures.shape =  (1994, 35)\n",
      "sig_dis_mat.shape =  (1994, 1994)\n",
      "hb_labels.shape =  (1994,)\n",
      "y_zero_one.shape =  (1994,)\n",
      "Patient #  121\n",
      "121  read distance matrixes from files.\n",
      "vec_dis_mat.shape =  (1861, 1861)\n",
      "signatures.shape =  (1861, 35)\n",
      "sig_dis_mat.shape =  (1861, 1861)\n",
      "hb_labels.shape =  (1861,)\n",
      "y_zero_one.shape =  (1861,)\n",
      "Patient #  122\n",
      "122  read distance matrixes from files.\n",
      "vec_dis_mat.shape =  (2473, 2473)\n",
      "signatures.shape =  (2473, 35)\n",
      "sig_dis_mat.shape =  (2473, 2473)\n",
      "hb_labels.shape =  (2473,)\n",
      "y_zero_one.shape =  (2473,)\n"
     ]
    },
    {
     "name": "stderr",
     "output_type": "stream",
     "text": [
      "c:\\users\\user\\appdata\\local\\programs\\python\\python37\\lib\\site-packages\\sklearn\\metrics\\_ranking.py:681: RuntimeWarning:\n",
      "\n",
      "invalid value encountered in true_divide\n",
      "\n",
      "c:\\users\\user\\appdata\\local\\programs\\python\\python37\\lib\\site-packages\\sklearn\\metrics\\_ranking.py:681: RuntimeWarning:\n",
      "\n",
      "invalid value encountered in true_divide\n",
      "\n",
      "c:\\users\\user\\appdata\\local\\programs\\python\\python37\\lib\\site-packages\\sklearn\\metrics\\_ranking.py:813: UndefinedMetricWarning:\n",
      "\n",
      "No positive samples in y_true, true positive value should be meaningless\n",
      "\n",
      "c:\\users\\user\\appdata\\local\\programs\\python\\python37\\lib\\site-packages\\sklearn\\metrics\\_ranking.py:813: UndefinedMetricWarning:\n",
      "\n",
      "No positive samples in y_true, true positive value should be meaningless\n",
      "\n"
     ]
    },
    {
     "name": "stdout",
     "output_type": "stream",
     "text": [
      "Patient #  123\n",
      "123  read distance matrixes from files.\n",
      "vec_dis_mat.shape =  (1520, 1520)\n",
      "signatures.shape =  (1520, 35)\n",
      "sig_dis_mat.shape =  (1520, 1520)\n",
      "hb_labels.shape =  (1520,)\n",
      "y_zero_one.shape =  (1520,)\n",
      "Patient #  124\n",
      "124  read distance matrixes from files.\n",
      "vec_dis_mat.shape =  (1622, 1622)\n",
      "signatures.shape =  (1622, 35)\n",
      "sig_dis_mat.shape =  (1622, 1622)\n",
      "hb_labels.shape =  (1622,)\n",
      "y_zero_one.shape =  (1622,)\n"
     ]
    },
    {
     "name": "stderr",
     "output_type": "stream",
     "text": [
      "c:\\users\\user\\appdata\\local\\programs\\python\\python37\\lib\\site-packages\\sklearn\\metrics\\_ranking.py:681: RuntimeWarning:\n",
      "\n",
      "invalid value encountered in true_divide\n",
      "\n",
      "c:\\users\\user\\appdata\\local\\programs\\python\\python37\\lib\\site-packages\\sklearn\\metrics\\_ranking.py:681: RuntimeWarning:\n",
      "\n",
      "invalid value encountered in true_divide\n",
      "\n",
      "c:\\users\\user\\appdata\\local\\programs\\python\\python37\\lib\\site-packages\\sklearn\\metrics\\_ranking.py:805: UndefinedMetricWarning:\n",
      "\n",
      "No negative samples in y_true, false positive value should be meaningless\n",
      "\n",
      "c:\\users\\user\\appdata\\local\\programs\\python\\python37\\lib\\site-packages\\sklearn\\metrics\\_ranking.py:805: UndefinedMetricWarning:\n",
      "\n",
      "No negative samples in y_true, false positive value should be meaningless\n",
      "\n"
     ]
    },
    {
     "name": "stdout",
     "output_type": "stream",
     "text": [
      "Patient #  200\n",
      "200  read distance matrixes from files.\n",
      "vec_dis_mat.shape =  (2616, 2616)\n",
      "signatures.shape =  (2616, 35)\n",
      "sig_dis_mat.shape =  (2616, 2616)\n",
      "hb_labels.shape =  (2616,)\n",
      "y_zero_one.shape =  (2616,)\n",
      "Patient #  201\n",
      "201  read distance matrixes from files.\n",
      "vec_dis_mat.shape =  (2043, 2043)\n",
      "signatures.shape =  (2043, 35)\n",
      "sig_dis_mat.shape =  (2043, 2043)\n",
      "hb_labels.shape =  (2043,)\n",
      "y_zero_one.shape =  (2043,)\n",
      "Patient #  202\n",
      "202  read distance matrixes from files.\n",
      "vec_dis_mat.shape =  (2157, 2157)\n",
      "signatures.shape =  (2157, 35)\n",
      "sig_dis_mat.shape =  (2157, 2157)\n",
      "hb_labels.shape =  (2157,)\n",
      "y_zero_one.shape =  (2157,)\n",
      "Patient #  203\n",
      "203  read distance matrixes from files.\n",
      "vec_dis_mat.shape =  (2912, 2912)\n",
      "signatures.shape =  (2912, 35)\n",
      "sig_dis_mat.shape =  (2912, 2912)\n",
      "hb_labels.shape =  (2912,)\n",
      "y_zero_one.shape =  (2912,)\n",
      "Patient #  205\n",
      "205  read distance matrixes from files.\n",
      "vec_dis_mat.shape =  (2643, 2643)\n",
      "signatures.shape =  (2643, 35)\n",
      "sig_dis_mat.shape =  (2643, 2643)\n",
      "hb_labels.shape =  (2643,)\n",
      "y_zero_one.shape =  (2643,)\n",
      "Patient #  207\n",
      "207  read distance matrixes from files.\n",
      "vec_dis_mat.shape =  (2178, 2178)\n",
      "signatures.shape =  (2178, 35)\n",
      "sig_dis_mat.shape =  (2178, 2178)\n",
      "hb_labels.shape =  (2178,)\n",
      "y_zero_one.shape =  (2178,)\n"
     ]
    },
    {
     "name": "stderr",
     "output_type": "stream",
     "text": [
      "c:\\users\\user\\appdata\\local\\programs\\python\\python37\\lib\\site-packages\\sklearn\\metrics\\_ranking.py:681: RuntimeWarning:\n",
      "\n",
      "invalid value encountered in true_divide\n",
      "\n",
      "c:\\users\\user\\appdata\\local\\programs\\python\\python37\\lib\\site-packages\\sklearn\\metrics\\_ranking.py:681: RuntimeWarning:\n",
      "\n",
      "invalid value encountered in true_divide\n",
      "\n",
      "c:\\users\\user\\appdata\\local\\programs\\python\\python37\\lib\\site-packages\\sklearn\\metrics\\_ranking.py:805: UndefinedMetricWarning:\n",
      "\n",
      "No negative samples in y_true, false positive value should be meaningless\n",
      "\n",
      "c:\\users\\user\\appdata\\local\\programs\\python\\python37\\lib\\site-packages\\sklearn\\metrics\\_ranking.py:805: UndefinedMetricWarning:\n",
      "\n",
      "No negative samples in y_true, false positive value should be meaningless\n",
      "\n"
     ]
    },
    {
     "name": "stdout",
     "output_type": "stream",
     "text": [
      "Patient #  208\n",
      "208  read distance matrixes from files.\n",
      "vec_dis_mat.shape =  (2865, 2865)\n",
      "signatures.shape =  (2865, 35)\n",
      "sig_dis_mat.shape =  (2865, 2865)\n",
      "hb_labels.shape =  (2865,)\n",
      "y_zero_one.shape =  (2865,)\n",
      "Patient #  209\n",
      "209  read distance matrixes from files.\n",
      "vec_dis_mat.shape =  (3003, 3003)\n",
      "signatures.shape =  (3003, 35)\n",
      "sig_dis_mat.shape =  (3003, 3003)\n",
      "hb_labels.shape =  (3003,)\n",
      "y_zero_one.shape =  (3003,)\n",
      "Patient #  210\n",
      "210  read distance matrixes from files.\n",
      "vec_dis_mat.shape =  (2631, 2631)\n",
      "signatures.shape =  (2631, 35)\n",
      "sig_dis_mat.shape =  (2631, 2631)\n",
      "hb_labels.shape =  (2631,)\n",
      "y_zero_one.shape =  (2631,)\n",
      "Patient #  212\n",
      "212  read distance matrixes from files.\n",
      "vec_dis_mat.shape =  (2745, 2745)\n",
      "signatures.shape =  (2745, 35)\n",
      "sig_dis_mat.shape =  (2745, 2745)\n",
      "hb_labels.shape =  (2745,)\n",
      "y_zero_one.shape =  (2745,)\n",
      "Patient #  213\n",
      "213  read distance matrixes from files.\n",
      "vec_dis_mat.shape =  (3246, 3246)\n",
      "signatures.shape =  (3246, 35)\n",
      "sig_dis_mat.shape =  (3246, 3246)\n",
      "hb_labels.shape =  (3246,)\n",
      "y_zero_one.shape =  (3246,)\n",
      "Patient #  214\n",
      "214  read distance matrixes from files.\n",
      "vec_dis_mat.shape =  (2266, 2266)\n",
      "signatures.shape =  (2266, 35)\n",
      "sig_dis_mat.shape =  (2266, 2266)\n",
      "hb_labels.shape =  (2266,)\n",
      "y_zero_one.shape =  (2266,)\n"
     ]
    },
    {
     "name": "stderr",
     "output_type": "stream",
     "text": [
      "c:\\users\\user\\appdata\\local\\programs\\python\\python37\\lib\\site-packages\\sklearn\\metrics\\_ranking.py:681: RuntimeWarning:\n",
      "\n",
      "invalid value encountered in true_divide\n",
      "\n",
      "c:\\users\\user\\appdata\\local\\programs\\python\\python37\\lib\\site-packages\\sklearn\\metrics\\_ranking.py:681: RuntimeWarning:\n",
      "\n",
      "invalid value encountered in true_divide\n",
      "\n",
      "c:\\users\\user\\appdata\\local\\programs\\python\\python37\\lib\\site-packages\\sklearn\\metrics\\_ranking.py:805: UndefinedMetricWarning:\n",
      "\n",
      "No negative samples in y_true, false positive value should be meaningless\n",
      "\n",
      "c:\\users\\user\\appdata\\local\\programs\\python\\python37\\lib\\site-packages\\sklearn\\metrics\\_ranking.py:805: UndefinedMetricWarning:\n",
      "\n",
      "No negative samples in y_true, false positive value should be meaningless\n",
      "\n"
     ]
    },
    {
     "name": "stdout",
     "output_type": "stream",
     "text": [
      "Patient #  215\n",
      "215  read distance matrixes from files.\n",
      "vec_dis_mat.shape =  (3357, 3357)\n",
      "signatures.shape =  (3357, 35)\n",
      "sig_dis_mat.shape =  (3357, 3357)\n",
      "hb_labels.shape =  (3357,)\n",
      "y_zero_one.shape =  (3357,)\n",
      "Patient #  217\n",
      "217  read distance matrixes from files.\n",
      "vec_dis_mat.shape =  (2203, 2203)\n",
      "signatures.shape =  (2203, 35)\n",
      "sig_dis_mat.shape =  (2203, 2203)\n",
      "hb_labels.shape =  (2203,)\n",
      "y_zero_one.shape =  (2203,)\n",
      "Patient #  219\n",
      "219  read distance matrixes from files.\n",
      "vec_dis_mat.shape =  (2202, 2202)\n",
      "signatures.shape =  (2202, 35)\n",
      "sig_dis_mat.shape =  (2202, 2202)\n",
      "hb_labels.shape =  (2202,)\n",
      "y_zero_one.shape =  (2202,)\n",
      "Patient #  220\n",
      "220  read distance matrixes from files.\n",
      "vec_dis_mat.shape =  (2045, 2045)\n",
      "signatures.shape =  (2045, 35)\n",
      "sig_dis_mat.shape =  (2045, 2045)\n",
      "hb_labels.shape =  (2045,)\n",
      "y_zero_one.shape =  (2045,)\n",
      "Patient #  221\n",
      "221  read distance matrixes from files.\n",
      "vec_dis_mat.shape =  (2468, 2468)\n",
      "signatures.shape =  (2468, 35)\n",
      "sig_dis_mat.shape =  (2468, 2468)\n",
      "hb_labels.shape =  (2468,)\n",
      "y_zero_one.shape =  (2468,)\n",
      "Patient #  222\n",
      "222  read distance matrixes from files.\n",
      "vec_dis_mat.shape =  (2501, 2501)\n",
      "signatures.shape =  (2501, 35)\n",
      "sig_dis_mat.shape =  (2501, 2501)\n",
      "hb_labels.shape =  (2501,)\n",
      "y_zero_one.shape =  (2501,)\n",
      "Patient #  223\n",
      "223  read distance matrixes from files.\n",
      "vec_dis_mat.shape =  (2603, 2603)\n",
      "signatures.shape =  (2603, 35)\n",
      "sig_dis_mat.shape =  (2603, 2603)\n",
      "hb_labels.shape =  (2603,)\n",
      "y_zero_one.shape =  (2603,)\n",
      "Patient #  228\n",
      "228  read distance matrixes from files.\n",
      "vec_dis_mat.shape =  (2143, 2143)\n",
      "signatures.shape =  (2143, 35)\n",
      "sig_dis_mat.shape =  (2143, 2143)\n",
      "hb_labels.shape =  (2143,)\n",
      "y_zero_one.shape =  (2143,)\n",
      "Patient #  230\n",
      "230  read distance matrixes from files.\n",
      "vec_dis_mat.shape =  (2253, 2253)\n",
      "signatures.shape =  (2253, 35)\n",
      "sig_dis_mat.shape =  (2253, 2253)\n",
      "hb_labels.shape =  (2253,)\n",
      "y_zero_one.shape =  (2253,)\n",
      "Patient #  231\n",
      "231  read distance matrixes from files.\n",
      "vec_dis_mat.shape =  (1996, 1996)\n",
      "signatures.shape =  (1996, 35)\n",
      "sig_dis_mat.shape =  (1996, 1996)\n",
      "hb_labels.shape =  (1996,)\n",
      "y_zero_one.shape =  (1996,)\n",
      "Patient #  232\n",
      "232  read distance matrixes from files.\n",
      "vec_dis_mat.shape =  (2304, 2304)\n",
      "signatures.shape =  (2304, 35)\n",
      "sig_dis_mat.shape =  (2304, 2304)\n",
      "hb_labels.shape =  (2304,)\n",
      "y_zero_one.shape =  (2304,)\n"
     ]
    },
    {
     "name": "stderr",
     "output_type": "stream",
     "text": [
      "c:\\users\\user\\appdata\\local\\programs\\python\\python37\\lib\\site-packages\\sklearn\\metrics\\_ranking.py:681: RuntimeWarning:\n",
      "\n",
      "invalid value encountered in true_divide\n",
      "\n",
      "c:\\users\\user\\appdata\\local\\programs\\python\\python37\\lib\\site-packages\\sklearn\\metrics\\_ranking.py:681: RuntimeWarning:\n",
      "\n",
      "invalid value encountered in true_divide\n",
      "\n",
      "c:\\users\\user\\appdata\\local\\programs\\python\\python37\\lib\\site-packages\\sklearn\\metrics\\_ranking.py:805: UndefinedMetricWarning:\n",
      "\n",
      "No negative samples in y_true, false positive value should be meaningless\n",
      "\n",
      "c:\\users\\user\\appdata\\local\\programs\\python\\python37\\lib\\site-packages\\sklearn\\metrics\\_ranking.py:805: UndefinedMetricWarning:\n",
      "\n",
      "No negative samples in y_true, false positive value should be meaningless\n",
      "\n"
     ]
    },
    {
     "name": "stdout",
     "output_type": "stream",
     "text": [
      "Patient #  233\n",
      "233  read distance matrixes from files.\n",
      "vec_dis_mat.shape =  (3071, 3071)\n",
      "signatures.shape =  (3071, 35)\n",
      "sig_dis_mat.shape =  (3071, 3071)\n",
      "hb_labels.shape =  (3071,)\n",
      "y_zero_one.shape =  (3071,)\n",
      "Patient #  234\n",
      "234  read distance matrixes from files.\n",
      "vec_dis_mat.shape =  (2747, 2747)\n",
      "signatures.shape =  (2747, 35)\n",
      "sig_dis_mat.shape =  (2747, 2747)\n",
      "hb_labels.shape =  (2747,)\n",
      "y_zero_one.shape =  (2747,)\n"
     ]
    }
   ],
   "source": [
    "from myHelper import timing\n",
    "from myHelper import GraphSignalHelper\n",
    "import numpy as np\n",
    "from myHelper import db_helper\n",
    "import networkx as nx\n",
    "from myHelper import dis_mat\n",
    "from myHelper import netSimile\n",
    "from myHelper import analytics\n",
    "from myHelper import anomaly_detection\n",
    "from myHelper import netSimile\n",
    "\n",
    "hyper_param = {\n",
    "    \"contamination\": 'auto',\n",
    "    \"n_neighbors\": 20\n",
    "}\n",
    "\n",
    "DB_dir ='./mitbih-database\\\\'\n",
    "patients_id = db_helper.get_patients_id(DB_dir)\n",
    "\n",
    "\n",
    "# roc_auc_score list for each patient\n",
    "compare_roc_auc_score = []\n",
    "\n",
    "for index, p_id in  enumerate(patients_id):\n",
    "    print(\"Patient # \", str(p_id))\n",
    "    print(str(p_id), \" read distance matrixes from files.\")\n",
    "    vec_dis_mat = np.load('temp/vec_dis_mat_'+str(p_id)+'.npy')\n",
    "    print(\"vec_dis_mat.shape = \", str(vec_dis_mat.shape))\n",
    "\n",
    "    signatures = np.load('temp/signatures_'+str(p_id)+'.npy')\n",
    "    print(\"signatures.shape = \", str(signatures.shape))\n",
    "    sig_dis_mat = dis_mat.cal_sig_dist_mat(signatures)\n",
    "    print(\"sig_dis_mat.shape = \", str(sig_dis_mat.shape))\n",
    "\n",
    "    hb_labels = np.load('temp/hb_labels_'+str(p_id)+'.npy')\n",
    "    print(\"hb_labels.shape = \", str(hb_labels.shape))\n",
    "    y_zero_one = anomaly_detection.zero_one_label_converter(hb_labels)\n",
    "    print(\"y_zero_one.shape = \", str(y_zero_one.shape))\n",
    "    analytics.sig_pre_recall(vec_dis_mat,\n",
    "                             sig_dis_mat,\n",
    "                             hb_labels,\n",
    "                             y_zero_one,\n",
    "                             p_id,\n",
    "                             vec_n_neighbors=hyper_param[ \"n_neighbors\"],\n",
    "                             vec_c =hyper_param[ \"contamination\"],\n",
    "                             sig_n_neighbors=hyper_param[ \"n_neighbors\"],\n",
    "                             sig_c=hyper_param[ \"contamination\"],\n",
    "                             n_process = -1)\n",
    "\n",
    "\n",
    "    vec_LOF_roc_auc, sig_LOF_roc_auc = analytics.sig_roc_curve(vec_dis_mat,\n",
    "                                                               sig_dis_mat,\n",
    "                                                               hb_labels,\n",
    "                                                               y_zero_one,\n",
    "                                                               p_id,\n",
    "                                                               vec_n_neighbors=hyper_param[ \"n_neighbors\"],\n",
    "                                                               vec_c =hyper_param[ \"contamination\"],\n",
    "                                                               sig_n_neighbors=hyper_param[ \"n_neighbors\"],\n",
    "                                                               sig_c=hyper_param[ \"contamination\"],\n",
    "                                                               n_process = -1)\n",
    "    num_anomalous_hbs = sum(hb_labels == -1)\n",
    "    num_normal_hbs = sum(hb_labels == 1)\n",
    "    if ((num_normal_hbs > 100) and (num_anomalous_hbs > 100)):\n",
    "        compare_roc_auc_score.append(\n",
    "            {\n",
    "                'p_id': p_id,\n",
    "                'num_normal_hbs': num_normal_hbs,\n",
    "                'num_anomalous_hbs': num_anomalous_hbs,\n",
    "                'vec_auc_list': vec_LOF_roc_auc,\n",
    "                'sig_auc_list':  sig_LOF_roc_auc\n",
    "            }\n",
    "        )\n",
    "    #in the notebook [2], section \"Save ROC_curve and Precision_Recall_curve for all patients\", \n",
    "    # at the end of the for-loop: collect all the vec_LOF_roc_auc and sig_LOF_roc_auc only for\n",
    "    # patients having >100 normal hb and >100 arrhythmias.\n",
    "    # Let's call them something like vec_auc_list and sig_auc_list"
   ]
  },
  {
   "cell_type": "code",
   "execution_count": 23,
   "metadata": {},
   "outputs": [
    {
     "data": {
      "text/html": [
       "<div>\n",
       "<style scoped>\n",
       "    .dataframe tbody tr th:only-of-type {\n",
       "        vertical-align: middle;\n",
       "    }\n",
       "\n",
       "    .dataframe tbody tr th {\n",
       "        vertical-align: top;\n",
       "    }\n",
       "\n",
       "    .dataframe thead th {\n",
       "        text-align: right;\n",
       "    }\n",
       "</style>\n",
       "<table border=\"1\" class=\"dataframe\">\n",
       "  <thead>\n",
       "    <tr style=\"text-align: right;\">\n",
       "      <th></th>\n",
       "      <th>p_id</th>\n",
       "      <th>num_normal_hbs</th>\n",
       "      <th>num_anomalous_hbs</th>\n",
       "      <th>vec_auc_list</th>\n",
       "      <th>sig_auc_list</th>\n",
       "    </tr>\n",
       "  </thead>\n",
       "  <tbody>\n",
       "    <tr>\n",
       "      <th>0</th>\n",
       "      <td>104</td>\n",
       "      <td>163</td>\n",
       "      <td>2066</td>\n",
       "      <td>0.528074</td>\n",
       "      <td>0.495819</td>\n",
       "    </tr>\n",
       "    <tr>\n",
       "      <th>1</th>\n",
       "      <td>106</td>\n",
       "      <td>1557</td>\n",
       "      <td>529</td>\n",
       "      <td>0.444223</td>\n",
       "      <td>0.630869</td>\n",
       "    </tr>\n",
       "    <tr>\n",
       "      <th>2</th>\n",
       "      <td>116</td>\n",
       "      <td>2298</td>\n",
       "      <td>112</td>\n",
       "      <td>0.605950</td>\n",
       "      <td>0.535030</td>\n",
       "    </tr>\n",
       "    <tr>\n",
       "      <th>3</th>\n",
       "      <td>119</td>\n",
       "      <td>1550</td>\n",
       "      <td>444</td>\n",
       "      <td>0.528906</td>\n",
       "      <td>0.495411</td>\n",
       "    </tr>\n",
       "    <tr>\n",
       "      <th>4</th>\n",
       "      <td>200</td>\n",
       "      <td>1755</td>\n",
       "      <td>861</td>\n",
       "      <td>0.513491</td>\n",
       "      <td>0.499955</td>\n",
       "    </tr>\n",
       "    <tr>\n",
       "      <th>5</th>\n",
       "      <td>201</td>\n",
       "      <td>1656</td>\n",
       "      <td>387</td>\n",
       "      <td>0.549175</td>\n",
       "      <td>0.573487</td>\n",
       "    </tr>\n",
       "    <tr>\n",
       "      <th>6</th>\n",
       "      <td>203</td>\n",
       "      <td>2497</td>\n",
       "      <td>415</td>\n",
       "      <td>0.511129</td>\n",
       "      <td>0.584808</td>\n",
       "    </tr>\n",
       "    <tr>\n",
       "      <th>7</th>\n",
       "      <td>208</td>\n",
       "      <td>1586</td>\n",
       "      <td>1279</td>\n",
       "      <td>0.496327</td>\n",
       "      <td>0.489287</td>\n",
       "    </tr>\n",
       "    <tr>\n",
       "      <th>8</th>\n",
       "      <td>209</td>\n",
       "      <td>2619</td>\n",
       "      <td>384</td>\n",
       "      <td>0.736531</td>\n",
       "      <td>0.695447</td>\n",
       "    </tr>\n",
       "    <tr>\n",
       "      <th>9</th>\n",
       "      <td>210</td>\n",
       "      <td>2425</td>\n",
       "      <td>206</td>\n",
       "      <td>0.734677</td>\n",
       "      <td>0.655056</td>\n",
       "    </tr>\n",
       "    <tr>\n",
       "      <th>10</th>\n",
       "      <td>212</td>\n",
       "      <td>921</td>\n",
       "      <td>1824</td>\n",
       "      <td>0.514726</td>\n",
       "      <td>0.432719</td>\n",
       "    </tr>\n",
       "    <tr>\n",
       "      <th>11</th>\n",
       "      <td>213</td>\n",
       "      <td>2637</td>\n",
       "      <td>609</td>\n",
       "      <td>0.603782</td>\n",
       "      <td>0.552081</td>\n",
       "    </tr>\n",
       "    <tr>\n",
       "      <th>12</th>\n",
       "      <td>215</td>\n",
       "      <td>3192</td>\n",
       "      <td>165</td>\n",
       "      <td>0.650858</td>\n",
       "      <td>0.607443</td>\n",
       "    </tr>\n",
       "    <tr>\n",
       "      <th>13</th>\n",
       "      <td>217</td>\n",
       "      <td>244</td>\n",
       "      <td>1959</td>\n",
       "      <td>0.493625</td>\n",
       "      <td>0.489567</td>\n",
       "    </tr>\n",
       "    <tr>\n",
       "      <th>14</th>\n",
       "      <td>221</td>\n",
       "      <td>2061</td>\n",
       "      <td>407</td>\n",
       "      <td>0.522166</td>\n",
       "      <td>0.563151</td>\n",
       "    </tr>\n",
       "    <tr>\n",
       "      <th>15</th>\n",
       "      <td>222</td>\n",
       "      <td>2073</td>\n",
       "      <td>428</td>\n",
       "      <td>0.560807</td>\n",
       "      <td>0.633242</td>\n",
       "    </tr>\n",
       "    <tr>\n",
       "      <th>16</th>\n",
       "      <td>223</td>\n",
       "      <td>2027</td>\n",
       "      <td>576</td>\n",
       "      <td>0.624290</td>\n",
       "      <td>0.575658</td>\n",
       "    </tr>\n",
       "    <tr>\n",
       "      <th>17</th>\n",
       "      <td>228</td>\n",
       "      <td>1759</td>\n",
       "      <td>384</td>\n",
       "      <td>0.453377</td>\n",
       "      <td>0.576399</td>\n",
       "    </tr>\n",
       "    <tr>\n",
       "      <th>18</th>\n",
       "      <td>231</td>\n",
       "      <td>319</td>\n",
       "      <td>1677</td>\n",
       "      <td>0.506446</td>\n",
       "      <td>0.488905</td>\n",
       "    </tr>\n",
       "    <tr>\n",
       "      <th>19</th>\n",
       "      <td>233</td>\n",
       "      <td>2227</td>\n",
       "      <td>844</td>\n",
       "      <td>0.571747</td>\n",
       "      <td>0.497138</td>\n",
       "    </tr>\n",
       "  </tbody>\n",
       "</table>\n",
       "</div>"
      ],
      "text/plain": [
       "   p_id  num_normal_hbs  num_anomalous_hbs  vec_auc_list  sig_auc_list\n",
       "0   104             163               2066      0.528074      0.495819\n",
       "1   106            1557                529      0.444223      0.630869\n",
       "2   116            2298                112      0.605950      0.535030\n",
       "3   119            1550                444      0.528906      0.495411\n",
       "4   200            1755                861      0.513491      0.499955\n",
       "5   201            1656                387      0.549175      0.573487\n",
       "6   203            2497                415      0.511129      0.584808\n",
       "7   208            1586               1279      0.496327      0.489287\n",
       "8   209            2619                384      0.736531      0.695447\n",
       "9   210            2425                206      0.734677      0.655056\n",
       "10  212             921               1824      0.514726      0.432719\n",
       "11  213            2637                609      0.603782      0.552081\n",
       "12  215            3192                165      0.650858      0.607443\n",
       "13  217             244               1959      0.493625      0.489567\n",
       "14  221            2061                407      0.522166      0.563151\n",
       "15  222            2073                428      0.560807      0.633242\n",
       "16  223            2027                576      0.624290      0.575658\n",
       "17  228            1759                384      0.453377      0.576399\n",
       "18  231             319               1677      0.506446      0.488905\n",
       "19  233            2227                844      0.571747      0.497138"
      ]
     },
     "execution_count": 23,
     "metadata": {},
     "output_type": "execute_result"
    }
   ],
   "source": [
    "import pandas as pd\n",
    "df = pd.DataFrame(compare_roc_auc_score)\n",
    "df"
   ]
  },
  {
   "cell_type": "code",
   "execution_count": 31,
   "metadata": {},
   "outputs": [
    {
     "data": {
      "application/vnd.plotly.v1+json": {
       "config": {
        "plotlyServerURL": "https://plot.ly"
       },
       "data": [
        {
         "nbinsx": 10,
         "opacity": 0.5,
         "type": "histogram",
         "x": [
          0.5280735721200387,
          0.4442234776052537,
          0.6059500497326868,
          0.5289058413251961,
          0.5134909053608241,
          0.5491751863086545,
          0.5111290174715682,
          0.49632732460633355,
          0.7365307210131093,
          0.7346772094885397,
          0.5147258414766558,
          0.6037817268839982,
          0.6508582061213639,
          0.4936254696692022,
          0.5221660723844129,
          0.5608073990920197,
          0.6242899673847503,
          0.4533766818267956,
          0.5064462402072667,
          0.5717465742492503
         ]
        },
        {
         "nbinsx": 10,
         "opacity": 0.5,
         "type": "histogram",
         "x": [
          0.49581895604558757,
          0.630868824614249,
          0.5350304612706701,
          0.49541121766928214,
          0.4999553292236219,
          0.5734865932666742,
          0.5848077934485237,
          0.4892871263114409,
          0.6954467353951891,
          0.6550555499949955,
          0.4327187744061565,
          0.5520809398648636,
          0.6074428495481127,
          0.48956685830006946,
          0.5631506854214278,
          0.6332418139767639,
          0.5756583004440059,
          0.5763987587644495,
          0.4889048401478233,
          0.4971382026273843
         ]
        }
       ],
       "layout": {
        "autosize": true,
        "barmode": "overlay",
        "template": {
         "data": {
          "bar": [
           {
            "error_x": {
             "color": "#2a3f5f"
            },
            "error_y": {
             "color": "#2a3f5f"
            },
            "marker": {
             "line": {
              "color": "#E5ECF6",
              "width": 0.5
             }
            },
            "type": "bar"
           }
          ],
          "barpolar": [
           {
            "marker": {
             "line": {
              "color": "#E5ECF6",
              "width": 0.5
             }
            },
            "type": "barpolar"
           }
          ],
          "carpet": [
           {
            "aaxis": {
             "endlinecolor": "#2a3f5f",
             "gridcolor": "white",
             "linecolor": "white",
             "minorgridcolor": "white",
             "startlinecolor": "#2a3f5f"
            },
            "baxis": {
             "endlinecolor": "#2a3f5f",
             "gridcolor": "white",
             "linecolor": "white",
             "minorgridcolor": "white",
             "startlinecolor": "#2a3f5f"
            },
            "type": "carpet"
           }
          ],
          "choropleth": [
           {
            "colorbar": {
             "outlinewidth": 0,
             "ticks": ""
            },
            "type": "choropleth"
           }
          ],
          "contour": [
           {
            "colorbar": {
             "outlinewidth": 0,
             "ticks": ""
            },
            "colorscale": [
             [
              0,
              "#0d0887"
             ],
             [
              0.1111111111111111,
              "#46039f"
             ],
             [
              0.2222222222222222,
              "#7201a8"
             ],
             [
              0.3333333333333333,
              "#9c179e"
             ],
             [
              0.4444444444444444,
              "#bd3786"
             ],
             [
              0.5555555555555556,
              "#d8576b"
             ],
             [
              0.6666666666666666,
              "#ed7953"
             ],
             [
              0.7777777777777778,
              "#fb9f3a"
             ],
             [
              0.8888888888888888,
              "#fdca26"
             ],
             [
              1,
              "#f0f921"
             ]
            ],
            "type": "contour"
           }
          ],
          "contourcarpet": [
           {
            "colorbar": {
             "outlinewidth": 0,
             "ticks": ""
            },
            "type": "contourcarpet"
           }
          ],
          "heatmap": [
           {
            "colorbar": {
             "outlinewidth": 0,
             "ticks": ""
            },
            "colorscale": [
             [
              0,
              "#0d0887"
             ],
             [
              0.1111111111111111,
              "#46039f"
             ],
             [
              0.2222222222222222,
              "#7201a8"
             ],
             [
              0.3333333333333333,
              "#9c179e"
             ],
             [
              0.4444444444444444,
              "#bd3786"
             ],
             [
              0.5555555555555556,
              "#d8576b"
             ],
             [
              0.6666666666666666,
              "#ed7953"
             ],
             [
              0.7777777777777778,
              "#fb9f3a"
             ],
             [
              0.8888888888888888,
              "#fdca26"
             ],
             [
              1,
              "#f0f921"
             ]
            ],
            "type": "heatmap"
           }
          ],
          "heatmapgl": [
           {
            "colorbar": {
             "outlinewidth": 0,
             "ticks": ""
            },
            "colorscale": [
             [
              0,
              "#0d0887"
             ],
             [
              0.1111111111111111,
              "#46039f"
             ],
             [
              0.2222222222222222,
              "#7201a8"
             ],
             [
              0.3333333333333333,
              "#9c179e"
             ],
             [
              0.4444444444444444,
              "#bd3786"
             ],
             [
              0.5555555555555556,
              "#d8576b"
             ],
             [
              0.6666666666666666,
              "#ed7953"
             ],
             [
              0.7777777777777778,
              "#fb9f3a"
             ],
             [
              0.8888888888888888,
              "#fdca26"
             ],
             [
              1,
              "#f0f921"
             ]
            ],
            "type": "heatmapgl"
           }
          ],
          "histogram": [
           {
            "marker": {
             "colorbar": {
              "outlinewidth": 0,
              "ticks": ""
             }
            },
            "type": "histogram"
           }
          ],
          "histogram2d": [
           {
            "colorbar": {
             "outlinewidth": 0,
             "ticks": ""
            },
            "colorscale": [
             [
              0,
              "#0d0887"
             ],
             [
              0.1111111111111111,
              "#46039f"
             ],
             [
              0.2222222222222222,
              "#7201a8"
             ],
             [
              0.3333333333333333,
              "#9c179e"
             ],
             [
              0.4444444444444444,
              "#bd3786"
             ],
             [
              0.5555555555555556,
              "#d8576b"
             ],
             [
              0.6666666666666666,
              "#ed7953"
             ],
             [
              0.7777777777777778,
              "#fb9f3a"
             ],
             [
              0.8888888888888888,
              "#fdca26"
             ],
             [
              1,
              "#f0f921"
             ]
            ],
            "type": "histogram2d"
           }
          ],
          "histogram2dcontour": [
           {
            "colorbar": {
             "outlinewidth": 0,
             "ticks": ""
            },
            "colorscale": [
             [
              0,
              "#0d0887"
             ],
             [
              0.1111111111111111,
              "#46039f"
             ],
             [
              0.2222222222222222,
              "#7201a8"
             ],
             [
              0.3333333333333333,
              "#9c179e"
             ],
             [
              0.4444444444444444,
              "#bd3786"
             ],
             [
              0.5555555555555556,
              "#d8576b"
             ],
             [
              0.6666666666666666,
              "#ed7953"
             ],
             [
              0.7777777777777778,
              "#fb9f3a"
             ],
             [
              0.8888888888888888,
              "#fdca26"
             ],
             [
              1,
              "#f0f921"
             ]
            ],
            "type": "histogram2dcontour"
           }
          ],
          "mesh3d": [
           {
            "colorbar": {
             "outlinewidth": 0,
             "ticks": ""
            },
            "type": "mesh3d"
           }
          ],
          "parcoords": [
           {
            "line": {
             "colorbar": {
              "outlinewidth": 0,
              "ticks": ""
             }
            },
            "type": "parcoords"
           }
          ],
          "pie": [
           {
            "automargin": true,
            "type": "pie"
           }
          ],
          "scatter": [
           {
            "marker": {
             "colorbar": {
              "outlinewidth": 0,
              "ticks": ""
             }
            },
            "type": "scatter"
           }
          ],
          "scatter3d": [
           {
            "line": {
             "colorbar": {
              "outlinewidth": 0,
              "ticks": ""
             }
            },
            "marker": {
             "colorbar": {
              "outlinewidth": 0,
              "ticks": ""
             }
            },
            "type": "scatter3d"
           }
          ],
          "scattercarpet": [
           {
            "marker": {
             "colorbar": {
              "outlinewidth": 0,
              "ticks": ""
             }
            },
            "type": "scattercarpet"
           }
          ],
          "scattergeo": [
           {
            "marker": {
             "colorbar": {
              "outlinewidth": 0,
              "ticks": ""
             }
            },
            "type": "scattergeo"
           }
          ],
          "scattergl": [
           {
            "marker": {
             "colorbar": {
              "outlinewidth": 0,
              "ticks": ""
             }
            },
            "type": "scattergl"
           }
          ],
          "scattermapbox": [
           {
            "marker": {
             "colorbar": {
              "outlinewidth": 0,
              "ticks": ""
             }
            },
            "type": "scattermapbox"
           }
          ],
          "scatterpolar": [
           {
            "marker": {
             "colorbar": {
              "outlinewidth": 0,
              "ticks": ""
             }
            },
            "type": "scatterpolar"
           }
          ],
          "scatterpolargl": [
           {
            "marker": {
             "colorbar": {
              "outlinewidth": 0,
              "ticks": ""
             }
            },
            "type": "scatterpolargl"
           }
          ],
          "scatterternary": [
           {
            "marker": {
             "colorbar": {
              "outlinewidth": 0,
              "ticks": ""
             }
            },
            "type": "scatterternary"
           }
          ],
          "surface": [
           {
            "colorbar": {
             "outlinewidth": 0,
             "ticks": ""
            },
            "colorscale": [
             [
              0,
              "#0d0887"
             ],
             [
              0.1111111111111111,
              "#46039f"
             ],
             [
              0.2222222222222222,
              "#7201a8"
             ],
             [
              0.3333333333333333,
              "#9c179e"
             ],
             [
              0.4444444444444444,
              "#bd3786"
             ],
             [
              0.5555555555555556,
              "#d8576b"
             ],
             [
              0.6666666666666666,
              "#ed7953"
             ],
             [
              0.7777777777777778,
              "#fb9f3a"
             ],
             [
              0.8888888888888888,
              "#fdca26"
             ],
             [
              1,
              "#f0f921"
             ]
            ],
            "type": "surface"
           }
          ],
          "table": [
           {
            "cells": {
             "fill": {
              "color": "#EBF0F8"
             },
             "line": {
              "color": "white"
             }
            },
            "header": {
             "fill": {
              "color": "#C8D4E3"
             },
             "line": {
              "color": "white"
             }
            },
            "type": "table"
           }
          ]
         },
         "layout": {
          "annotationdefaults": {
           "arrowcolor": "#2a3f5f",
           "arrowhead": 0,
           "arrowwidth": 1
          },
          "coloraxis": {
           "colorbar": {
            "outlinewidth": 0,
            "ticks": ""
           }
          },
          "colorscale": {
           "diverging": [
            [
             0,
             "#8e0152"
            ],
            [
             0.1,
             "#c51b7d"
            ],
            [
             0.2,
             "#de77ae"
            ],
            [
             0.3,
             "#f1b6da"
            ],
            [
             0.4,
             "#fde0ef"
            ],
            [
             0.5,
             "#f7f7f7"
            ],
            [
             0.6,
             "#e6f5d0"
            ],
            [
             0.7,
             "#b8e186"
            ],
            [
             0.8,
             "#7fbc41"
            ],
            [
             0.9,
             "#4d9221"
            ],
            [
             1,
             "#276419"
            ]
           ],
           "sequential": [
            [
             0,
             "#0d0887"
            ],
            [
             0.1111111111111111,
             "#46039f"
            ],
            [
             0.2222222222222222,
             "#7201a8"
            ],
            [
             0.3333333333333333,
             "#9c179e"
            ],
            [
             0.4444444444444444,
             "#bd3786"
            ],
            [
             0.5555555555555556,
             "#d8576b"
            ],
            [
             0.6666666666666666,
             "#ed7953"
            ],
            [
             0.7777777777777778,
             "#fb9f3a"
            ],
            [
             0.8888888888888888,
             "#fdca26"
            ],
            [
             1,
             "#f0f921"
            ]
           ],
           "sequentialminus": [
            [
             0,
             "#0d0887"
            ],
            [
             0.1111111111111111,
             "#46039f"
            ],
            [
             0.2222222222222222,
             "#7201a8"
            ],
            [
             0.3333333333333333,
             "#9c179e"
            ],
            [
             0.4444444444444444,
             "#bd3786"
            ],
            [
             0.5555555555555556,
             "#d8576b"
            ],
            [
             0.6666666666666666,
             "#ed7953"
            ],
            [
             0.7777777777777778,
             "#fb9f3a"
            ],
            [
             0.8888888888888888,
             "#fdca26"
            ],
            [
             1,
             "#f0f921"
            ]
           ]
          },
          "colorway": [
           "#636efa",
           "#EF553B",
           "#00cc96",
           "#ab63fa",
           "#FFA15A",
           "#19d3f3",
           "#FF6692",
           "#B6E880",
           "#FF97FF",
           "#FECB52"
          ],
          "font": {
           "color": "#2a3f5f"
          },
          "geo": {
           "bgcolor": "white",
           "lakecolor": "white",
           "landcolor": "#E5ECF6",
           "showlakes": true,
           "showland": true,
           "subunitcolor": "white"
          },
          "hoverlabel": {
           "align": "left"
          },
          "hovermode": "closest",
          "mapbox": {
           "style": "light"
          },
          "paper_bgcolor": "white",
          "plot_bgcolor": "#E5ECF6",
          "polar": {
           "angularaxis": {
            "gridcolor": "white",
            "linecolor": "white",
            "ticks": ""
           },
           "bgcolor": "#E5ECF6",
           "radialaxis": {
            "gridcolor": "white",
            "linecolor": "white",
            "ticks": ""
           }
          },
          "scene": {
           "xaxis": {
            "backgroundcolor": "#E5ECF6",
            "gridcolor": "white",
            "gridwidth": 2,
            "linecolor": "white",
            "showbackground": true,
            "ticks": "",
            "zerolinecolor": "white"
           },
           "yaxis": {
            "backgroundcolor": "#E5ECF6",
            "gridcolor": "white",
            "gridwidth": 2,
            "linecolor": "white",
            "showbackground": true,
            "ticks": "",
            "zerolinecolor": "white"
           },
           "zaxis": {
            "backgroundcolor": "#E5ECF6",
            "gridcolor": "white",
            "gridwidth": 2,
            "linecolor": "white",
            "showbackground": true,
            "ticks": "",
            "zerolinecolor": "white"
           }
          },
          "shapedefaults": {
           "line": {
            "color": "#2a3f5f"
           }
          },
          "ternary": {
           "aaxis": {
            "gridcolor": "white",
            "linecolor": "white",
            "ticks": ""
           },
           "baxis": {
            "gridcolor": "white",
            "linecolor": "white",
            "ticks": ""
           },
           "bgcolor": "#E5ECF6",
           "caxis": {
            "gridcolor": "white",
            "linecolor": "white",
            "ticks": ""
           }
          },
          "title": {
           "x": 0.05
          },
          "xaxis": {
           "automargin": true,
           "gridcolor": "white",
           "linecolor": "white",
           "ticks": "",
           "title": {
            "standoff": 15
           },
           "zerolinecolor": "white",
           "zerolinewidth": 2
          },
          "yaxis": {
           "automargin": true,
           "gridcolor": "white",
           "linecolor": "white",
           "ticks": "",
           "title": {
            "standoff": 15
           },
           "zerolinecolor": "white",
           "zerolinewidth": 2
          }
         }
        },
        "xaxis": {
         "autorange": true,
         "range": [
          0.4000000000000001,
          0.7500000000000002
         ],
         "type": "linear"
        },
        "yaxis": {
         "autorange": true,
         "range": [
          0,
          8.421052631578947
         ]
        }
       }
      },
      "image/png": "[encoded data removed]",
      "text/html": [
       "<div>\n",
       "        \n",
       "        \n",
       "            <div id=\"bd32e634-4d95-4ad2-86ce-d5dd77c500c0\" class=\"plotly-graph-div\" style=\"height:525px; width:100%;\"></div>\n",
       "            <script type=\"text/javascript\">\n",
       "                require([\"plotly\"], function(Plotly) {\n",
       "                    window.PLOTLYENV=window.PLOTLYENV || {};\n",
       "                    \n",
       "                if (document.getElementById(\"bd32e634-4d95-4ad2-86ce-d5dd77c500c0\")) {\n",
       "                    Plotly.newPlot(\n",
       "                        'bd32e634-4d95-4ad2-86ce-d5dd77c500c0',\n",
       "                        [{\"nbinsx\": 10, \"opacity\": 0.5, \"type\": \"histogram\", \"x\": [0.5280735721200387, 0.4442234776052537, 0.6059500497326868, 0.5289058413251961, 0.5134909053608241, 0.5491751863086545, 0.5111290174715682, 0.49632732460633355, 0.7365307210131093, 0.7346772094885397, 0.5147258414766558, 0.6037817268839982, 0.6508582061213639, 0.4936254696692022, 0.5221660723844129, 0.5608073990920197, 0.6242899673847503, 0.4533766818267956, 0.5064462402072667, 0.5717465742492503]}, {\"nbinsx\": 10, \"opacity\": 0.5, \"type\": \"histogram\", \"x\": [0.49581895604558757, 0.630868824614249, 0.5350304612706701, 0.49541121766928214, 0.4999553292236219, 0.5734865932666742, 0.5848077934485237, 0.4892871263114409, 0.6954467353951891, 0.6550555499949955, 0.4327187744061565, 0.5520809398648636, 0.6074428495481127, 0.48956685830006946, 0.5631506854214278, 0.6332418139767639, 0.5756583004440059, 0.5763987587644495, 0.4889048401478233, 0.4971382026273843]}],\n",
       "                        {\"barmode\": \"overlay\", \"template\": {\"data\": {\"bar\": [{\"error_x\": {\"color\": \"#2a3f5f\"}, \"error_y\": {\"color\": \"#2a3f5f\"}, \"marker\": {\"line\": {\"color\": \"#E5ECF6\", \"width\": 0.5}}, \"type\": \"bar\"}], \"barpolar\": [{\"marker\": {\"line\": {\"color\": \"#E5ECF6\", \"width\": 0.5}}, \"type\": \"barpolar\"}], \"carpet\": [{\"aaxis\": {\"endlinecolor\": \"#2a3f5f\", \"gridcolor\": \"white\", \"linecolor\": \"white\", \"minorgridcolor\": \"white\", \"startlinecolor\": \"#2a3f5f\"}, \"baxis\": {\"endlinecolor\": \"#2a3f5f\", \"gridcolor\": \"white\", \"linecolor\": \"white\", \"minorgridcolor\": \"white\", \"startlinecolor\": \"#2a3f5f\"}, \"type\": \"carpet\"}], \"choropleth\": [{\"colorbar\": {\"outlinewidth\": 0, \"ticks\": \"\"}, \"type\": \"choropleth\"}], \"contour\": [{\"colorbar\": {\"outlinewidth\": 0, \"ticks\": \"\"}, \"colorscale\": [[0.0, \"#0d0887\"], [0.1111111111111111, \"#46039f\"], [0.2222222222222222, \"#7201a8\"], [0.3333333333333333, \"#9c179e\"], [0.4444444444444444, \"#bd3786\"], [0.5555555555555556, \"#d8576b\"], [0.6666666666666666, \"#ed7953\"], [0.7777777777777778, \"#fb9f3a\"], [0.8888888888888888, \"#fdca26\"], [1.0, \"#f0f921\"]], \"type\": \"contour\"}], \"contourcarpet\": [{\"colorbar\": {\"outlinewidth\": 0, \"ticks\": \"\"}, \"type\": \"contourcarpet\"}], \"heatmap\": [{\"colorbar\": {\"outlinewidth\": 0, \"ticks\": \"\"}, \"colorscale\": [[0.0, \"#0d0887\"], [0.1111111111111111, \"#46039f\"], [0.2222222222222222, \"#7201a8\"], [0.3333333333333333, \"#9c179e\"], [0.4444444444444444, \"#bd3786\"], [0.5555555555555556, \"#d8576b\"], [0.6666666666666666, \"#ed7953\"], [0.7777777777777778, \"#fb9f3a\"], [0.8888888888888888, \"#fdca26\"], [1.0, \"#f0f921\"]], \"type\": \"heatmap\"}], \"heatmapgl\": [{\"colorbar\": {\"outlinewidth\": 0, \"ticks\": \"\"}, \"colorscale\": [[0.0, \"#0d0887\"], [0.1111111111111111, \"#46039f\"], [0.2222222222222222, \"#7201a8\"], [0.3333333333333333, \"#9c179e\"], [0.4444444444444444, \"#bd3786\"], [0.5555555555555556, \"#d8576b\"], [0.6666666666666666, \"#ed7953\"], [0.7777777777777778, \"#fb9f3a\"], [0.8888888888888888, \"#fdca26\"], [1.0, \"#f0f921\"]], \"type\": \"heatmapgl\"}], \"histogram\": [{\"marker\": {\"colorbar\": {\"outlinewidth\": 0, \"ticks\": \"\"}}, \"type\": \"histogram\"}], \"histogram2d\": [{\"colorbar\": {\"outlinewidth\": 0, \"ticks\": \"\"}, \"colorscale\": [[0.0, \"#0d0887\"], [0.1111111111111111, \"#46039f\"], [0.2222222222222222, \"#7201a8\"], [0.3333333333333333, \"#9c179e\"], [0.4444444444444444, \"#bd3786\"], [0.5555555555555556, \"#d8576b\"], [0.6666666666666666, \"#ed7953\"], [0.7777777777777778, \"#fb9f3a\"], [0.8888888888888888, \"#fdca26\"], [1.0, \"#f0f921\"]], \"type\": \"histogram2d\"}], \"histogram2dcontour\": [{\"colorbar\": {\"outlinewidth\": 0, \"ticks\": \"\"}, \"colorscale\": [[0.0, \"#0d0887\"], [0.1111111111111111, \"#46039f\"], [0.2222222222222222, \"#7201a8\"], [0.3333333333333333, \"#9c179e\"], [0.4444444444444444, \"#bd3786\"], [0.5555555555555556, \"#d8576b\"], [0.6666666666666666, \"#ed7953\"], [0.7777777777777778, \"#fb9f3a\"], [0.8888888888888888, \"#fdca26\"], [1.0, \"#f0f921\"]], \"type\": \"histogram2dcontour\"}], \"mesh3d\": [{\"colorbar\": {\"outlinewidth\": 0, \"ticks\": \"\"}, \"type\": \"mesh3d\"}], \"parcoords\": [{\"line\": {\"colorbar\": {\"outlinewidth\": 0, \"ticks\": \"\"}}, \"type\": \"parcoords\"}], \"pie\": [{\"automargin\": true, \"type\": \"pie\"}], \"scatter\": [{\"marker\": {\"colorbar\": {\"outlinewidth\": 0, \"ticks\": \"\"}}, \"type\": \"scatter\"}], \"scatter3d\": [{\"line\": {\"colorbar\": {\"outlinewidth\": 0, \"ticks\": \"\"}}, \"marker\": {\"colorbar\": {\"outlinewidth\": 0, \"ticks\": \"\"}}, \"type\": \"scatter3d\"}], \"scattercarpet\": [{\"marker\": {\"colorbar\": {\"outlinewidth\": 0, \"ticks\": \"\"}}, \"type\": \"scattercarpet\"}], \"scattergeo\": [{\"marker\": {\"colorbar\": {\"outlinewidth\": 0, \"ticks\": \"\"}}, \"type\": \"scattergeo\"}], \"scattergl\": [{\"marker\": {\"colorbar\": {\"outlinewidth\": 0, \"ticks\": \"\"}}, \"type\": \"scattergl\"}], \"scattermapbox\": [{\"marker\": {\"colorbar\": {\"outlinewidth\": 0, \"ticks\": \"\"}}, \"type\": \"scattermapbox\"}], \"scatterpolar\": [{\"marker\": {\"colorbar\": {\"outlinewidth\": 0, \"ticks\": \"\"}}, \"type\": \"scatterpolar\"}], \"scatterpolargl\": [{\"marker\": {\"colorbar\": {\"outlinewidth\": 0, \"ticks\": \"\"}}, \"type\": \"scatterpolargl\"}], \"scatterternary\": [{\"marker\": {\"colorbar\": {\"outlinewidth\": 0, \"ticks\": \"\"}}, \"type\": \"scatterternary\"}], \"surface\": [{\"colorbar\": {\"outlinewidth\": 0, \"ticks\": \"\"}, \"colorscale\": [[0.0, \"#0d0887\"], [0.1111111111111111, \"#46039f\"], [0.2222222222222222, \"#7201a8\"], [0.3333333333333333, \"#9c179e\"], [0.4444444444444444, \"#bd3786\"], [0.5555555555555556, \"#d8576b\"], [0.6666666666666666, \"#ed7953\"], [0.7777777777777778, \"#fb9f3a\"], [0.8888888888888888, \"#fdca26\"], [1.0, \"#f0f921\"]], \"type\": \"surface\"}], \"table\": [{\"cells\": {\"fill\": {\"color\": \"#EBF0F8\"}, \"line\": {\"color\": \"white\"}}, \"header\": {\"fill\": {\"color\": \"#C8D4E3\"}, \"line\": {\"color\": \"white\"}}, \"type\": \"table\"}]}, \"layout\": {\"annotationdefaults\": {\"arrowcolor\": \"#2a3f5f\", \"arrowhead\": 0, \"arrowwidth\": 1}, \"coloraxis\": {\"colorbar\": {\"outlinewidth\": 0, \"ticks\": \"\"}}, \"colorscale\": {\"diverging\": [[0, \"#8e0152\"], [0.1, \"#c51b7d\"], [0.2, \"#de77ae\"], [0.3, \"#f1b6da\"], [0.4, \"#fde0ef\"], [0.5, \"#f7f7f7\"], [0.6, \"#e6f5d0\"], [0.7, \"#b8e186\"], [0.8, \"#7fbc41\"], [0.9, \"#4d9221\"], [1, \"#276419\"]], \"sequential\": [[0.0, \"#0d0887\"], [0.1111111111111111, \"#46039f\"], [0.2222222222222222, \"#7201a8\"], [0.3333333333333333, \"#9c179e\"], [0.4444444444444444, \"#bd3786\"], [0.5555555555555556, \"#d8576b\"], [0.6666666666666666, \"#ed7953\"], [0.7777777777777778, \"#fb9f3a\"], [0.8888888888888888, \"#fdca26\"], [1.0, \"#f0f921\"]], \"sequentialminus\": [[0.0, \"#0d0887\"], [0.1111111111111111, \"#46039f\"], [0.2222222222222222, \"#7201a8\"], [0.3333333333333333, \"#9c179e\"], [0.4444444444444444, \"#bd3786\"], [0.5555555555555556, \"#d8576b\"], [0.6666666666666666, \"#ed7953\"], [0.7777777777777778, \"#fb9f3a\"], [0.8888888888888888, \"#fdca26\"], [1.0, \"#f0f921\"]]}, \"colorway\": [\"#636efa\", \"#EF553B\", \"#00cc96\", \"#ab63fa\", \"#FFA15A\", \"#19d3f3\", \"#FF6692\", \"#B6E880\", \"#FF97FF\", \"#FECB52\"], \"font\": {\"color\": \"#2a3f5f\"}, \"geo\": {\"bgcolor\": \"white\", \"lakecolor\": \"white\", \"landcolor\": \"#E5ECF6\", \"showlakes\": true, \"showland\": true, \"subunitcolor\": \"white\"}, \"hoverlabel\": {\"align\": \"left\"}, \"hovermode\": \"closest\", \"mapbox\": {\"style\": \"light\"}, \"paper_bgcolor\": \"white\", \"plot_bgcolor\": \"#E5ECF6\", \"polar\": {\"angularaxis\": {\"gridcolor\": \"white\", \"linecolor\": \"white\", \"ticks\": \"\"}, \"bgcolor\": \"#E5ECF6\", \"radialaxis\": {\"gridcolor\": \"white\", \"linecolor\": \"white\", \"ticks\": \"\"}}, \"scene\": {\"xaxis\": {\"backgroundcolor\": \"#E5ECF6\", \"gridcolor\": \"white\", \"gridwidth\": 2, \"linecolor\": \"white\", \"showbackground\": true, \"ticks\": \"\", \"zerolinecolor\": \"white\"}, \"yaxis\": {\"backgroundcolor\": \"#E5ECF6\", \"gridcolor\": \"white\", \"gridwidth\": 2, \"linecolor\": \"white\", \"showbackground\": true, \"ticks\": \"\", \"zerolinecolor\": \"white\"}, \"zaxis\": {\"backgroundcolor\": \"#E5ECF6\", \"gridcolor\": \"white\", \"gridwidth\": 2, \"linecolor\": \"white\", \"showbackground\": true, \"ticks\": \"\", \"zerolinecolor\": \"white\"}}, \"shapedefaults\": {\"line\": {\"color\": \"#2a3f5f\"}}, \"ternary\": {\"aaxis\": {\"gridcolor\": \"white\", \"linecolor\": \"white\", \"ticks\": \"\"}, \"baxis\": {\"gridcolor\": \"white\", \"linecolor\": \"white\", \"ticks\": \"\"}, \"bgcolor\": \"#E5ECF6\", \"caxis\": {\"gridcolor\": \"white\", \"linecolor\": \"white\", \"ticks\": \"\"}}, \"title\": {\"x\": 0.05}, \"xaxis\": {\"automargin\": true, \"gridcolor\": \"white\", \"linecolor\": \"white\", \"ticks\": \"\", \"title\": {\"standoff\": 15}, \"zerolinecolor\": \"white\", \"zerolinewidth\": 2}, \"yaxis\": {\"automargin\": true, \"gridcolor\": \"white\", \"linecolor\": \"white\", \"ticks\": \"\", \"title\": {\"standoff\": 15}, \"zerolinecolor\": \"white\", \"zerolinewidth\": 2}}}},\n",
       "                        {\"responsive\": true}\n",
       "                    ).then(function(){\n",
       "                            \n",
       "var gd = document.getElementById('bd32e634-4d95-4ad2-86ce-d5dd77c500c0');\n",
       "var x = new MutationObserver(function (mutations, observer) {{\n",
       "        var display = window.getComputedStyle(gd).display;\n",
       "        if (!display || display === 'none') {{\n",
       "            console.log([gd, 'removed!']);\n",
       "            Plotly.purge(gd);\n",
       "            observer.disconnect();\n",
       "        }}\n",
       "}});\n",
       "\n",
       "// Listen for the removal of the full notebook cells\n",
       "var notebookContainer = gd.closest('#notebook-container');\n",
       "if (notebookContainer) {{\n",
       "    x.observe(notebookContainer, {childList: true});\n",
       "}}\n",
       "\n",
       "// Listen for the clearing of the current output cell\n",
       "var outputEl = gd.closest('.output');\n",
       "if (outputEl) {{\n",
       "    x.observe(outputEl, {childList: true});\n",
       "}}\n",
       "\n",
       "                        })\n",
       "                };\n",
       "                });\n",
       "            </script>\n",
       "        </div>"
      ]
     },
     "metadata": {},
     "output_type": "display_data"
    }
   ],
   "source": [
    "import plotly.graph_objects as go\n",
    "\n",
    "fig = go.Figure()\n",
    "\n",
    "fig.add_trace(go.Histogram(x=df[\"vec_auc_list\"], nbinsx=10))\n",
    "fig.add_trace(go.Histogram(x=df[\"sig_auc_list\"], nbinsx=10))\n",
    "\n",
    "# Overlay both histograms\n",
    "fig.update_layout(barmode='overlay')\n",
    "# Reduce opacity to see both histograms\n",
    "fig.update_traces(opacity=0.5)\n",
    "fig.show()"
   ]
  },
  {
   "cell_type": "code",
   "execution_count": 34,
   "metadata": {},
   "outputs": [
    {
     "data": {
      "text/plain": [
       "WilcoxonResult(statistic=81.0, pvalue=0.38837623596191406)"
      ]
     },
     "execution_count": 34,
     "metadata": {},
     "output_type": "execute_result"
    }
   ],
   "source": [
    "#scipy.stats.wilcoxon(x, y=None, zero_method='wilcox', correction=False, alternative='two-sided', mode='auto')\n",
    "from scipy.stats import wilcoxon\n",
    "wilcoxon(x=df[\"vec_auc_list\"], \n",
    "         y=df[\"sig_auc_list\"], zero_method='wilcox', correction=False, alternative='two-sided', mode='auto')"
   ]
  }
 ],
 "metadata": {
  "kernelspec": {
   "display_name": "Python 3",
   "language": "python",
   "name": "python3"
  },
  "language_info": {
   "codemirror_mode": {
    "name": "ipython",
    "version": 3
   },
   "file_extension": ".py",
   "mimetype": "text/x-python",
   "name": "python",
   "nbconvert_exporter": "python",
   "pygments_lexer": "ipython3",
   "version": "3.7.5rc1"
  }
 },
 "nbformat": 4,
 "nbformat_minor": 4
}
