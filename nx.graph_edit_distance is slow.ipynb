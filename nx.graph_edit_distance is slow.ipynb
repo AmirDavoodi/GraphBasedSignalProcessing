{
 "cells": [
  {
   "cell_type": "markdown",
   "metadata": {},
   "source": [
    "## Networkx Graph edit distance is slow\n",
    "Here is the simple presentation of how slow is the **Graph edit distance** implementation of **Networkx** is for comparing the distance of two small graphs with only 11 nodes."
   ]
  },
  {
   "cell_type": "code",
   "execution_count": 1,
   "metadata": {},
   "outputs": [
    {
     "name": "stdout",
     "output_type": "stream",
     "text": [
      "Adding 0 -> 5 [label=11]\n",
      "  GED=11.0 took 0.09 seconds\n",
      "Adding 1 -> 3 [label=28]\n",
      "  GED=12.0 took 0.24 seconds\n",
      "Adding 1 -> 2 [label=19]\n",
      "  GED=13.0 took 1.40 seconds\n",
      "Adding 1 -> 6 [label=11]\n",
      "  GED=13.0 took 7.88 seconds\n",
      "Adding 1 -> 5 [label=13]\n"
     ]
    },
    {
     "ename": "KeyboardInterrupt",
     "evalue": "",
     "output_type": "error",
     "traceback": [
      "\u001b[0;31m---------------------------------------------------------------------------\u001b[0m",
      "\u001b[0;31mKeyboardInterrupt\u001b[0m                         Traceback (most recent call last)",
      "\u001b[0;32m<ipython-input-1-0b5789e7eb90>\u001b[0m in \u001b[0;36m<module>\u001b[0;34m\u001b[0m\n\u001b[1;32m     61\u001b[0m     \u001b[0mg2\u001b[0m\u001b[0;34m.\u001b[0m\u001b[0madd_edge\u001b[0m\u001b[0;34m(\u001b[0m\u001b[0mi\u001b[0m\u001b[0;34m,\u001b[0m \u001b[0mj\u001b[0m\u001b[0;34m,\u001b[0m \u001b[0mlabel\u001b[0m\u001b[0;34m=\u001b[0m\u001b[0ml\u001b[0m\u001b[0;34m)\u001b[0m\u001b[0;34m\u001b[0m\u001b[0m\n\u001b[1;32m     62\u001b[0m     \u001b[0mstart_time\u001b[0m \u001b[0;34m=\u001b[0m \u001b[0mtime\u001b[0m\u001b[0;34m.\u001b[0m\u001b[0mtime\u001b[0m\u001b[0;34m(\u001b[0m\u001b[0;34m)\u001b[0m\u001b[0;34m\u001b[0m\u001b[0m\n\u001b[0;32m---> 63\u001b[0;31m     \u001b[0mdst\u001b[0m \u001b[0;34m=\u001b[0m \u001b[0mged\u001b[0m\u001b[0;34m(\u001b[0m\u001b[0mg1\u001b[0m\u001b[0;34m,\u001b[0m \u001b[0mg2\u001b[0m\u001b[0;34m)\u001b[0m\u001b[0;34m\u001b[0m\u001b[0m\n\u001b[0m\u001b[1;32m     64\u001b[0m     \u001b[0mprint\u001b[0m\u001b[0;34m(\u001b[0m\u001b[0;34m'  GED={0} took {1:.2f} seconds'\u001b[0m\u001b[0;34m.\u001b[0m\u001b[0mformat\u001b[0m\u001b[0;34m(\u001b[0m\u001b[0mdst\u001b[0m\u001b[0;34m,\u001b[0m \u001b[0mtime\u001b[0m\u001b[0;34m.\u001b[0m\u001b[0mtime\u001b[0m\u001b[0;34m(\u001b[0m\u001b[0;34m)\u001b[0m \u001b[0;34m-\u001b[0m \u001b[0mstart_time\u001b[0m\u001b[0;34m)\u001b[0m\u001b[0;34m)\u001b[0m\u001b[0;34m\u001b[0m\u001b[0m\n",
      "\u001b[0;32m<ipython-input-1-0b5789e7eb90>\u001b[0m in \u001b[0;36mged\u001b[0;34m(g1, g2)\u001b[0m\n\u001b[1;32m     14\u001b[0m \u001b[0;34m\u001b[0m\u001b[0m\n\u001b[1;32m     15\u001b[0m \u001b[0;32mdef\u001b[0m \u001b[0mged\u001b[0m\u001b[0;34m(\u001b[0m\u001b[0mg1\u001b[0m\u001b[0;34m,\u001b[0m\u001b[0mg2\u001b[0m\u001b[0;34m)\u001b[0m\u001b[0;34m:\u001b[0m\u001b[0;34m\u001b[0m\u001b[0m\n\u001b[0;32m---> 16\u001b[0;31m     \u001b[0;32mreturn\u001b[0m \u001b[0mnx\u001b[0m\u001b[0;34m.\u001b[0m\u001b[0mgraph_edit_distance\u001b[0m\u001b[0;34m(\u001b[0m\u001b[0mg1\u001b[0m\u001b[0;34m,\u001b[0m\u001b[0mg2\u001b[0m\u001b[0;34m,\u001b[0m \u001b[0mnode_match\u001b[0m\u001b[0;34m=\u001b[0m\u001b[0mnmatch\u001b[0m\u001b[0;34m,\u001b[0m \u001b[0medge_match\u001b[0m\u001b[0;34m=\u001b[0m\u001b[0mematch\u001b[0m\u001b[0;34m)\u001b[0m\u001b[0;34m\u001b[0m\u001b[0m\n\u001b[0m\u001b[1;32m     17\u001b[0m \u001b[0;34m\u001b[0m\u001b[0m\n\u001b[1;32m     18\u001b[0m \u001b[0mg1\u001b[0m \u001b[0;34m=\u001b[0m \u001b[0mnx\u001b[0m\u001b[0;34m.\u001b[0m\u001b[0mGraph\u001b[0m\u001b[0;34m(\u001b[0m\u001b[0;34m)\u001b[0m\u001b[0;34m\u001b[0m\u001b[0m\n",
      "\u001b[0;32m/usr/local/lib/python3.6/site-packages/networkx/algorithms/similarity.py\u001b[0m in \u001b[0;36mgraph_edit_distance\u001b[0;34m(G1, G2, node_match, edge_match, node_subst_cost, node_del_cost, node_ins_cost, edge_subst_cost, edge_del_cost, edge_ins_cost, upper_bound)\u001b[0m\n\u001b[1;32m    170\u001b[0m                             \u001b[0mnode_subst_cost\u001b[0m\u001b[0;34m,\u001b[0m \u001b[0mnode_del_cost\u001b[0m\u001b[0;34m,\u001b[0m \u001b[0mnode_ins_cost\u001b[0m\u001b[0;34m,\u001b[0m\u001b[0;34m\u001b[0m\u001b[0m\n\u001b[1;32m    171\u001b[0m                             \u001b[0medge_subst_cost\u001b[0m\u001b[0;34m,\u001b[0m \u001b[0medge_del_cost\u001b[0m\u001b[0;34m,\u001b[0m \u001b[0medge_ins_cost\u001b[0m\u001b[0;34m,\u001b[0m\u001b[0;34m\u001b[0m\u001b[0m\n\u001b[0;32m--> 172\u001b[0;31m                             upper_bound, True):\n\u001b[0m\u001b[1;32m    173\u001b[0m         \u001b[0;31m#assert bestcost is None or cost < bestcost\u001b[0m\u001b[0;34m\u001b[0m\u001b[0;34m\u001b[0m\u001b[0m\n\u001b[1;32m    174\u001b[0m         \u001b[0mbestcost\u001b[0m \u001b[0;34m=\u001b[0m \u001b[0mcost\u001b[0m\u001b[0;34m\u001b[0m\u001b[0m\n",
      "\u001b[0;32m/usr/local/lib/python3.6/site-packages/networkx/algorithms/similarity.py\u001b[0m in \u001b[0;36moptimize_edit_paths\u001b[0;34m(G1, G2, node_match, edge_match, node_subst_cost, node_del_cost, node_ins_cost, edge_subst_cost, edge_del_cost, edge_ins_cost, upper_bound, strictly_decreasing)\u001b[0m\n\u001b[1;32m    998\u001b[0m     \u001b[0;32mfor\u001b[0m \u001b[0mvertex_path\u001b[0m\u001b[0;34m,\u001b[0m \u001b[0medge_path\u001b[0m\u001b[0;34m,\u001b[0m \u001b[0mcost\u001b[0m \u001b[0;32min\u001b[0m\u001b[0;31m \u001b[0m\u001b[0;31m\\\u001b[0m\u001b[0;34m\u001b[0m\u001b[0m\n\u001b[1;32m    999\u001b[0m         get_edit_paths([], pending_u, pending_v, Cv,\n\u001b[0;32m-> 1000\u001b[0;31m                        [], pending_g, pending_h, Ce, 0):\n\u001b[0m\u001b[1;32m   1001\u001b[0m         \u001b[0;31m#assert sorted(G1.nodes) == sorted(u for u, v in vertex_path if u is not None)\u001b[0m\u001b[0;34m\u001b[0m\u001b[0;34m\u001b[0m\u001b[0m\n\u001b[1;32m   1002\u001b[0m         \u001b[0;31m#assert sorted(G2.nodes) == sorted(v for u, v in vertex_path if v is not None)\u001b[0m\u001b[0;34m\u001b[0m\u001b[0;34m\u001b[0m\u001b[0m\n",
      "\u001b[0;32m/usr/local/lib/python3.6/site-packages/networkx/algorithms/similarity.py\u001b[0m in \u001b[0;36mget_edit_paths\u001b[0;34m(matched_uv, pending_u, pending_v, Cv, matched_gh, pending_g, pending_h, Ce, matched_cost)\u001b[0m\n\u001b[1;32m    877\u001b[0m                                         \u001b[0mmatched_gh\u001b[0m\u001b[0;34m,\u001b[0m \u001b[0mpending_g\u001b[0m\u001b[0;34m,\u001b[0m \u001b[0mpending_h\u001b[0m\u001b[0;34m,\u001b[0m\u001b[0;34m\u001b[0m\u001b[0m\n\u001b[1;32m    878\u001b[0m                                         \u001b[0mCe_xy\u001b[0m\u001b[0;34m,\u001b[0m\u001b[0;34m\u001b[0m\u001b[0m\n\u001b[0;32m--> 879\u001b[0;31m                                         matched_cost + edit_cost):\n\u001b[0m\u001b[1;32m    880\u001b[0m                     \u001b[0;32myield\u001b[0m \u001b[0mt\u001b[0m\u001b[0;34m\u001b[0m\u001b[0m\n\u001b[1;32m    881\u001b[0m \u001b[0;34m\u001b[0m\u001b[0m\n",
      "\u001b[0;32m/usr/local/lib/python3.6/site-packages/networkx/algorithms/similarity.py\u001b[0m in \u001b[0;36mget_edit_paths\u001b[0;34m(matched_uv, pending_u, pending_v, Cv, matched_gh, pending_g, pending_h, Ce, matched_cost)\u001b[0m\n\u001b[1;32m    877\u001b[0m                                         \u001b[0mmatched_gh\u001b[0m\u001b[0;34m,\u001b[0m \u001b[0mpending_g\u001b[0m\u001b[0;34m,\u001b[0m \u001b[0mpending_h\u001b[0m\u001b[0;34m,\u001b[0m\u001b[0;34m\u001b[0m\u001b[0m\n\u001b[1;32m    878\u001b[0m                                         \u001b[0mCe_xy\u001b[0m\u001b[0;34m,\u001b[0m\u001b[0;34m\u001b[0m\u001b[0m\n\u001b[0;32m--> 879\u001b[0;31m                                         matched_cost + edit_cost):\n\u001b[0m\u001b[1;32m    880\u001b[0m                     \u001b[0;32myield\u001b[0m \u001b[0mt\u001b[0m\u001b[0;34m\u001b[0m\u001b[0m\n\u001b[1;32m    881\u001b[0m \u001b[0;34m\u001b[0m\u001b[0m\n",
      "\u001b[0;32m/usr/local/lib/python3.6/site-packages/networkx/algorithms/similarity.py\u001b[0m in \u001b[0;36mget_edit_paths\u001b[0;34m(matched_uv, pending_u, pending_v, Cv, matched_gh, pending_g, pending_h, Ce, matched_cost)\u001b[0m\n\u001b[1;32m    877\u001b[0m                                         \u001b[0mmatched_gh\u001b[0m\u001b[0;34m,\u001b[0m \u001b[0mpending_g\u001b[0m\u001b[0;34m,\u001b[0m \u001b[0mpending_h\u001b[0m\u001b[0;34m,\u001b[0m\u001b[0;34m\u001b[0m\u001b[0m\n\u001b[1;32m    878\u001b[0m                                         \u001b[0mCe_xy\u001b[0m\u001b[0;34m,\u001b[0m\u001b[0;34m\u001b[0m\u001b[0m\n\u001b[0;32m--> 879\u001b[0;31m                                         matched_cost + edit_cost):\n\u001b[0m\u001b[1;32m    880\u001b[0m                     \u001b[0;32myield\u001b[0m \u001b[0mt\u001b[0m\u001b[0;34m\u001b[0m\u001b[0m\n\u001b[1;32m    881\u001b[0m \u001b[0;34m\u001b[0m\u001b[0m\n",
      "\u001b[0;32m/usr/local/lib/python3.6/site-packages/networkx/algorithms/similarity.py\u001b[0m in \u001b[0;36mget_edit_paths\u001b[0;34m(matched_uv, pending_u, pending_v, Cv, matched_gh, pending_g, pending_h, Ce, matched_cost)\u001b[0m\n\u001b[1;32m    877\u001b[0m                                         \u001b[0mmatched_gh\u001b[0m\u001b[0;34m,\u001b[0m \u001b[0mpending_g\u001b[0m\u001b[0;34m,\u001b[0m \u001b[0mpending_h\u001b[0m\u001b[0;34m,\u001b[0m\u001b[0;34m\u001b[0m\u001b[0m\n\u001b[1;32m    878\u001b[0m                                         \u001b[0mCe_xy\u001b[0m\u001b[0;34m,\u001b[0m\u001b[0;34m\u001b[0m\u001b[0m\n\u001b[0;32m--> 879\u001b[0;31m                                         matched_cost + edit_cost):\n\u001b[0m\u001b[1;32m    880\u001b[0m                     \u001b[0;32myield\u001b[0m \u001b[0mt\u001b[0m\u001b[0;34m\u001b[0m\u001b[0m\n\u001b[1;32m    881\u001b[0m \u001b[0;34m\u001b[0m\u001b[0m\n",
      "\u001b[0;32m/usr/local/lib/python3.6/site-packages/networkx/algorithms/similarity.py\u001b[0m in \u001b[0;36mget_edit_paths\u001b[0;34m(matched_uv, pending_u, pending_v, Cv, matched_gh, pending_g, pending_h, Ce, matched_cost)\u001b[0m\n\u001b[1;32m    850\u001b[0m             edit_ops = get_edit_ops(matched_uv, pending_u, pending_v, Cv,\n\u001b[1;32m    851\u001b[0m                                     pending_g, pending_h, Ce, matched_cost)\n\u001b[0;32m--> 852\u001b[0;31m             \u001b[0;32mfor\u001b[0m \u001b[0mij\u001b[0m\u001b[0;34m,\u001b[0m \u001b[0mCv_ij\u001b[0m\u001b[0;34m,\u001b[0m \u001b[0mxy\u001b[0m\u001b[0;34m,\u001b[0m \u001b[0mCe_xy\u001b[0m\u001b[0;34m,\u001b[0m \u001b[0medit_cost\u001b[0m \u001b[0;32min\u001b[0m \u001b[0medit_ops\u001b[0m\u001b[0;34m:\u001b[0m\u001b[0;34m\u001b[0m\u001b[0m\n\u001b[0m\u001b[1;32m    853\u001b[0m                 \u001b[0mi\u001b[0m\u001b[0;34m,\u001b[0m \u001b[0mj\u001b[0m \u001b[0;34m=\u001b[0m \u001b[0mij\u001b[0m\u001b[0;34m\u001b[0m\u001b[0m\n\u001b[1;32m    854\u001b[0m                 \u001b[0;31m#assert Cv.C[i, j] + sum(Ce.C[t] for t in xy) == edit_cost\u001b[0m\u001b[0;34m\u001b[0m\u001b[0;34m\u001b[0m\u001b[0m\n",
      "\u001b[0;32m/usr/local/lib/python3.6/site-packages/networkx/algorithms/similarity.py\u001b[0m in \u001b[0;36mget_edit_ops\u001b[0;34m(matched_uv, pending_u, pending_v, Cv, pending_g, pending_h, Ce, matched_cost)\u001b[0m\n\u001b[1;32m    774\u001b[0m             Cv_ij = make_CostMatrix(reduce_C(Cv.C, (i,), (j,), m, n),\n\u001b[1;32m    775\u001b[0m                                     \u001b[0mm\u001b[0m \u001b[0;34m-\u001b[0m \u001b[0;36m1\u001b[0m \u001b[0;32mif\u001b[0m \u001b[0mi\u001b[0m \u001b[0;34m<\u001b[0m \u001b[0mm\u001b[0m \u001b[0;32melse\u001b[0m \u001b[0mm\u001b[0m\u001b[0;34m,\u001b[0m\u001b[0;34m\u001b[0m\u001b[0m\n\u001b[0;32m--> 776\u001b[0;31m                                     n - 1 if j < n else n)\n\u001b[0m\u001b[1;32m    777\u001b[0m             \u001b[0;31m#assert Cv.ls <= Cv.C[i, j] + Cv_ij.ls\u001b[0m\u001b[0;34m\u001b[0m\u001b[0;34m\u001b[0m\u001b[0m\n\u001b[1;32m    778\u001b[0m             \u001b[0;32mif\u001b[0m \u001b[0mprune\u001b[0m\u001b[0;34m(\u001b[0m\u001b[0mmatched_cost\u001b[0m \u001b[0;34m+\u001b[0m \u001b[0mCv\u001b[0m\u001b[0;34m.\u001b[0m\u001b[0mC\u001b[0m\u001b[0;34m[\u001b[0m\u001b[0mi\u001b[0m\u001b[0;34m,\u001b[0m \u001b[0mj\u001b[0m\u001b[0;34m]\u001b[0m \u001b[0;34m+\u001b[0m \u001b[0mCv_ij\u001b[0m\u001b[0;34m.\u001b[0m\u001b[0mls\u001b[0m \u001b[0;34m+\u001b[0m \u001b[0mCe\u001b[0m\u001b[0;34m.\u001b[0m\u001b[0mls\u001b[0m\u001b[0;34m)\u001b[0m\u001b[0;34m:\u001b[0m\u001b[0;34m\u001b[0m\u001b[0m\n",
      "\u001b[0;32m/usr/local/lib/python3.6/site-packages/networkx/algorithms/similarity.py\u001b[0m in \u001b[0;36mmake_CostMatrix\u001b[0;34m(C, m, n)\u001b[0m\n\u001b[1;32m    602\u001b[0m     \u001b[0;32mdef\u001b[0m \u001b[0mmake_CostMatrix\u001b[0m\u001b[0;34m(\u001b[0m\u001b[0mC\u001b[0m\u001b[0;34m,\u001b[0m \u001b[0mm\u001b[0m\u001b[0;34m,\u001b[0m \u001b[0mn\u001b[0m\u001b[0;34m)\u001b[0m\u001b[0;34m:\u001b[0m\u001b[0;34m\u001b[0m\u001b[0m\n\u001b[1;32m    603\u001b[0m         \u001b[0;31m#assert(C.shape == (m + n, m + n))\u001b[0m\u001b[0;34m\u001b[0m\u001b[0;34m\u001b[0m\u001b[0m\n\u001b[0;32m--> 604\u001b[0;31m         \u001b[0mlsa_row_ind\u001b[0m\u001b[0;34m,\u001b[0m \u001b[0mlsa_col_ind\u001b[0m \u001b[0;34m=\u001b[0m \u001b[0mlinear_sum_assignment\u001b[0m\u001b[0;34m(\u001b[0m\u001b[0mC\u001b[0m\u001b[0;34m)\u001b[0m\u001b[0;34m\u001b[0m\u001b[0m\n\u001b[0m\u001b[1;32m    605\u001b[0m \u001b[0;34m\u001b[0m\u001b[0m\n\u001b[1;32m    606\u001b[0m         \u001b[0;31m# Fixup dummy assignments:\u001b[0m\u001b[0;34m\u001b[0m\u001b[0;34m\u001b[0m\u001b[0m\n",
      "\u001b[0;32m/usr/local/lib/python3.6/site-packages/scipy/optimize/_hungarian.py\u001b[0m in \u001b[0;36mlinear_sum_assignment\u001b[0;34m(cost_matrix)\u001b[0m\n\u001b[1;32m     90\u001b[0m                          % (cost_matrix.dtype,))\n\u001b[1;32m     91\u001b[0m \u001b[0;34m\u001b[0m\u001b[0m\n\u001b[0;32m---> 92\u001b[0;31m     \u001b[0;32mif\u001b[0m \u001b[0mnp\u001b[0m\u001b[0;34m.\u001b[0m\u001b[0many\u001b[0m\u001b[0;34m(\u001b[0m\u001b[0mnp\u001b[0m\u001b[0;34m.\u001b[0m\u001b[0misinf\u001b[0m\u001b[0;34m(\u001b[0m\u001b[0mcost_matrix\u001b[0m\u001b[0;34m)\u001b[0m \u001b[0;34m|\u001b[0m \u001b[0mnp\u001b[0m\u001b[0;34m.\u001b[0m\u001b[0misnan\u001b[0m\u001b[0;34m(\u001b[0m\u001b[0mcost_matrix\u001b[0m\u001b[0;34m)\u001b[0m\u001b[0;34m)\u001b[0m\u001b[0;34m:\u001b[0m\u001b[0;34m\u001b[0m\u001b[0m\n\u001b[0m\u001b[1;32m     93\u001b[0m         \u001b[0;32mraise\u001b[0m \u001b[0mValueError\u001b[0m\u001b[0;34m(\u001b[0m\u001b[0;34m\"matrix contains invalid numeric entries\"\u001b[0m\u001b[0;34m)\u001b[0m\u001b[0;34m\u001b[0m\u001b[0m\n\u001b[1;32m     94\u001b[0m \u001b[0;34m\u001b[0m\u001b[0m\n",
      "\u001b[0;32m<__array_function__ internals>\u001b[0m in \u001b[0;36many\u001b[0;34m(*args, **kwargs)\u001b[0m\n",
      "\u001b[0;32m/usr/local/lib/python3.6/site-packages/numpy/core/fromnumeric.py\u001b[0m in \u001b[0;36many\u001b[0;34m(a, axis, out, keepdims)\u001b[0m\n\u001b[1;32m   2315\u001b[0m \u001b[0;34m\u001b[0m\u001b[0m\n\u001b[1;32m   2316\u001b[0m     \"\"\"\n\u001b[0;32m-> 2317\u001b[0;31m     \u001b[0;32mreturn\u001b[0m \u001b[0m_wrapreduction\u001b[0m\u001b[0;34m(\u001b[0m\u001b[0ma\u001b[0m\u001b[0;34m,\u001b[0m \u001b[0mnp\u001b[0m\u001b[0;34m.\u001b[0m\u001b[0mlogical_or\u001b[0m\u001b[0;34m,\u001b[0m \u001b[0;34m'any'\u001b[0m\u001b[0;34m,\u001b[0m \u001b[0maxis\u001b[0m\u001b[0;34m,\u001b[0m \u001b[0;32mNone\u001b[0m\u001b[0;34m,\u001b[0m \u001b[0mout\u001b[0m\u001b[0;34m,\u001b[0m \u001b[0mkeepdims\u001b[0m\u001b[0;34m=\u001b[0m\u001b[0mkeepdims\u001b[0m\u001b[0;34m)\u001b[0m\u001b[0;34m\u001b[0m\u001b[0m\n\u001b[0m\u001b[1;32m   2318\u001b[0m \u001b[0;34m\u001b[0m\u001b[0m\n\u001b[1;32m   2319\u001b[0m \u001b[0;34m\u001b[0m\u001b[0m\n",
      "\u001b[0;32m/usr/local/lib/python3.6/site-packages/numpy/core/fromnumeric.py\u001b[0m in \u001b[0;36m_wrapreduction\u001b[0;34m(obj, ufunc, method, axis, dtype, out, **kwargs)\u001b[0m\n\u001b[1;32m     88\u001b[0m                 \u001b[0;32mreturn\u001b[0m \u001b[0mreduction\u001b[0m\u001b[0;34m(\u001b[0m\u001b[0maxis\u001b[0m\u001b[0;34m=\u001b[0m\u001b[0maxis\u001b[0m\u001b[0;34m,\u001b[0m \u001b[0mout\u001b[0m\u001b[0;34m=\u001b[0m\u001b[0mout\u001b[0m\u001b[0;34m,\u001b[0m \u001b[0;34m**\u001b[0m\u001b[0mpasskwargs\u001b[0m\u001b[0;34m)\u001b[0m\u001b[0;34m\u001b[0m\u001b[0m\n\u001b[1;32m     89\u001b[0m \u001b[0;34m\u001b[0m\u001b[0m\n\u001b[0;32m---> 90\u001b[0;31m     \u001b[0;32mreturn\u001b[0m \u001b[0mufunc\u001b[0m\u001b[0;34m.\u001b[0m\u001b[0mreduce\u001b[0m\u001b[0;34m(\u001b[0m\u001b[0mobj\u001b[0m\u001b[0;34m,\u001b[0m \u001b[0maxis\u001b[0m\u001b[0;34m,\u001b[0m \u001b[0mdtype\u001b[0m\u001b[0;34m,\u001b[0m \u001b[0mout\u001b[0m\u001b[0;34m,\u001b[0m \u001b[0;34m**\u001b[0m\u001b[0mpasskwargs\u001b[0m\u001b[0;34m)\u001b[0m\u001b[0;34m\u001b[0m\u001b[0m\n\u001b[0m\u001b[1;32m     91\u001b[0m \u001b[0;34m\u001b[0m\u001b[0m\n\u001b[1;32m     92\u001b[0m \u001b[0;34m\u001b[0m\u001b[0m\n",
      "\u001b[0;31mKeyboardInterrupt\u001b[0m: "
     ]
    }
   ],
   "source": [
    "#!/usr/bin/env python\n",
    "import networkx as nx\n",
    "import time\n",
    "import sys\n",
    "\n",
    "from networkx.drawing.nx_pydot import read_dot\n",
    "from networkx.drawing.nx_pydot import write_dot\n",
    "\n",
    "def nmatch(n1, n2):\n",
    "    return n1 == n2\n",
    "\n",
    "def ematch(e1, e2):\n",
    "    return e1 == e2\n",
    "\n",
    "def ged(g1,g2):\n",
    "    return nx.graph_edit_distance(g1,g2, node_match=nmatch, edge_match=ematch)\n",
    "\n",
    "g1 = nx.Graph()\n",
    "g1.add_node(0, label='zero')\n",
    "g1.add_node(1, label='one')\n",
    "g1.add_node(2, label='two')\n",
    "g1.add_node(3, label='three')\n",
    "g1.add_node(4, label='four')\n",
    "g1.add_node(5, label='five')\n",
    "g1.add_node(6, label='six')\n",
    "g1.add_node(7, label='seven')\n",
    "g1.add_node(8, label='eight')\n",
    "g1.add_node(9, label='nine')\n",
    "g1.add_node(10, label='ten')\n",
    "g1.add_node(11, label='eleven')\n",
    "g1.add_edge(0, 11, label='11')\n",
    "g1.add_edge(0, 1, label='26')\n",
    "g1.add_edge(0, 3, label='18')\n",
    "g1.add_edge(1, 4, label='6')\n",
    "g1.add_edge(1, 6, label='13')\n",
    "g1.add_edge(3, 4, label='6')\n",
    "g1.add_edge(4, 11, label='11')\n",
    "g1.add_edge(4, 6, label='10')\n",
    "g1.add_edge(6, 11, label='23')\n",
    "g1.add_edge(9, 11, label='10')\n",
    "\n",
    "g2 = nx.Graph()\n",
    "g2.add_node(0, label='zero')\n",
    "g2.add_node(1, label='one')\n",
    "g2.add_node(2, label='two')\n",
    "g2.add_node(3, label='three')\n",
    "g2.add_node(4, label='four')\n",
    "g2.add_node(5, label='five')\n",
    "g2.add_node(6, label='six')\n",
    "g2.add_node(7, label='seven')\n",
    "g2.add_node(8, label='eight')\n",
    "g2.add_node(9, label='nine')\n",
    "g2.add_node(10, label='ten')\n",
    "g2.add_node(11, label='eleven')\n",
    "\n",
    "for i,j,l in [(0,5,'11'), (1,3,'28'), (1,2,'19'), (1,6,'11'),\n",
    "              (1,5,'13'), (2, 5,'7'), (2,6,'25'), (2,4,'4'),\n",
    "              (3,6,'32'), (3,7,'11'), (3,5,'4')]:\n",
    "    print('Adding {0} -> {1} [label={2}]'.format(i, j, l))\n",
    "    sys.stdout.flush()\n",
    "    g2.add_edge(i, j, label=l)\n",
    "    start_time = time.time()\n",
    "    dst = ged(g1, g2)\n",
    "    print('  GED={0} took {1:.2f} seconds'.format(dst, time.time() - start_time))"
   ]
  },
  {
   "cell_type": "markdown",
   "metadata": {},
   "source": [
    "\n",
    "Thus, this algorithm is a problem for my KNN algorithm for the domain of graphs"
   ]
  },
  {
   "cell_type": "code",
   "execution_count": null,
   "metadata": {},
   "outputs": [],
   "source": []
  }
 ],
 "metadata": {
  "kernelspec": {
   "display_name": "Python 3",
   "language": "python",
   "name": "python3"
  },
  "language_info": {
   "codemirror_mode": {
    "name": "ipython",
    "version": 3
   },
   "file_extension": ".py",
   "mimetype": "text/x-python",
   "name": "python",
   "nbconvert_exporter": "python",
   "pygments_lexer": "ipython3",
   "version": "3.6.5"
  }
 },
 "nbformat": 4,
 "nbformat_minor": 2
}
